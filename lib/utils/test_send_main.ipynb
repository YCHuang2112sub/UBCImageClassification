{
 "cells": [
  {
   "cell_type": "code",
   "execution_count": null,
   "metadata": {},
   "outputs": [],
   "source": []
  },
  {
   "cell_type": "markdown",
   "metadata": {},
   "source": [
    "### REF:\n",
    "- [gmail API](https://mailtrap.io/blog/python-send-email-gmail/)"
   ]
  },
  {
   "cell_type": "code",
   "execution_count": null,
   "metadata": {},
   "outputs": [],
   "source": [
    "# !pip install google-auth google-auth-oauthlib google-auth-httplib2 google-api-python-client\n",
    "# !pip install smtplib\n",
    "# !pip install  jinja2"
   ]
  },
  {
   "cell_type": "code",
   "execution_count": 1,
   "metadata": {},
   "outputs": [
    {
     "name": "stdout",
     "output_type": "stream",
     "text": [
      "Please visit this URL to authorize this application: https://accounts.google.com/o/oauth2/auth?response_type=code&client_id=793544947988-j96g49a8pd8nl45sqqcd11fngpqj0c0e.apps.googleusercontent.com&redirect_uri=http%3A%2F%2Flocalhost%3A1696%2F&scope=https%3A%2F%2Fwww.googleapis.com%2Fauth%2Fgmail.send&state=lq4iII5gyzJK2aXiEBCISlHgzD7jX2&access_type=offline\n"
     ]
    }
   ],
   "source": [
    "import base64\n",
    "from email.mime.text import MIMEText\n",
    "from google_auth_oauthlib.flow import InstalledAppFlow\n",
    "from googleapiclient.discovery import build\n",
    "from requests import HTTPError\n",
    "\n",
    "SCOPES = [\n",
    "        \"https://www.googleapis.com/auth/gmail.send\"\n",
    "    ]\n",
    "flow = InstalledAppFlow.from_client_secrets_file('gmail_client_credentials.json', SCOPES)\n",
    "creds = flow.run_local_server(port=0)\n"
   ]
  },
  {
   "cell_type": "code",
   "execution_count": null,
   "metadata": {},
   "outputs": [],
   "source": []
  },
  {
   "cell_type": "code",
   "execution_count": null,
   "metadata": {},
   "outputs": [],
   "source": [
    "\n",
    "service = build('gmail', 'v1', credentials=creds)\n",
    "message = MIMEText('This is the body of the email')\n",
    "message['to'] = 'ychuang2@gmail.com, h123332211@gmail.com'\n",
    "message['subject'] = 'Email Subject'\n",
    "create_message = {'raw': base64.urlsafe_b64encode(message.as_bytes()).decode()}\n",
    "\n",
    "try:\n",
    "    message = (service.users().messages().send(userId=\"me\", body=create_message).execute())\n",
    "    print(F'sent message to {message} Message Id: {message[\"id\"]}')\n",
    "except HTTPError as error:\n",
    "    print(F'An error occurred: {error}')\n",
    "    message = None"
   ]
  },
  {
   "cell_type": "code",
   "execution_count": 1,
   "metadata": {},
   "outputs": [],
   "source": [
    "import base64\n",
    "from email.mime.text import MIMEText\n",
    "from google_auth_oauthlib.flow import InstalledAppFlow\n",
    "from googleapiclient.discovery import build\n",
    "from requests import HTTPError\n",
    "import socket\n",
    "\n",
    "\n",
    "class MailSender():\n",
    "    def __init__(self) -> None:\n",
    "        self.SCOPES = [\n",
    "            \"https://www.googleapis.com/auth/gmail.send\"\n",
    "        ]\n",
    "        self.flow = InstalledAppFlow.from_client_secrets_file('gmail_client_credentials.json', self.SCOPES)\n",
    "        self.creds = self.flow.run_local_server(port=0)\n",
    "        self.service = build('gmail', 'v1', credentials=self.creds) \n",
    "\n",
    "    def send_email(self, to: str, subject: str, body: str) -> None:\n",
    "        message = MIMEText(body)\n",
    "        message['to'] = to\n",
    "        message['subject'] = subject\n",
    "        create_message = {'raw': base64.urlsafe_b64encode(message.as_bytes()).decode()}\n",
    "\n",
    "        try:\n",
    "            message = (self.service.users().messages().send(userId=\"me\", body=create_message).execute())\n",
    "            print(F'sent message to {message} Message Id: {message[\"id\"]}')\n",
    "        except HTTPError as error:\n",
    "            print(F'An error occurred: {error}')\n",
    "            message = None\n",
    "    \n",
    "    def open_sender_server(self) -> None:\n",
    "        mytcp = socket.socket(socket.AF_INET, socket.SOCK_STREAM)\n",
    "        mytcp.bind(('0.0.0.0', 55))\n",
    "        while True:\n",
    "            mytcp.listen(1)\n",
    "            connection, addr = mytcp.accept();\n",
    "            print('Connected with ' + addr[0] + ':' + str(addr[1]))\n",
    "            connection.send(b'Connection: OK\\n')\n",
    "            data_received = \"\"\n",
    "            while True:\n",
    "                data = connection.recv(1024)\n",
    "                if not data: \n",
    "                    break\n",
    "                print(data.decode())\n",
    "                data_received += data.decode()\n",
    "            \n",
    "            print(\"received data: \", data_received)\n",
    "            if data_received == \"command close\":\n",
    "                break\n",
    "        \n",
    "        print('Closing connection')\n",
    "        connection.close()\n",
    "\n",
    "    def send_email_with_attachment(self, to: str, subject: str, body: str, file_path: str) -> None:\n",
    "        pass\n",
    "\n",
    "    def send_email_with_png(self, to: str, subject: str, body: str, png_path: str) -> None:\n",
    "        pass\n"
   ]
  },
  {
   "cell_type": "code",
   "execution_count": 2,
   "metadata": {},
   "outputs": [
    {
     "name": "stdout",
     "output_type": "stream",
     "text": [
      "Please visit this URL to authorize this application: https://accounts.google.com/o/oauth2/auth?response_type=code&client_id=793544947988-j96g49a8pd8nl45sqqcd11fngpqj0c0e.apps.googleusercontent.com&redirect_uri=http%3A%2F%2Flocalhost%3A1922%2F&scope=https%3A%2F%2Fwww.googleapis.com%2Fauth%2Fgmail.send&state=bHYrPhCAw3MHLgHGbHKRnzvpBjmGV1&access_type=offline\n"
     ]
    }
   ],
   "source": [
    "mail_sender = MailSender()"
   ]
  },
  {
   "cell_type": "code",
   "execution_count": null,
   "metadata": {},
   "outputs": [],
   "source": [
    "# sender = \"ychuang2@bu.edu\"\n",
    "receiver = \"ychuang2@bu.edu, h123332211@gmail.com\"\n",
    "subject = \"[Inform] Test Email\"\n",
    "body = \"This is a test email. Job Done.\"\n",
    "mail_sender.send_email(receiver, subject, body)"
   ]
  },
  {
   "cell_type": "code",
   "execution_count": 3,
   "metadata": {},
   "outputs": [
    {
     "name": "stdout",
     "output_type": "stream",
     "text": [
      "Connected with 172.21.144.1:1976\n",
      "Hello, world\n",
      "received data:  Hello, world\n",
      "Connected with 172.21.144.1:1983\n",
      "command close\n",
      "received data:  command close\n",
      "Closing connection\n"
     ]
    }
   ],
   "source": [
    "mail_sender.open_sender_server()"
   ]
  },
  {
   "cell_type": "code",
   "execution_count": null,
   "metadata": {},
   "outputs": [],
   "source": []
  }
 ],
 "metadata": {
  "kernelspec": {
   "display_name": "py39",
   "language": "python",
   "name": "python3"
  },
  "language_info": {
   "codemirror_mode": {
    "name": "ipython",
    "version": 3
   },
   "file_extension": ".py",
   "mimetype": "text/x-python",
   "name": "python",
   "nbconvert_exporter": "python",
   "pygments_lexer": "ipython3",
   "version": "3.9.13"
  }
 },
 "nbformat": 4,
 "nbformat_minor": 2
}
