{
 "cells": [
  {
   "cell_type": "code",
   "execution_count": 1,
   "metadata": {},
   "outputs": [],
   "source": [
    "# !python script.py"
   ]
  },
  {
   "cell_type": "code",
   "execution_count": 1,
   "metadata": {},
   "outputs": [],
   "source": [
    "import torch\n",
    "import torch.nn as nn\n",
    "import torch.optim as optim\n",
    "import torch.nn.functional as F\n",
    "import torchvision\n",
    "import torchvision.transforms as transforms\n",
    "\n",
    "from torch.utils.data import Dataset, DataLoader\n",
    "# from torchvision import models\n",
    "from torchsummary import summary\n",
    "import PIL\n",
    "from PIL import Image\n",
    "\n",
    "import numpy as np\n",
    "import matplotlib.pyplot as plt\n",
    "import time\n",
    "import os\n",
    "import copy\n",
    "import random\n",
    "import pandas as pd\n",
    "import seaborn as sns\n",
    "import pickle\n",
    "\n",
    "from sklearn.model_selection import train_test_split\n",
    "from sklearn.metrics import confusion_matrix\n",
    "from sklearn.metrics import balanced_accuracy_score\n",
    "from sklearn.metrics import confusion_matrix\n",
    "\n",
    "\n",
    "from pathlib import Path\n",
    "from collections import defaultdict\n",
    "from tqdm.notebook import tqdm\n",
    "import validators\n",
    "\n",
    "import argparse\n",
    "import re\n",
    "from collections import Counter\n",
    "\n",
    "import logging\n"
   ]
  },
  {
   "cell_type": "code",
   "execution_count": null,
   "metadata": {},
   "outputs": [],
   "source": []
  },
  {
   "cell_type": "code",
   "execution_count": 2,
   "metadata": {},
   "outputs": [
    {
     "name": "stdout",
     "output_type": "stream",
     "text": [
      "number_of_cpus:  6\n",
      "confined to number_of_cpus:  16\n"
     ]
    }
   ],
   "source": [
    "\n",
    "print(\"number_of_cpus: \", torch.get_num_threads())\n",
    "torch.set_num_threads(16)\n",
    "print(\"confined to number_of_cpus: \", torch.get_num_threads())"
   ]
  },
  {
   "cell_type": "code",
   "execution_count": 3,
   "metadata": {},
   "outputs": [
    {
     "data": {
      "text/plain": [
       "_StoreAction(option_strings=['--eval_patience'], dest='eval_patience', nargs=None, const=None, default=20, type=<class 'int'>, choices=None, required=False, help='patience for early stopping', metavar=None)"
      ]
     },
     "execution_count": 3,
     "metadata": {},
     "output_type": "execute_result"
    }
   ],
   "source": [
    "## using argparse to set parameters\n",
    "parser = argparse.ArgumentParser(description='Train model on UCB Image Dataset')\n",
    "parser.add_argument('--source_dataset_dir', type=str, default='/projectnb/cs640grp/materials/UBC-OCEAN_CS640', help='path to dataset')\n",
    "parser.add_argument('--local_dataset_dir', type=str, default='../../../dataset', help='path to local dataset')\n",
    "parser.add_argument('--model_dir', type=str, default='./model', help='path to tained model')\n",
    "parser.add_argument('--experiment_name', type=str, default='exp_1', help='experiment name')\n",
    "\n",
    "# parser.add_argument('--train_image_folder', type=str, default='img_size_512x512', help='training image folder name')\n",
    "# parser.add_argument('--eval_image_folder', type=str, default='test_img_size_512x512', help='evaluate image folder name')\n",
    "# # parser.add_argument('--train_image_folder', type=str, default='train_images_compressed_80', help='training image folder name')\n",
    "# parser.add_argument('--image_input_size', type=str, default='(512, 512)', help='input image size')\n",
    "parser.add_argument('--train_image_folder', type=str, default='img_size_2048x2048', help='training image folder name')\n",
    "parser.add_argument('--eval_image_folder', type=str, default='test_img_size_2048x2048', help='evaluate image folder name')\n",
    "parser.add_argument('--image_input_size', type=str, default='(2048, 2048)', help='input image size')\n",
    "\n",
    "parser.add_argument('--batch_size', type=int, default=8, help='batch size')\n",
    "# parser.add_argument('--batch_size', type=int, default=4, help='batch size')\n",
    "parser.add_argument('--num_epochs', type=int, default=10, help='number of epochs')\n",
    "parser.add_argument('--lr', type=float, default=0.001, help='learning rate')\n",
    "# parser.add_argument('--momentum', type=float, default=0.9, help='momentum')\n",
    "parser.add_argument('--weight_decay', type=float, default=0.0001, help='weight decay')\n",
    "parser.add_argument('--eval_patience', type=int, default=20, help='patience for early stopping')"
   ]
  },
  {
   "cell_type": "code",
   "execution_count": 4,
   "metadata": {},
   "outputs": [
    {
     "name": "stdout",
     "output_type": "stream",
     "text": [
      "settings: {'source_dataset_dir': '/projectnb/cs640grp/materials/UBC-OCEAN_CS640', 'local_dataset_dir': '../../../dataset', 'model_dir': './model', 'experiment_name': 'exp_1', 'train_image_folder': 'img_size_2048x2048', 'eval_image_folder': 'test_img_size_2048x2048', 'image_input_size': '(2048, 2048)', 'batch_size': 8, 'num_epochs': 10, 'lr': 0.001, 'weight_decay': 0.0001, 'eval_patience': 20}\n"
     ]
    }
   ],
   "source": [
    "setting = None\n",
    "try:\n",
    "    __IPYTHON__\n",
    "    _in_ipython_session = True\n",
    "    settings = parser.parse_args(\"\")\n",
    "except NameError:\n",
    "    _in_ipython_session = False\n",
    "    settings = parser.parse_args()\n",
    "\n",
    "print(\"settings:\", vars(settings))\n",
    "# # save settings in to a log file\n",
    "# with open(Path(settings.model_dir, settings.experiment_name, 'settings.txt'), 'w') as f:\n",
    "#     print(vars(settings), file=f)"
   ]
  },
  {
   "cell_type": "code",
   "execution_count": 5,
   "metadata": {},
   "outputs": [],
   "source": [
    "# settings.image_input_size = (2048, 2048)\n",
    "# settings.train_image_folder = \"img_size_2048x2048\"\n",
    "# settings.test_image_folder = \"test_img_size_2048x2048\""
   ]
  },
  {
   "cell_type": "code",
   "execution_count": 6,
   "metadata": {},
   "outputs": [],
   "source": [
    "image_input_size = eval(settings.image_input_size)\n",
    "assert isinstance(image_input_size, tuple) and len(image_input_size) == 2, \"image_input_size must be a tuple of length 2\"\n",
    "\n",
    "# # vars(settings)\n",
    "# # print(image_input_size)"
   ]
  },
  {
   "cell_type": "code",
   "execution_count": 7,
   "metadata": {},
   "outputs": [],
   "source": [
    "PIL.Image.MAX_IMAGE_PIXELS = 933120000\n",
    "# IMAGE_INPUT_SIZE = (2048, 2048)\n",
    "\n",
    "IMAGE_INPUT_SIZE = image_input_size"
   ]
  },
  {
   "cell_type": "code",
   "execution_count": 8,
   "metadata": {},
   "outputs": [],
   "source": [
    "def create_dir_if_not_exist(dir):\n",
    "    # if not os.path.exists(dir):\n",
    "    #     os.makedirs(dir)\n",
    "    if not Path(dir).exists():\n",
    "        Path(dir).mkdir(parents=True, exist_ok=True)"
   ]
  },
  {
   "cell_type": "code",
   "execution_count": 9,
   "metadata": {},
   "outputs": [
    {
     "name": "stdout",
     "output_type": "stream",
     "text": [
      "RESULT_DIR: result\\exp_1\\img_size_2048x2048_lr_0p001__batch_size_8__num_epochs_10__weight_decay_0p0001__eval_patience_20\n",
      "LOG_DIR: log\\exp_1\n"
     ]
    }
   ],
   "source": [
    "SOURCE_DATASET_DIR = settings.source_dataset_dir\n",
    "# DATASET_PATH = \"dataset\"\n",
    "# TRAIN_IMAGE_FOLDER = \"train_images_compressed_80\"\n",
    "# TEST_IMAGE_FOLDER = \"test_images_compressed_80\"\n",
    "# TRAIN_IMAGE_FOLDER = f\"img_size_{IMAGE_INPUT_SIZE[0]}x{IMAGE_INPUT_SIZE[1]}\"\n",
    "TRAIN_IMAGE_FOLDER = settings.train_image_folder\n",
    "EVAL_IMAGE_FOLDER = settings.eval_image_folder\n",
    "\n",
    "\n",
    "# LOCAL_DATASET_DIR = \"./dataset\"\n",
    "# MODEL_DIR = \"./model/\"\n",
    "# EXPERIMENT_NAME = \"exp_1\"\n",
    "\n",
    "LOCAL_DATASET_DIR = settings.local_dataset_dir\n",
    "MODEL_DIR = settings.model_dir\n",
    "EXPERIMENT_NAME = settings.experiment_name\n",
    "\n",
    "sub_folder_name = f\"img_size_{IMAGE_INPUT_SIZE[0]}x{IMAGE_INPUT_SIZE[1]}_lr_{settings.lr}__batch_size_{settings.batch_size}__num_epochs_{settings.num_epochs}__weight_decay_{settings.weight_decay}__eval_patience_{settings.eval_patience}\"\n",
    "sub_folder_name = re.sub(r\"\\.\", \"p\", sub_folder_name)\n",
    "MODEL_SAVE_DIR = Path(MODEL_DIR, EXPERIMENT_NAME, sub_folder_name)\n",
    "RESULT_DIR = Path(\"./result\", EXPERIMENT_NAME, sub_folder_name)\n",
    "print(\"RESULT_DIR:\", RESULT_DIR)\n",
    "\n",
    "LOG_DIR = Path(\"./log\", EXPERIMENT_NAME)\n",
    "print(\"LOG_DIR:\", LOG_DIR)\n",
    "create_dir_if_not_exist(LOG_DIR)\n"
   ]
  },
  {
   "cell_type": "code",
   "execution_count": 10,
   "metadata": {},
   "outputs": [],
   "source": [
    "# # logging.basicConfig(level=logging.DEBUG)\n",
    "\n",
    "\n",
    "\n",
    "# logging.basicConfig(level=logging.INFO, filename='log.txt', filemode='w',\n",
    "logging.basicConfig(level=logging.DEBUG, filename=LOG_DIR/'log.txt', filemode='w',\n",
    "\tformat='[%(asctime)s %(levelname)-8s] %(message)s',\n",
    "\tdatefmt='%Y%m%d %H:%M:%S',\n",
    "\t)\n",
    "\n",
    "# if __name__ == \"__main__\":\n",
    "# \tlogging.debug('debug')\n",
    "# \tlogging.info('info')\n",
    "# \tlogging.warning('warning')\n",
    "# \tlogging.error('error')\n",
    "# \tlogging.critical('critical')\n",
    "# \ttime.sleep(5)\n"
   ]
  },
  {
   "cell_type": "code",
   "execution_count": 11,
   "metadata": {},
   "outputs": [],
   "source": [
    "# lr = 0.001\n",
    "# # momentum = 0.9\n",
    "# weight_decay = 0.0001\n",
    "# num_epochs = 20\n",
    "# batch_size = 32\n",
    "\n",
    "eval_patience = settings.eval_patience\n",
    "lr = settings.lr\n",
    "# momentum = settings.momentum\n",
    "weight_decay = settings.weight_decay\n",
    "num_epochs = settings.num_epochs\n",
    "batch_size = settings.batch_size"
   ]
  },
  {
   "cell_type": "code",
   "execution_count": 12,
   "metadata": {},
   "outputs": [],
   "source": [
    "create_dir_if_not_exist(LOCAL_DATASET_DIR)"
   ]
  },
  {
   "cell_type": "code",
   "execution_count": 13,
   "metadata": {},
   "outputs": [
    {
     "name": "stdout",
     "output_type": "stream",
     "text": [
      "Using cuda for inference\n"
     ]
    }
   ],
   "source": [
    "device = torch.device(\"cuda\") if torch.cuda.is_available() else torch.device(\"cpu\")\n",
    "print(f'Using {device} for inference')"
   ]
  },
  {
   "cell_type": "code",
   "execution_count": 14,
   "metadata": {},
   "outputs": [],
   "source": [
    "#pandas load data from csv\n",
    "train_csv = None\n",
    "test_csv = None\n",
    "all_labels = None\n",
    "\n",
    "if os.path.exists(Path(LOCAL_DATASET_DIR) / 'train.csv'):\n",
    "    train_csv = pd.read_csv(Path(LOCAL_DATASET_DIR) / 'train.csv').to_numpy()\n",
    "else:\n",
    "    train_csv = pd.read_csv(Path(SOURCE_DATASET_DIR) / 'train.csv').to_numpy()\n",
    "\n",
    "if os.path.exists(Path(LOCAL_DATASET_DIR) / 'test.csv'):\n",
    "    test_csv = pd.read_csv(Path(LOCAL_DATASET_DIR) / 'test.csv').to_numpy()\n",
    "else:\n",
    "    test_csv = pd.read_csv(Path(SOURCE_DATASET_DIR) / 'test.csv').to_numpy()\n",
    "\n",
    "# load npy\n",
    "if os.path.exists(Path(LOCAL_DATASET_DIR) / 'all_labels.npy'):\n",
    "    all_labels = np.load(Path(LOCAL_DATASET_DIR) / 'all_labels.npy')\n",
    "else:\n",
    "    all_labels = np.load(Path(SOURCE_DATASET_DIR) / 'all_labels.npy')\n",
    "\n",
    "\n"
   ]
  },
  {
   "cell_type": "code",
   "execution_count": 15,
   "metadata": {},
   "outputs": [
    {
     "name": "stdout",
     "output_type": "stream",
     "text": [
      "dict_id_to_label: [(0, 'HGSC'), (1, 'EC'), (2, 'MC'), (3, 'CC'), (4, 'LGSC')]\n"
     ]
    }
   ],
   "source": [
    "dict_id_to_label = {i: label for i, label in enumerate(all_labels)}\n",
    "dict_label_to_id = {label: i for i, label in enumerate(all_labels)}\n",
    "\n",
    "\n",
    "print(\"dict_id_to_label:\", sorted(dict_id_to_label.items()))"
   ]
  },
  {
   "cell_type": "code",
   "execution_count": 16,
   "metadata": {},
   "outputs": [],
   "source": [
    "def tran_csv_to_img_path_and_label(x_csv, data_path, image_folder, dict_label_to_id):\n",
    "    x_data = []\n",
    "    for i in range(len(x_csv)):\n",
    "        #get img path\n",
    "        img_name = str(x_csv[i][0]) + \".jpg\"\n",
    "        img_path = Path(data_path)  / image_folder / img_name\n",
    "        # check image is exist\n",
    "        if not img_path.exists():\n",
    "            print(f\"image {img_path} does not exist\")\n",
    "            continue\n",
    "\n",
    "        x_data.append([img_path, dict_label_to_id[x_csv[i][1]]])\n",
    "    return x_data"
   ]
  },
  {
   "cell_type": "code",
   "execution_count": 17,
   "metadata": {},
   "outputs": [
    {
     "name": "stdout",
     "output_type": "stream",
     "text": [
      "train set size: 430\n",
      "valid set size: 108\n",
      "train set category distribution: \n",
      "\t Counter({0: 177, 1: 99, 3: 79, 4: 38, 2: 37})\n",
      "train set category distribution: \n",
      "\t Counter({0: 45, 1: 25, 3: 20, 2: 9, 4: 9})\n"
     ]
    }
   ],
   "source": [
    "train_image_path_and_label = tran_csv_to_img_path_and_label(train_csv, LOCAL_DATASET_DIR, TRAIN_IMAGE_FOLDER, dict_label_to_id)\n",
    "test_image_path_and_label = tran_csv_to_img_path_and_label(test_csv, LOCAL_DATASET_DIR, EVAL_IMAGE_FOLDER, dict_label_to_id)\n",
    "\n",
    "# # Random split\n",
    "# # train_set, valid_set = train_test_split(train_image_path_and_label, test_size=0.2, random_state=42)\n",
    "# train_set, valid_set = train_test_split(train_image_path_and_label, test_size=0.2, random_state=42, \n",
    "#                                         stratify=[x[1] for x in train_image_path_and_label])\n",
    "train_set = train_image_path_and_label\n",
    "valid_set = test_image_path_and_label\n",
    "\n",
    "if EXPERIMENT_NAME == \"efficientnet_b0__train_on_all_data\":\n",
    "    train_set = train_image_path_and_label + test_image_path_and_label\n",
    "\n",
    "print(\"train set size:\", len(train_set))    \n",
    "print(\"valid set size:\", len(valid_set))\n",
    "# print(\"test set size:\", len(test_set))\n",
    "\n",
    "path_list, labels = zip(*train_set)\n",
    "print(\"train set category distribution: \\n\\t\", Counter(labels))\n",
    "\n",
    "path_list, labels = zip(*valid_set)\n",
    "print(\"train set category distribution: \\n\\t\", Counter(labels))"
   ]
  },
  {
   "cell_type": "code",
   "execution_count": 18,
   "metadata": {},
   "outputs": [],
   "source": [
    "def show_img_by_path(img_path):\n",
    "    img = Image.open(img_path)\n",
    "    plt.imshow(img)\n",
    "    plt.show()\n",
    "    print(img.size, type(img))\n",
    "    img = transforms.Resize(IMAGE_INPUT_SIZE)(img)\n",
    "    print(img.size, type(img))\n",
    "    img = transforms.ToTensor()(img)\n",
    "    print(img.shape)\n",
    "    # print(img)\n",
    "    \n",
    "# show_img_by_path(train_set[0][0])"
   ]
  },
  {
   "cell_type": "code",
   "execution_count": 19,
   "metadata": {},
   "outputs": [],
   "source": [
    "from torchvision.io import read_image\n",
    "\n",
    "class UBCDataset(Dataset):\n",
    "    def __init__(self, img_path_and_label, transform=None, target_transform=None, random_add_single_value=False):\n",
    "        self.data = img_path_and_label\n",
    "        self.transform = transform\n",
    "        self.target_transform = target_transform\n",
    "        self.random_add_single_value = random_add_single_value\n",
    "\n",
    "    def __len__(self):\n",
    "        return len(self.data)\n",
    "\n",
    "    def __getitem__(self, idx):\n",
    "        # image = read_image(img_path)\n",
    "        image_path, label = self.data[idx]\n",
    "        image = Image.open(image_path)\n",
    "        # print(np.max(image), np.min(image))\n",
    "\n",
    "        # image_np = np.array(image)\n",
    "        # ### white to black\n",
    "        # mask = (image_np >= np.array([230, 230, 230])).all(axis=-1)\n",
    "        # image_np[mask] = [0, 0, 0]\n",
    "        # image = Image.fromarray(image_np)\n",
    "\n",
    "        if self.transform:\n",
    "            image = self.transform(image)\n",
    "        if self.target_transform:\n",
    "            label = self.target_transform(label)\n",
    "        # print(torch.max(image), torch.min(image))\n",
    "\n",
    "        img_downsampled = transforms.Resize((512, 512), antialias=True)(image)\n",
    "        # print(img_downsampled.shape)\n",
    "        img_10 = image[: , 1024-256:1024+256, 384-256:384+256]\n",
    "        img_11 = image[: , 1024-256:1024+256, 1024-256:1024+256]\n",
    "        img_12 = image[: , 1024-256:1024+256, 2048-384-256:2048-384+256]\n",
    "        \n",
    "        # if self.random_add_single_value:\n",
    "        #     image += torch.randn(1) * 0.01\n",
    "        \n",
    "        return img_downsampled, label, img_10, img_11, img_12\n"
   ]
  },
  {
   "cell_type": "code",
   "execution_count": 20,
   "metadata": {},
   "outputs": [
    {
     "name": "stderr",
     "output_type": "stream",
     "text": [
      "C:\\Users\\benve\\AppData\\Local\\Temp\\ipykernel_28388\\1872759898.py:7: DeprecationWarning: BILINEAR is deprecated and will be removed in Pillow 10 (2023-07-01). Use Resampling.BILINEAR instead.\n",
      "  transforms.RandomAffine(180, translate=(0.1, 0.1), scale=(0.9, 1.1), shear=10, interpolation=PIL.Image.BILINEAR),\n"
     ]
    }
   ],
   "source": [
    "# put data into dataloader\n",
    "train_transform = transforms.Compose([\n",
    "    transforms.Resize(IMAGE_INPUT_SIZE, antialias=True),\n",
    "    transforms.RandomHorizontalFlip(),\n",
    "    transforms.RandomVerticalFlip(),\n",
    "    # transforms.RandomRotation(180),\n",
    "    transforms.RandomAffine(180, translate=(0.1, 0.1), scale=(0.9, 1.1), shear=10, interpolation=PIL.Image.BILINEAR),\n",
    "    transforms.ToTensor(),\n",
    "    transforms.Normalize(mean = [0.485, 0.456, 0.406], std = [0.229, 0.224, 0.225])\n",
    "])\n",
    "\n",
    "# v2.Compose([v2.Resize(256, antialias = True),\n",
    "#                               v2.CenterCrop(224),\n",
    "#                               v2.ToImage(),\n",
    "#                               v2.ToDtype(torch.float32, scale = True),\n",
    "#                               v2.Normalize(mean = [0.485, 0.456, 0.406], std = [0.229, 0.224, 0.225])])\n",
    "\n",
    "\n",
    "test_transform = transforms.Compose([\n",
    "    transforms.Resize(IMAGE_INPUT_SIZE, antialias=True),\n",
    "    transforms.CenterCrop(IMAGE_INPUT_SIZE),\n",
    "    transforms.ToTensor(),\n",
    "    transforms.Normalize(mean = [0.485, 0.456, 0.406], std = [0.229, 0.224, 0.225])\n",
    "])\n",
    "\n",
    "train_dataset = UBCDataset(train_set, transform=train_transform, random_add_single_value=True)\n",
    "valid_dataset = UBCDataset(valid_set, transform=test_transform)\n",
    "# test_dataset = UBCDataset(test_set, transform=test_transform)\n",
    "\n"
   ]
  },
  {
   "cell_type": "code",
   "execution_count": 21,
   "metadata": {},
   "outputs": [],
   "source": [
    "train_dataloader = DataLoader(train_dataset, batch_size=batch_size, shuffle=True, num_workers=0)\n",
    "valid_dataloader = DataLoader(valid_dataset, batch_size=batch_size, shuffle=False, num_workers=0)\n",
    "# test_dataloader = DataLoader(test_dataset, batch_size=batch_size, shuffle=False, num_workers=0)"
   ]
  },
  {
   "cell_type": "code",
   "execution_count": 22,
   "metadata": {},
   "outputs": [
    {
     "data": {
      "application/vnd.jupyter.widget-view+json": {
       "model_id": "7b8e23eeb8914a1fbaa449b05e7b5797",
       "version_major": 2,
       "version_minor": 0
      },
      "text/plain": [
       "  0%|          | 0/14 [00:00<?, ?it/s]"
      ]
     },
     "metadata": {},
     "output_type": "display_data"
    },
    {
     "data": {
      "image/png": "[encoded data removed]",
      "text/plain": [
       "<Figure size 640x480 with 1 Axes>"
      ]
     },
     "metadata": {},
     "output_type": "display_data"
    },
    {
     "data": {
      "image/png": "[encoded data removed]",
      "text/plain": [
       "<Figure size 640x480 with 1 Axes>"
      ]
     },
     "metadata": {},
     "output_type": "display_data"
    },
    {
     "data": {
      "image/png": "[encoded data removed]",
      "text/plain": [
       "<Figure size 640x480 with 1 Axes>"
      ]
     },
     "metadata": {},
     "output_type": "display_data"
    },
    {
     "data": {
      "image/png": "[encoded data removed]",
      "text/plain": [
       "<Figure size 640x480 with 1 Axes>"
      ]
     },
     "metadata": {},
     "output_type": "display_data"
    }
   ],
   "source": [
    "for imgs, labels, imgs_10, imgs_11, imgs_12 in tqdm(valid_dataloader):\n",
    "    # # print(x[0].shape, x[1].shape)\n",
    "    \n",
    "    \n",
    "    # # imgs_downsampled = transforms.Resize((512, 512), antialias=True)(imgs)\n",
    "    image_grid_orig_downsampled = torchvision.utils.make_grid(imgs[:8], nrow=8)\n",
    "\n",
    "    # # print(imgs_downsampled.shape)\n",
    "\n",
    "    # # imgs_10 = imgs[: ,: , 1024-256:1024+256, 384-256:384+256]\n",
    "    # # imgs_11 = imgs[: ,: , 1024-256:1024+256, 1024-256:1024+256]\n",
    "    # # imgs_12 = imgs[: ,: , 1024-256:1024+256, 2048-384-256:2048-384+256]\n",
    "    # # # print(imgs.shape)\n",
    "    # # print(imgs[0])\n",
    "    \n",
    "    image_grid_10 = torchvision.utils.make_grid(imgs_10[:8], nrow=8)\n",
    "    image_grid_11 = torchvision.utils.make_grid(imgs_11[:8], nrow=8)\n",
    "    image_grid_12 = torchvision.utils.make_grid(imgs_12[:8], nrow=8)\n",
    "    plt.figure()\n",
    "    plt.imshow(image_grid_orig_downsampled.permute(1, 2, 0).numpy())\n",
    "    plt.figure()\n",
    "    plt.imshow(image_grid_10.permute(1, 2, 0).numpy())\n",
    "    plt.figure()\n",
    "    plt.imshow(image_grid_11.permute(1, 2, 0).numpy())\n",
    "    plt.figure()\n",
    "    plt.imshow(image_grid_12.permute(1, 2, 0).numpy())\n",
    "    break"
   ]
  },
  {
   "cell_type": "code",
   "execution_count": 23,
   "metadata": {},
   "outputs": [],
   "source": [
    "#show image grid\n",
    "def show_image_grid(dataloader, num_of_images=16):\n",
    "    imgs, labels, imgs_10, imgs_11, imgs_12 = next(iter(dataloader))\n",
    "\n",
    "    # imgs_tmp = imgs.permute(0, 2, 3, 1)\n",
    "    # # mask = (imgs_tmp == torch.tensor([255, 255, 255])).all(dim=3, keepdim=True)\n",
    "    # mask = (imgs_tmp >= torch.tensor([100, 100, 100])).all(dim=3)\n",
    "    # imgs_tmp[mask] = torch.tensor([0, 0, 0]).float()\n",
    "    # imgs = imgs_tmp.permute(0, 3, 1, 2)\n",
    "\n",
    "    image_grid = torchvision.utils.make_grid(imgs[:num_of_images], nrow=8)\n",
    "    plt.imshow(image_grid.permute(1, 2, 0).numpy())\n",
    "    # plt.show()\n",
    "    print(\"labels:\", labels[:num_of_images], [dict_id_to_label[label.item()] for label in labels[:num_of_images]])\n",
    "\n",
    "# # show_image_grid(train_dataloader)\n",
    "# # show_image_grid( DataLoader(train_dataset, batch_size=64, shuffle=True, num_workers=0), 64)\n",
    "# show_image_grid( DataLoader(valid_dataset, batch_size=64, shuffle=False, num_workers=0), 64)"
   ]
  },
  {
   "cell_type": "code",
   "execution_count": 24,
   "metadata": {},
   "outputs": [],
   "source": [
    "# efficientnet = torch.hub.load('NVIDIA/DeepLearningExamples:torchhub', 'nvidia_efficientnet_v2_l', pretrained=True)\n",
    "# efficientnet = torch.hub.load('NVIDIA/DeepLearningExamples:torchhub', 'nvidia_efficientnet_b0', pretrained=True)\n",
    "# efficientnet = torch.hub.load('NVIDIA/DeepLearningExamples:torchhub', 'nvidia_efficientnet_b4', pretrained=True)\n",
    "# efficientnet = torch.hub.load('NVIDIA/DeepLearningExamples:torchhub', 'nvidia_efficientnet_widese_b0', pretrained=True)\n",
    "# efficientnet = torch.hub.load('NVIDIA/DeepLearningExamples:torchhub', 'nvidia_efficientnet_widese_b4', pretrained=True)\n",
    "\n",
    "# print(dir(efficientnet.modules))\n",
    "# print(efficientnet.classifier.fc.in_features)"
   ]
  },
  {
   "cell_type": "code",
   "execution_count": 25,
   "metadata": {},
   "outputs": [
    {
     "name": "stderr",
     "output_type": "stream",
     "text": [
      "Using cache found in C:\\Users\\benve/.cache\\torch\\hub\\NVIDIA_DeepLearningExamples_torchhub\n",
      "C:\\Users\\benve/.cache\\torch\\hub\\NVIDIA_DeepLearningExamples_torchhub\\PyTorch\\Classification\\ConvNets\\image_classification\\models\\common.py:13: UserWarning: pytorch_quantization module not found, quantization will not be available\n",
      "  warnings.warn(\n",
      "C:\\Users\\benve/.cache\\torch\\hub\\NVIDIA_DeepLearningExamples_torchhub\\PyTorch\\Classification\\ConvNets\\image_classification\\models\\efficientnet.py:17: UserWarning: pytorch_quantization module not found, quantization will not be available\n",
      "  warnings.warn(\n",
      "Using cache found in C:\\Users\\benve/.cache\\torch\\hub\\NVIDIA_DeepLearningExamples_torchhub\n"
     ]
    }
   ],
   "source": [
    "efficientnet = torch.hub.load('NVIDIA/DeepLearningExamples:torchhub', 'nvidia_efficientnet_b0', pretrained=True)\n",
    "\n",
    "if EXPERIMENT_NAME == \"efficientnet_b0\":\n",
    "    efficientnet = torch.hub.load('NVIDIA/DeepLearningExamples:torchhub', 'nvidia_efficientnet_b0', pretrained=True)\n",
    "elif EXPERIMENT_NAME == \"efficientnet_b4\":\n",
    "    efficientnet = torch.hub.load('NVIDIA/DeepLearningExamples:torchhub', 'nvidia_efficientnet_b4', pretrained=True)\n",
    "elif EXPERIMENT_NAME == \"efficientnet_widese_b0\":\n",
    "    efficientnet = torch.hub.load('NVIDIA/DeepLearningExamples:torchhub', 'nvidia_efficientnet_widese_b0', pretrained=True)\n",
    "elif EXPERIMENT_NAME == \"efficientnet_widese_b4\":\n",
    "    efficientnet = torch.hub.load('NVIDIA/DeepLearningExamples:torchhub', 'nvidia_efficientnet_widese_b4', pretrained=True)\n",
    "# elif EXPERIMENT_NAME == \"efficientnet_v2_l\":\n",
    "#     efficientnet = torch.hub.load('NVIDIA/DeepLearningExamples:torchhub', 'nvidia_efficientnet_v2_l', pretrained=True)\n",
    "\n",
    "utils = torch.hub.load('NVIDIA/DeepLearningExamples:torchhub', 'nvidia_convnets_processing_utils')\n",
    "\n",
    "# efficientnet.eval().to(device)\n",
    "# vars(efficientnet)\n"
   ]
  },
  {
   "cell_type": "code",
   "execution_count": 28,
   "metadata": {},
   "outputs": [],
   "source": [
    "class Output4CombineModel(nn.Module):\n",
    "    def __init__(self, efficientnet):\n",
    "        super(Output4CombineModel, self).__init__()\n",
    "\n",
    "        self.cnn_input_combine = torch.nn.Sequential(\n",
    "                    torch.nn.Conv2d(in_channels=12, out_channels=16, kernel_size=3, stride=1, padding=1, bias=True),\n",
    "                    torch.nn.ReLU(),\n",
    "                    torch.nn.Conv2d(in_channels=16, out_channels=16, kernel_size=3, stride=1, padding=1, bias=True),\n",
    "                    torch.nn.ReLU(),\n",
    "                    torch.nn.Conv2d(in_channels=16, out_channels=3, kernel_size=3, stride=1, padding=1, bias=True),\n",
    "                    torch.nn.ReLU()\n",
    "                )\n",
    "\n",
    "        self.efficientnet = copy.deepcopy(efficientnet)\n",
    "        self.classifier_in_feature_size = self.efficientnet.classifier.fc.in_features\n",
    "        \n",
    "        self.classifier_head = torch.nn.Sequential(\n",
    "            torch.nn.AdaptiveAvgPool2d(output_size=1),\n",
    "            torch.nn.Flatten(),\n",
    "            torch.nn.Dropout(p=0.2, inplace=False),\n",
    "            torch.nn.Linear(in_features=self.classifier_in_feature_size, out_features=256, bias=True),\n",
    "            torch.nn.ReLU(),\n",
    "            torch.nn.Dropout(p=0.2, inplace=False),\n",
    "            torch.nn.Linear(in_features=256, out_features=5, bias=True),\n",
    "            # torch.nn.Linear(in_features=256, out_features=16, bias=True),\n",
    "        )\n",
    "        self.efficientnet.classifier = self.classifier_head\n",
    "\n",
    "\n",
    "        # self.combined_classifier_head = torch.nn.Sequential(\n",
    "        #     torch.nn.Linear(in_features=16*4, out_features=32, bias=True),\n",
    "        #     torch.nn.ReLU(),\n",
    "        #     torch.nn.Dropout(p=0.2, inplace=False),\n",
    "        #     torch.nn.Linear(in_features=32, out_features=5, bias=True),\n",
    "        # )\n",
    "\n",
    "        self.transform_downsampler = transforms.Resize((512, 512), antialias=True)\n",
    "\n",
    "        self.cnn_input_combine_params = []\n",
    "        for name, params in self.cnn_input_combine.named_parameters():\n",
    "            self.cnn_input_combine_params.append(params)\n",
    "\n",
    "        self.feature_extractor_params = []\n",
    "        for name, params in self.efficientnet.named_parameters():\n",
    "            if(name[:10] == \"classifier\"):\n",
    "                continue\n",
    "            self.feature_extractor_params.append(params)\n",
    "\n",
    "        self.classifier_head_params = []\n",
    "        for name, params in self.classifier_head.named_parameters():\n",
    "            self.classifier_head_params.append(params)\n",
    "\n",
    "        # self.combined_classifier_head_params = []\n",
    "        # for name, params in self.combined_classifier_head.named_parameters():\n",
    "        #     self.combined_classifier_head_params.append(params)\n",
    "\n",
    "    def forward(self, imgs, imgs_10, imgs_11, imgs_12):\n",
    "        # imgs_downsampled = self.transform_downsampler(imgs)\n",
    "        concat_in = torch.concat([imgs, imgs_10, imgs_11, imgs_12], dim=1)\n",
    "        combine_in = self.cnn_input_combine(concat_in)\n",
    "        outputs = self.efficientnet(combine_in)\n",
    "        # f_orig = self.efficientnet(imgs)\n",
    "        # f_10 = self.efficientnet(imgs_10)\n",
    "        # f_11 = self.efficientnet(imgs_11)\n",
    "        # f_12 = self.efficientnet(imgs_12)\n",
    "        # comb_f = torch.concat([f_orig, f_10, f_11, f_12], dim=1)\n",
    "        # print(comb_f.shape)\n",
    "        # outputs = self.combined_classifier_head(comb_f)\n",
    "        \n",
    "        \n",
    "        return outputs, combine_in\n",
    "            \n"
   ]
  },
  {
   "cell_type": "code",
   "execution_count": 29,
   "metadata": {},
   "outputs": [],
   "source": [
    "# model_raw = efficientnet\n",
    "# classifier_in_feature_size = model_raw.classifier.fc.in_features\n",
    "# classifier_head = torch.nn.Sequential(\n",
    "#     torch.nn.AdaptiveAvgPool2d(output_size=1),\n",
    "#     torch.nn.Flatten(),\n",
    "#     torch.nn.Dropout(p=0.2, inplace=False),\n",
    "#     torch.nn.Linear(in_features=classifier_in_feature_size, out_features=256, bias=True),\n",
    "#     torch.nn.ReLU(),\n",
    "#     torch.nn.Dropout(p=0.2, inplace=False),\n",
    "#     # torch.nn.Linear(in_features=256, out_features=5, bias=True),\n",
    "#     torch.nn.Linear(in_features=256, out_features=16, bias=True),\n",
    "# )\n",
    "# model_raw.classifier = classifier_head\n",
    "# model_raw = model_raw.to(device)\n",
    "\n",
    "\n",
    "\n",
    "# combined_classifier_head = torch.nn.Sequential(\n",
    "#     torch.nn.Linear(in_features=16*4, out_features=32, bias=True),\n",
    "#     torch.nn.ReLU(),\n",
    "#     torch.nn.Dropout(p=0.2, inplace=False),\n",
    "#     torch.nn.Linear(in_features=32, out_features=5, bias=True),\n",
    "# )\n",
    "# combined_classifier_head = combined_classifier_head.to(device)\n",
    "\n",
    "\n",
    "\n",
    "\n",
    "# feature_extractor_params = []\n",
    "# for name, params in model_raw.named_parameters():\n",
    "#     if(name[:10] == \"classifier\"):\n",
    "#         continue\n",
    "#     feature_extractor_params.append(params)\n",
    "\n",
    "# classifier_head_params = []\n",
    "# for name, params in classifier_head.named_parameters():\n",
    "#     classifier_head_params.append(params)\n",
    "\n",
    "# combined_classifier_head_params = []\n",
    "# for name, params in combined_classifier_head.named_parameters():\n",
    "#     combined_classifier_head_params.append(params)\n",
    "\n",
    "model_raw = Output4CombineModel(efficientnet)\n",
    "model_raw = model_raw.to(device)\n",
    "cnn_input_combine_params = model_raw.cnn_input_combine_params\n",
    "feature_extractor_params = model_raw.feature_extractor_params\n",
    "classifier_head_params = model_raw.classifier_head_params\n",
    "# combined_classifier_head_params = model_raw.combined_classifier_head_params\n"
   ]
  },
  {
   "cell_type": "code",
   "execution_count": 30,
   "metadata": {},
   "outputs": [],
   "source": [
    "# print(\"feature_extractor_params:\", len(feature_extractor_params))\n",
    "# print(classifier_head_params)\n"
   ]
  },
  {
   "cell_type": "code",
   "execution_count": 31,
   "metadata": {},
   "outputs": [],
   "source": [
    "# summary(model_raw, (3, ) + IMAGE_INPUT_SIZE, device=device.type)\n",
    "# summary(model_raw, [(3, ) + (512, 512), (3, ) + (512, 512), (3, ) + (512, 512), (3, ) + (512, 512)], device=device.type)"
   ]
  },
  {
   "cell_type": "code",
   "execution_count": 33,
   "metadata": {},
   "outputs": [],
   "source": [
    "\n",
    "criteria = nn.CrossEntropyLoss()\n",
    "# optimizer = optim.Adam(model_raw.classifier.parameters(), lr=lr, weight_decay=weight_decay)\n",
    "optimizer = optim.Adam([{ \"params\":cnn_input_combine_params, \"lr\":lr},\n",
    "                        {\"params\":feature_extractor_params, \"lr\":1e-7}, \n",
    "                        {\"params\":classifier_head_params, \"lr\":lr},\n",
    "                        # {\"params\":combined_classifier_head_params, \"lr\":lr}\n",
    "                        ], \n",
    "                       lr=lr, weight_decay=weight_decay)\n",
    "\n"
   ]
  },
  {
   "cell_type": "code",
   "execution_count": 34,
   "metadata": {},
   "outputs": [],
   "source": [
    "\n",
    "\n",
    "def get_category_accuracy(y_gt: np.array, y_pred: np.array, n_category):\n",
    "    # category_accuracy = np.zeros(n_category)\n",
    "\n",
    "    assert(len(y_gt) == len(y_pred))\n",
    "    assert(len(y_gt.shape) == 1 and len(y_pred.shape) == 1)\n",
    "\n",
    "    cat_mask_2d = (y_gt == np.arange(n_category).reshape(-1, 1))\n",
    "    category_accuracy = ((y_gt == y_pred) * cat_mask_2d).sum(axis=1) / cat_mask_2d.sum(axis=1)\n",
    "\n",
    "    return category_accuracy\n",
    "\n",
    "# a = np.random.randint(0, 5, 10)\n",
    "# b = np.random.randint(0, 5, 10)\n",
    "# print(\"a:\", a)\n",
    "# print(\"b:\", b)\n",
    "\n",
    "# # print(\"get_category_accuracy:\", get_category_accuracy(y_gt=a, y_pred=b, n_category=5))\n",
    "# category_accuracy = get_category_accuracy(y_gt=np.array(a), y_pred=np.array(b), n_category=5)\n",
    "# print(\"category_accuracy:\", category_accuracy)\n",
    "# print(str(category_accuracy))\n",
    "# print(type(category_accuracy[0]))\n",
    "# confusion_matrix_result = confusion_matrix(y_true=a, y_pred=b, labels=[0, 1, 2, 3, 4])\n",
    "# print(\"get_category_accuracy:\" + str(category_accuracy))\n"
   ]
  },
  {
   "cell_type": "code",
   "execution_count": 35,
   "metadata": {},
   "outputs": [],
   "source": [
    "def evaluation(model, valid_dataloader, criteria, device):\n",
    "        model.eval()\n",
    "        valid_loss = 0.0\n",
    "        valid_corrects = 0\n",
    "\n",
    "        y_gt = []\n",
    "        y_pred = []\n",
    "\n",
    "        # for imgs, labels in tqdm(valid_dataloader):\n",
    "        for imgs, labels, imgs_10, imgs_11, imgs_12 in tqdm(valid_dataloader):\n",
    "            imgs = imgs.to(device)\n",
    "            labels = labels.to(device)\n",
    "\n",
    "            imgs_10 = imgs_10.to(device)\n",
    "            imgs_11 = imgs_11.to(device)\n",
    "            imgs_12 = imgs_12.to(device)\n",
    "\n",
    "            # imgs_downsampled = transforms.Resize((512, 512), antialias=True)(imgs)\n",
    "            # imgs_10 = imgs[: ,: , 1024-256:1024+256, 384-256:384+256]\n",
    "            # imgs_11 = imgs[: ,: , 1024-256:1024+256, 1024-256:1024+256]\n",
    "            # imgs_12 = imgs[: ,: , 1024-256:1024+256, 2048-384-256:2048-384+256]\n",
    "            # # imgs_in = torch.concat([imgs_downsampled, imgs_10, imgs_11, imgs_12], dim=1)\n",
    "\n",
    "            # outputs_orig = model(imgs_downsampled)\n",
    "            # outputs_orig = model(imgs)\n",
    "            # outputs_10 = model(imgs_10)\n",
    "            # outputs_11 = model(imgs_11)\n",
    "            # outputs_12 = model(imgs_12)\n",
    "            \n",
    "\n",
    "            with torch.no_grad():\n",
    "                outputs, combine_in = model(imgs, imgs_10, imgs_11, imgs_12)\n",
    "\n",
    "                # similarity_scores_a00 = torch.matmul(f_orig, f_10.T)\n",
    "                # similarity_scores_a01 = torch.matmul(f_orig, f_11.T)\n",
    "                # similarity_scores_a02 = torch.matmul(f_orig, f_12.T)\n",
    "                # similarity_scores_a03 = torch.matmul(f_10, f_11.T)\n",
    "                # similarity_scores_a04 = torch.matmul(f_10, f_11.T)\n",
    "                # similarity_scores_a05 = torch.matmul(f_11, f_12.T)\n",
    "\n",
    "                # gt_similarity = torch.eye(similarity_scores_a00.shape[0], device=similarity_scores_a00.device)\n",
    "                # loss_similarity = criteria(similarity_scores_a00, gt_similarity) + \\\n",
    "                #                     criteria(similarity_scores_a01, gt_similarity) + \\\n",
    "                #                     criteria(similarity_scores_a02, gt_similarity) + \\\n",
    "                #                     criteria(similarity_scores_a03, gt_similarity) + \\\n",
    "                #                     criteria(similarity_scores_a04, gt_similarity) + \\\n",
    "                #                     criteria(similarity_scores_a05, gt_similarity)    \n",
    "\n",
    "\n",
    "                _, preds = torch.max(outputs, -1)\n",
    "                loss_classification = criteria(outputs, labels)\n",
    "\n",
    "                # loss = loss_classification + loss_similarity / 6.0\n",
    "                loss = loss_classification\n",
    "\n",
    "                # # outputs = model(imgs_in)\n",
    "                # # outputs = model(imgs)\n",
    "                # _, preds = torch.max(outputs, -1)\n",
    "                # loss = criteria(outputs, labels)\n",
    "\n",
    "            valid_loss += loss.item() * imgs.size(0)\n",
    "            valid_corrects += torch.sum(preds == labels.data).detach().cpu().numpy()\n",
    "\n",
    "            y_gt.extend(labels.data.cpu().numpy().reshape(-1))\n",
    "            y_pred.extend(preds.cpu().numpy().reshape(-1))\n",
    "\n",
    "\n",
    "        # print(y_gt)\n",
    "        # print(y_pred)\n",
    "        confusion_matrix_result = confusion_matrix(y_gt, y_pred)\n",
    "        print(\"confusion_matrix_result:\\n\" + str(confusion_matrix_result))\n",
    "        logging.info(\"confusion_matrix_result:\\n\" + str(confusion_matrix_result))\n",
    "\n",
    "        category_accuracy = get_category_accuracy(y_gt=np.array(y_gt), y_pred=np.array(y_pred), n_category=5)\n",
    "        print(\"get_category_accuracy:\" + str(category_accuracy))\n",
    "        logging.info(\"get_category_accuracy:\" + str(category_accuracy))\n",
    "        \n",
    "        valid_loss = valid_loss / len(valid_dataloader.dataset)\n",
    "        valid_acc = valid_corrects / len(valid_dataloader.dataset)\n",
    "\n",
    "        valid_balanced_acc = balanced_accuracy_score(y_gt, y_pred)\n",
    "\n",
    "        return valid_loss, valid_acc, valid_balanced_acc, y_pred, y_gt"
   ]
  },
  {
   "cell_type": "code",
   "execution_count": 36,
   "metadata": {},
   "outputs": [],
   "source": [
    "def train(model, train_dataloader, valid_dataloader, optimizer, criteria, num_epochs, eval_patience, device):\n",
    "    train_loss_list = []\n",
    "    train_acc_list = []\n",
    "    train_balanced_acc_list = []\n",
    "\n",
    "    valid_loss_list = []\n",
    "    valid_acc_list = []\n",
    "    valid_balanced_acc_list = []\n",
    "\n",
    "    best_valid_loss = float('inf')\n",
    "    best_valid_acc = -0.0001\n",
    "    best_valid_balanced_acc = -0.0001\n",
    "\n",
    "    best_model_valid_loss = None\n",
    "    best_model_valid_acc = None\n",
    "    best_model_valid_balanced_acc = None\n",
    "\n",
    "    start_time = time.time()\n",
    "\n",
    "    counter_eval_not_improve = 0\n",
    "\n",
    "    for epoch in range(num_epochs):\n",
    "        print(f'Epoch {epoch + 1}/{num_epochs}')\n",
    "        print('-' * 10)\n",
    "        logging.info(f'Epoch {epoch + 1}/{num_epochs}')\n",
    "        logging.info('-' * 10)\n",
    "\n",
    "        model.train()\n",
    "        train_loss = 0.0\n",
    "        train_corrects = 0\n",
    "        \n",
    "        y_gt = []\n",
    "        y_pred = []\n",
    "\n",
    "        # for imgs, labels in tqdm(train_dataloader):\n",
    "        for imgs, labels, imgs_10, imgs_11, imgs_12  in tqdm(train_dataloader):\n",
    "            imgs = imgs.to(device)\n",
    "            labels = labels.to(device)\n",
    "\n",
    "            imgs_10 = imgs_10.to(device)\n",
    "            imgs_11 = imgs_11.to(device)\n",
    "            imgs_12 = imgs_12.to(device)\n",
    "\n",
    "\n",
    "    \n",
    "            # imgs_downsampled = transforms.Resize((512, 512), antialias=True)(imgs)\n",
    "            # imgs_10 = imgs[: ,: , 1024-256:1024+256, 384-256:384+256]\n",
    "            # imgs_11 = imgs[: ,: , 1024-256:1024+256, 1024-256:1024+256]\n",
    "            # imgs_12 = imgs[: ,: , 1024-256:1024+256, 2048-384-256:2048-384+256]\n",
    "            # imgs_in = torch.concat([imgs_downsampled, imgs_10, imgs_11, imgs_12], dim=1)\n",
    "\n",
    "            # # outputs_orig = model(imgs_downsampled)\n",
    "            # outputs_orig = model(imgs)\n",
    "            # outputs_10 = model(imgs_10)\n",
    "            # outputs_11 = model(imgs_11)\n",
    "            # outputs_12 = model(imgs_12)\n",
    "            \n",
    "            outputs, combine_in = model(imgs, imgs_10, imgs_11, imgs_12)\n",
    "            # outputs = outputs_orig\n",
    "            # outputs = model(imgs)\n",
    "\n",
    "            # similarity_scores_a00 = torch.matmul(f_orig, f_10.T)\n",
    "            # similarity_scores_a01 = torch.matmul(f_orig, f_11.T)\n",
    "            # similarity_scores_a02 = torch.matmul(f_orig, f_12.T)\n",
    "            # similarity_scores_a03 = torch.matmul(f_10, f_11.T)\n",
    "            # similarity_scores_a04 = torch.matmul(f_10, f_11.T)\n",
    "            # similarity_scores_a05 = torch.matmul(f_11, f_12.T)\n",
    "\n",
    "            # gt_similarity = torch.eye(similarity_scores_a00.shape[0], device=similarity_scores_a00.device)\n",
    "            # loss_similarity = criteria(similarity_scores_a00, gt_similarity) + \\\n",
    "            #                     criteria(similarity_scores_a01, gt_similarity) + \\\n",
    "            #                     criteria(similarity_scores_a02, gt_similarity) + \\\n",
    "            #                     criteria(similarity_scores_a03, gt_similarity) + \\\n",
    "            #                     criteria(similarity_scores_a04, gt_similarity) + \\\n",
    "            #                     criteria(similarity_scores_a05, gt_similarity)    \n",
    "\n",
    "\n",
    "            _, preds = torch.max(outputs, -1)\n",
    "            loss_classification = criteria(outputs, labels)\n",
    "\n",
    "            loss = loss_classification\n",
    "            # loss = loss_classification + loss_similarity / 6.0\n",
    "\n",
    "            optimizer.zero_grad()\n",
    "            loss.backward()\n",
    "            optimizer.step()\n",
    "\n",
    "            train_loss += loss.item() * imgs.size(0)\n",
    "            train_corrects += torch.sum(preds == labels.data).detach().cpu().numpy()\n",
    "\n",
    "            y_gt.extend(labels.data.cpu().numpy().reshape(-1))\n",
    "            y_pred.extend(preds.cpu().numpy().reshape(-1))\n",
    "\n",
    "\n",
    "        # print(y_gt)\n",
    "        # print(y_pred)\n",
    "        confusion_matrix_result = confusion_matrix(y_gt, y_pred)\n",
    "        print(\"confusion_matrix_result:\\n\" + str(confusion_matrix_result))\n",
    "        logging.info(\"confusion_matrix_result:\\n\" + str(confusion_matrix_result))\n",
    "\n",
    "        category_accuracy = get_category_accuracy(y_gt=np.array(y_gt), y_pred=np.array(y_pred), n_category=5)\n",
    "        print(\"get_category_accuracy:\" + str(category_accuracy))\n",
    "        logging.info(\"get_category_accuracy:\" + str(category_accuracy))\n",
    "        \n",
    "        train_loss = train_loss / len(train_dataloader.dataset)\n",
    "        train_acc = train_corrects / len(train_dataloader.dataset)\n",
    "        train_balanced_acc = balanced_accuracy_score(y_gt, y_pred)\n",
    "        train_loss_list.append(train_loss)\n",
    "        train_acc_list.append(train_acc)\n",
    "        train_balanced_acc_list.append(train_balanced_acc)\n",
    "\n",
    "        print(f'Train loss: {train_loss:.4f} Acc: {train_acc:.4f} Balanced Acc: {train_balanced_acc:.4f}')\n",
    "        logging.info(f'Train loss: {train_loss:.4f} Acc: {train_acc:.4f} Balanced Acc: {train_balanced_acc:.4f}')\n",
    "        print(\"id_to_label:\", sorted(dict_id_to_label.items()))\n",
    "        logging.info(\"id_to_label:\" + str(sorted(dict_id_to_label.items())))\n",
    "        elapsed_time = time.time() - start_time\n",
    "        print(f'Elapsed time: {time.strftime(\"%H:%M:%S\", time.gmtime(elapsed_time))}')\n",
    "        logging.info(f'Elapsed time: {time.strftime(\"%H:%M:%S\", time.gmtime(elapsed_time))}')\n",
    "\n",
    "        valid_loss, valid_acc, valid_balanced_acc, _, _ = evaluation(model, valid_dataloader, criteria, device)\n",
    "\n",
    "        valid_loss_list.append(valid_loss)\n",
    "        valid_acc_list.append(valid_acc)\n",
    "        valid_balanced_acc_list.append(valid_balanced_acc)\n",
    "\n",
    "        if valid_loss < best_valid_loss:\n",
    "            best_valid_loss = valid_loss\n",
    "            best_model_valid_loss = copy.deepcopy(model)\n",
    "        \n",
    "        if valid_acc > best_valid_acc:\n",
    "            best_valid_acc = valid_acc\n",
    "            best_model_valid_acc = copy.deepcopy(model)\n",
    "        # else:\n",
    "        #     counter_eval_not_improve += 1\n",
    "\n",
    "        if valid_balanced_acc > best_valid_balanced_acc:\n",
    "            best_valid_balanced_acc = valid_balanced_acc\n",
    "            best_model_valid_balanced_acc = copy.deepcopy(model)\n",
    "        else:\n",
    "            counter_eval_not_improve += 1\n",
    "\n",
    "\n",
    "        print(f'Valid loss: {valid_loss:.4f} Acc: {valid_acc:.4f} Balanced Acc: {valid_balanced_acc:.4f}')\n",
    "        logging.info(f'Valid loss: {valid_loss:.4f} Acc: {valid_acc:.4f} Balanced Acc: {valid_balanced_acc:.4f}')\n",
    "        print(\"id_to_label:\", sorted(dict_id_to_label.items()))\n",
    "        logging.info(\"id_to_label:\" + str(sorted(dict_id_to_label.items())))\n",
    "        elapsed_time = time.time() - start_time\n",
    "        print(f'Elapsed time: {time.strftime(\"%H:%M:%S\", time.gmtime(elapsed_time))}\\n\\n')\n",
    "        logging.info(f'Elapsed time: {time.strftime(\"%H:%M:%S\", time.gmtime(elapsed_time))}\\n\\n')\n",
    "\n",
    "        if counter_eval_not_improve >= eval_patience:\n",
    "            print(f'Early stopping at epoch {epoch + 1}')\n",
    "            logging.info(f'Early stopping at epoch {epoch + 1}')\n",
    "            break\n",
    "        else:\n",
    "            counter_eval_not_improve = 0\n",
    "\n",
    "    return model, best_model_valid_acc, best_model_valid_loss, best_model_valid_balanced_acc, \\\n",
    "           train_loss_list, train_acc_list, train_balanced_acc_list, \\\n",
    "           valid_loss_list, valid_acc_list, valid_balanced_acc_list, \\\n",
    "           best_valid_loss, best_valid_acc"
   ]
  },
  {
   "cell_type": "code",
   "execution_count": 37,
   "metadata": {},
   "outputs": [],
   "source": [
    "def store_result(best_model_valid_acc, best_model_valid_loss, best_model_valid_balanced_acc, \\\n",
    "                 train_loss_list, train_acc_list, train_balanced_acc_list, \\\n",
    "                 valid_loss_list, valid_acc_list, valid_balanced_acc_list):\n",
    "    create_dir_if_not_exist(MODEL_SAVE_DIR)\n",
    "    create_dir_if_not_exist(RESULT_DIR)\n",
    "\n",
    "    torch.save(best_model_valid_acc.state_dict(), Path(MODEL_SAVE_DIR) / \"best_model_valid_acc.pth\")\n",
    "    torch.save(best_model_valid_loss.state_dict(), Path(MODEL_SAVE_DIR) / \"best_model_valid_loss.pth\")\n",
    "    torch.save(best_model_valid_balanced_acc.state_dict(), Path(MODEL_SAVE_DIR) / \"best_model_valid_balanced_acc.pth\")\n",
    "\n",
    "    with open(Path(RESULT_DIR) / \"train_loss_list.pkl\", \"wb\") as f:\n",
    "        pickle.dump(train_loss_list, f)\n",
    "    with open(Path(RESULT_DIR) / \"train_acc_list.pkl\", \"wb\") as f:\n",
    "        pickle.dump(train_acc_list, f)\n",
    "    with open(Path(RESULT_DIR) / \"train_balanced_acc_list.pkl\", \"wb\") as f:\n",
    "        pickle.dump(train_balanced_acc_list, f)\n",
    "\n",
    "    with open(Path(RESULT_DIR) / \"valid_loss_list.pkl\", \"wb\") as f:\n",
    "        pickle.dump(valid_loss_list, f)\n",
    "    with open(Path(RESULT_DIR) / \"valid_acc_list.pkl\", \"wb\") as f:\n",
    "        pickle.dump(valid_acc_list, f)\n",
    "    with open(Path(RESULT_DIR) / \"valid_balanced_acc_list.pkl\", \"wb\") as f:\n",
    "        pickle.dump(valid_balanced_acc_list, f)\n"
   ]
  },
  {
   "cell_type": "code",
   "execution_count": 38,
   "metadata": {},
   "outputs": [],
   "source": [
    "def plot_train_eval_result(\n",
    "           train_loss_list, train_acc_list, train_balanced_acc_list, \\\n",
    "           valid_loss_list, valid_acc_list, valid_balanced_acc_list):\n",
    "    epochs = np.arange(1, len(train_loss_list) + 1)\n",
    "\n",
    "    plt.figure(figsize=(10, 10))\n",
    "    plt.subplot(3, 1, 1)\n",
    "    plt.plot(epochs, train_loss_list, label='train')\n",
    "    plt.plot(epochs, valid_loss_list, label='valid')\n",
    "    plt.title('Loss')\n",
    "    plt.legend()\n",
    "    plt.xlabel('Epoch')\n",
    "    plt.ylabel('Loss')\n",
    "    \n",
    "    plt.subplot(3, 1, 2)\n",
    "    plt.plot(epochs, [x*100 for x in train_acc_list], label='train')\n",
    "    plt.plot(epochs, [x*100 for x in valid_acc_list], label='valid')\n",
    "    plt.title('Accuracy')\n",
    "    plt.legend()\n",
    "    plt.xlabel('Epoch')\n",
    "    plt.ylabel('Accuracy (%)')\n",
    "\n",
    "    plt.subplot(3, 1, 3)\n",
    "    plt.plot(epochs, [x*100 for x in train_balanced_acc_list], label='train')\n",
    "    plt.plot(epochs, [x*100 for x in valid_balanced_acc_list], label='valid')\n",
    "    plt.title('Balanced Accuracy')\n",
    "    plt.legend()\n",
    "    plt.xlabel('Epoch')\n",
    "    plt.ylabel('Balanced Accuracy (%)')\n",
    "\n",
    "    plt.tight_layout()"
   ]
  },
  {
   "cell_type": "code",
   "execution_count": 39,
   "metadata": {},
   "outputs": [
    {
     "name": "stdout",
     "output_type": "stream",
     "text": [
      "Epoch 1/10\n",
      "----------\n"
     ]
    },
    {
     "data": {
      "application/vnd.jupyter.widget-view+json": {
       "model_id": "d8def5de88b048b6b20a3f0d60ad0338",
       "version_major": 2,
       "version_minor": 0
      },
      "text/plain": [
       "  0%|          | 0/54 [00:00<?, ?it/s]"
      ]
     },
     "metadata": {},
     "output_type": "display_data"
    },
    {
     "name": "stdout",
     "output_type": "stream",
     "text": [
      "confusion_matrix_result:\n",
      "[[156  15   2   4   0]\n",
      " [ 87  10   0   2   0]\n",
      " [ 32   3   0   2   0]\n",
      " [ 70   7   0   2   0]\n",
      " [ 36   2   0   0   0]]\n",
      "get_category_accuracy:[0.88135593 0.1010101  0.         0.02531646 0.        ]\n",
      "Train loss: 1.4507 Acc: 0.3907 Balanced Acc: 0.2015\n",
      "id_to_label: [(0, 'HGSC'), (1, 'EC'), (2, 'MC'), (3, 'CC'), (4, 'LGSC')]\n",
      "Elapsed time: 00:03:00\n"
     ]
    },
    {
     "data": {
      "application/vnd.jupyter.widget-view+json": {
       "model_id": "df9bf3c3a6384639891ade81bb15d21e",
       "version_major": 2,
       "version_minor": 0
      },
      "text/plain": [
       "  0%|          | 0/14 [00:00<?, ?it/s]"
      ]
     },
     "metadata": {},
     "output_type": "display_data"
    },
    {
     "name": "stdout",
     "output_type": "stream",
     "text": [
      "confusion_matrix_result:\n",
      "[[ 0  0  3 42  0]\n",
      " [ 0  0  1 24  0]\n",
      " [ 0  0  2  7  0]\n",
      " [ 0  0  0 20  0]\n",
      " [ 1  0  0  8  0]]\n",
      "get_category_accuracy:[0.         0.         0.22222222 1.         0.        ]\n",
      "Valid loss: 1.6016 Acc: 0.2037 Balanced Acc: 0.2444\n",
      "id_to_label: [(0, 'HGSC'), (1, 'EC'), (2, 'MC'), (3, 'CC'), (4, 'LGSC')]\n",
      "Elapsed time: 00:03:17\n",
      "\n",
      "\n",
      "Epoch 2/10\n",
      "----------\n"
     ]
    },
    {
     "data": {
      "application/vnd.jupyter.widget-view+json": {
       "model_id": "da4cddef341644bc8e89d44756351905",
       "version_major": 2,
       "version_minor": 0
      },
      "text/plain": [
       "  0%|          | 0/54 [00:00<?, ?it/s]"
      ]
     },
     "metadata": {},
     "output_type": "display_data"
    },
    {
     "name": "stdout",
     "output_type": "stream",
     "text": [
      "confusion_matrix_result:\n",
      "[[139  24   0  14   0]\n",
      " [ 69  23   0   7   0]\n",
      " [ 28   8   0   1   0]\n",
      " [ 54   7   0  18   0]\n",
      " [ 28   6   0   4   0]]\n",
      "get_category_accuracy:[0.78531073 0.23232323 0.         0.2278481  0.        ]\n",
      "Train loss: 1.3832 Acc: 0.4186 Balanced Acc: 0.2491\n",
      "id_to_label: [(0, 'HGSC'), (1, 'EC'), (2, 'MC'), (3, 'CC'), (4, 'LGSC')]\n",
      "Elapsed time: 00:06:09\n"
     ]
    },
    {
     "data": {
      "application/vnd.jupyter.widget-view+json": {
       "model_id": "17e7d8e042cb4c0db5e2b1b6e335f7f5",
       "version_major": 2,
       "version_minor": 0
      },
      "text/plain": [
       "  0%|          | 0/14 [00:00<?, ?it/s]"
      ]
     },
     "metadata": {},
     "output_type": "display_data"
    },
    {
     "name": "stdout",
     "output_type": "stream",
     "text": [
      "confusion_matrix_result:\n",
      "[[44  0  0  1  0]\n",
      " [24  0  0  1  0]\n",
      " [ 9  0  0  0  0]\n",
      " [20  0  0  0  0]\n",
      " [ 8  0  0  1  0]]\n",
      "get_category_accuracy:[0.97777778 0.         0.         0.         0.        ]\n",
      "Valid loss: 1.4837 Acc: 0.4074 Balanced Acc: 0.1956\n",
      "id_to_label: [(0, 'HGSC'), (1, 'EC'), (2, 'MC'), (3, 'CC'), (4, 'LGSC')]\n",
      "Elapsed time: 00:06:25\n",
      "\n",
      "\n",
      "Epoch 3/10\n",
      "----------\n"
     ]
    },
    {
     "data": {
      "application/vnd.jupyter.widget-view+json": {
       "model_id": "c859e393d0e94f0b98e682fc1a30371a",
       "version_major": 2,
       "version_minor": 0
      },
      "text/plain": [
       "  0%|          | 0/54 [00:00<?, ?it/s]"
      ]
     },
     "metadata": {},
     "output_type": "display_data"
    },
    {
     "name": "stdout",
     "output_type": "stream",
     "text": [
      "confusion_matrix_result:\n",
      "[[151  11   1  13   1]\n",
      " [ 63  29   0   6   1]\n",
      " [ 21  11   3   0   2]\n",
      " [ 52   7   0  18   2]\n",
      " [ 26   8   0   4   0]]\n",
      "get_category_accuracy:[0.85310734 0.29292929 0.08108108 0.2278481  0.        ]\n",
      "Train loss: 1.3044 Acc: 0.4674 Balanced Acc: 0.2910\n",
      "id_to_label: [(0, 'HGSC'), (1, 'EC'), (2, 'MC'), (3, 'CC'), (4, 'LGSC')]\n",
      "Elapsed time: 00:09:21\n"
     ]
    },
    {
     "data": {
      "application/vnd.jupyter.widget-view+json": {
       "model_id": "e78afc839041495db89ab1c2bb5afcc9",
       "version_major": 2,
       "version_minor": 0
      },
      "text/plain": [
       "  0%|          | 0/14 [00:00<?, ?it/s]"
      ]
     },
     "metadata": {},
     "output_type": "display_data"
    },
    {
     "name": "stdout",
     "output_type": "stream",
     "text": [
      "confusion_matrix_result:\n",
      "[[26  0  0 19  0]\n",
      " [13  0  0 12  0]\n",
      " [ 3  0  0  6  0]\n",
      " [10  0  0 10  0]\n",
      " [ 5  0  0  4  0]]\n",
      "get_category_accuracy:[0.57777778 0.         0.         0.5        0.        ]\n",
      "Valid loss: 1.4742 Acc: 0.3333 Balanced Acc: 0.2156\n",
      "id_to_label: [(0, 'HGSC'), (1, 'EC'), (2, 'MC'), (3, 'CC'), (4, 'LGSC')]\n",
      "Elapsed time: 00:09:36\n",
      "\n",
      "\n",
      "Epoch 4/10\n",
      "----------\n"
     ]
    },
    {
     "data": {
      "application/vnd.jupyter.widget-view+json": {
       "model_id": "1c5a29d578ce4a35ab2080b6e2540914",
       "version_major": 2,
       "version_minor": 0
      },
      "text/plain": [
       "  0%|          | 0/54 [00:00<?, ?it/s]"
      ]
     },
     "metadata": {},
     "output_type": "display_data"
    },
    {
     "name": "stdout",
     "output_type": "stream",
     "text": [
      "confusion_matrix_result:\n",
      "[[144  18   2  13   0]\n",
      " [ 61  26   6   6   0]\n",
      " [ 21   7   8   1   0]\n",
      " [ 54   5   1  19   0]\n",
      " [ 26   5   0   5   2]]\n",
      "get_category_accuracy:[0.81355932 0.26262626 0.21621622 0.24050633 0.05263158]\n",
      "Train loss: 1.3062 Acc: 0.4628 Balanced Acc: 0.3171\n",
      "id_to_label: [(0, 'HGSC'), (1, 'EC'), (2, 'MC'), (3, 'CC'), (4, 'LGSC')]\n",
      "Elapsed time: 00:12:39\n"
     ]
    },
    {
     "data": {
      "application/vnd.jupyter.widget-view+json": {
       "model_id": "62accc0e501d4b95b70e1b0b69815926",
       "version_major": 2,
       "version_minor": 0
      },
      "text/plain": [
       "  0%|          | 0/14 [00:00<?, ?it/s]"
      ]
     },
     "metadata": {},
     "output_type": "display_data"
    },
    {
     "name": "stdout",
     "output_type": "stream",
     "text": [
      "confusion_matrix_result:\n",
      "[[23  1  0 21  0]\n",
      " [ 9  2  0 14  0]\n",
      " [ 2  0  1  6  0]\n",
      " [ 7  0  0 13  0]\n",
      " [ 3  1  0  5  0]]\n",
      "get_category_accuracy:[0.51111111 0.08       0.11111111 0.65       0.        ]\n",
      "Valid loss: 1.4687 Acc: 0.3611 Balanced Acc: 0.2704\n",
      "id_to_label: [(0, 'HGSC'), (1, 'EC'), (2, 'MC'), (3, 'CC'), (4, 'LGSC')]\n",
      "Elapsed time: 00:12:55\n",
      "\n",
      "\n",
      "Epoch 5/10\n",
      "----------\n"
     ]
    },
    {
     "data": {
      "application/vnd.jupyter.widget-view+json": {
       "model_id": "9e400be823b740c8bc1580d0c9fcc9d1",
       "version_major": 2,
       "version_minor": 0
      },
      "text/plain": [
       "  0%|          | 0/54 [00:00<?, ?it/s]"
      ]
     },
     "metadata": {},
     "output_type": "display_data"
    },
    {
     "name": "stdout",
     "output_type": "stream",
     "text": [
      "confusion_matrix_result:\n",
      "[[138  18   3  16   2]\n",
      " [ 51  37   2   8   1]\n",
      " [ 17  17   2   1   0]\n",
      " [ 42   9   0  26   2]\n",
      " [ 26   5   2   3   2]]\n",
      "get_category_accuracy:[0.77966102 0.37373737 0.05405405 0.32911392 0.05263158]\n",
      "Train loss: 1.2776 Acc: 0.4767 Balanced Acc: 0.3178\n",
      "id_to_label: [(0, 'HGSC'), (1, 'EC'), (2, 'MC'), (3, 'CC'), (4, 'LGSC')]\n",
      "Elapsed time: 00:15:59\n"
     ]
    },
    {
     "data": {
      "application/vnd.jupyter.widget-view+json": {
       "model_id": "058cf212c28747319a16f787969bf3f7",
       "version_major": 2,
       "version_minor": 0
      },
      "text/plain": [
       "  0%|          | 0/14 [00:00<?, ?it/s]"
      ]
     },
     "metadata": {},
     "output_type": "display_data"
    },
    {
     "name": "stdout",
     "output_type": "stream",
     "text": [
      "confusion_matrix_result:\n",
      "[[17  2  1 25  0]\n",
      " [ 3  9  0 12  1]\n",
      " [ 0  0  1  8  0]\n",
      " [ 2  1  0 17  0]\n",
      " [ 3  0  1  5  0]]\n",
      "get_category_accuracy:[0.37777778 0.36       0.11111111 0.85       0.        ]\n",
      "Valid loss: 1.4128 Acc: 0.4074 Balanced Acc: 0.3398\n",
      "id_to_label: [(0, 'HGSC'), (1, 'EC'), (2, 'MC'), (3, 'CC'), (4, 'LGSC')]\n",
      "Elapsed time: 00:16:13\n",
      "\n",
      "\n",
      "Epoch 6/10\n",
      "----------\n"
     ]
    },
    {
     "data": {
      "application/vnd.jupyter.widget-view+json": {
       "model_id": "aacb51ecdc674cee94214108f9a21711",
       "version_major": 2,
       "version_minor": 0
      },
      "text/plain": [
       "  0%|          | 0/54 [00:00<?, ?it/s]"
      ]
     },
     "metadata": {},
     "output_type": "display_data"
    },
    {
     "name": "stdout",
     "output_type": "stream",
     "text": [
      "confusion_matrix_result:\n",
      "[[135  26   3  12   1]\n",
      " [ 54  35   3   7   0]\n",
      " [ 15  15   4   3   0]\n",
      " [ 38   5   1  34   1]\n",
      " [ 23   7   3   4   1]]\n",
      "get_category_accuracy:[0.76271186 0.35353535 0.10810811 0.43037975 0.02631579]\n",
      "Train loss: 1.2299 Acc: 0.4860 Balanced Acc: 0.3362\n",
      "id_to_label: [(0, 'HGSC'), (1, 'EC'), (2, 'MC'), (3, 'CC'), (4, 'LGSC')]\n",
      "Elapsed time: 00:19:12\n"
     ]
    },
    {
     "data": {
      "application/vnd.jupyter.widget-view+json": {
       "model_id": "418ffde71f7f4f7e8c0fa5681856f381",
       "version_major": 2,
       "version_minor": 0
      },
      "text/plain": [
       "  0%|          | 0/14 [00:00<?, ?it/s]"
      ]
     },
     "metadata": {},
     "output_type": "display_data"
    },
    {
     "name": "stdout",
     "output_type": "stream",
     "text": [
      "confusion_matrix_result:\n",
      "[[13  8  0 24  0]\n",
      " [ 4  9  0 11  1]\n",
      " [ 0  2  2  5  0]\n",
      " [ 2  2  1 13  2]\n",
      " [ 4  1  0  2  2]]\n",
      "get_category_accuracy:[0.28888889 0.36       0.22222222 0.65       0.22222222]\n",
      "Valid loss: 1.3682 Acc: 0.3611 Balanced Acc: 0.3487\n",
      "id_to_label: [(0, 'HGSC'), (1, 'EC'), (2, 'MC'), (3, 'CC'), (4, 'LGSC')]\n",
      "Elapsed time: 00:19:27\n",
      "\n",
      "\n",
      "Epoch 7/10\n",
      "----------\n"
     ]
    },
    {
     "data": {
      "application/vnd.jupyter.widget-view+json": {
       "model_id": "c67fcb0a1a7e499ead874b5464f53e73",
       "version_major": 2,
       "version_minor": 0
      },
      "text/plain": [
       "  0%|          | 0/54 [00:00<?, ?it/s]"
      ]
     },
     "metadata": {},
     "output_type": "display_data"
    },
    {
     "name": "stdout",
     "output_type": "stream",
     "text": [
      "confusion_matrix_result:\n",
      "[[135  22   1  16   3]\n",
      " [ 37  47   0  14   1]\n",
      " [ 11  15   6   5   0]\n",
      " [ 35   9   0  35   0]\n",
      " [ 23   6   1   3   5]]\n",
      "get_category_accuracy:[0.76271186 0.47474747 0.16216216 0.44303797 0.13157895]\n",
      "Train loss: 1.2076 Acc: 0.5302 Balanced Acc: 0.3948\n",
      "id_to_label: [(0, 'HGSC'), (1, 'EC'), (2, 'MC'), (3, 'CC'), (4, 'LGSC')]\n",
      "Elapsed time: 00:22:25\n"
     ]
    },
    {
     "data": {
      "application/vnd.jupyter.widget-view+json": {
       "model_id": "e20d955fb26040afb8c9fe8eeaa2723f",
       "version_major": 2,
       "version_minor": 0
      },
      "text/plain": [
       "  0%|          | 0/14 [00:00<?, ?it/s]"
      ]
     },
     "metadata": {},
     "output_type": "display_data"
    },
    {
     "name": "stdout",
     "output_type": "stream",
     "text": [
      "confusion_matrix_result:\n",
      "[[10  9  0 24  2]\n",
      " [ 4 10  0 10  1]\n",
      " [ 0  3  2  4  0]\n",
      " [ 0  2  0 16  2]\n",
      " [ 4  1  0  2  2]]\n",
      "get_category_accuracy:[0.22222222 0.4        0.22222222 0.8        0.22222222]\n",
      "Valid loss: 1.3686 Acc: 0.3704 Balanced Acc: 0.3733\n",
      "id_to_label: [(0, 'HGSC'), (1, 'EC'), (2, 'MC'), (3, 'CC'), (4, 'LGSC')]\n",
      "Elapsed time: 00:22:39\n",
      "\n",
      "\n",
      "Epoch 8/10\n",
      "----------\n"
     ]
    },
    {
     "data": {
      "application/vnd.jupyter.widget-view+json": {
       "model_id": "1e7525a653074499a39aaff52be0a61d",
       "version_major": 2,
       "version_minor": 0
      },
      "text/plain": [
       "  0%|          | 0/54 [00:00<?, ?it/s]"
      ]
     },
     "metadata": {},
     "output_type": "display_data"
    },
    {
     "name": "stdout",
     "output_type": "stream",
     "text": [
      "confusion_matrix_result:\n",
      "[[135  21   3  16   2]\n",
      " [ 50  33   5  10   1]\n",
      " [ 15  10   9   1   2]\n",
      " [ 35  11   1  28   4]\n",
      " [ 19   5   1   6   7]]\n",
      "get_category_accuracy:[0.76271186 0.33333333 0.24324324 0.35443038 0.18421053]\n",
      "Train loss: 1.2180 Acc: 0.4930 Balanced Acc: 0.3756\n",
      "id_to_label: [(0, 'HGSC'), (1, 'EC'), (2, 'MC'), (3, 'CC'), (4, 'LGSC')]\n",
      "Elapsed time: 00:25:34\n"
     ]
    },
    {
     "data": {
      "application/vnd.jupyter.widget-view+json": {
       "model_id": "3501d2c5d47d4993a3775e87125990ba",
       "version_major": 2,
       "version_minor": 0
      },
      "text/plain": [
       "  0%|          | 0/14 [00:00<?, ?it/s]"
      ]
     },
     "metadata": {},
     "output_type": "display_data"
    },
    {
     "name": "stdout",
     "output_type": "stream",
     "text": [
      "confusion_matrix_result:\n",
      "[[29  4  0 11  1]\n",
      " [ 8  8  0  8  1]\n",
      " [ 0  4  2  3  0]\n",
      " [ 3  1  0 15  1]\n",
      " [ 4  1  0  4  0]]\n",
      "get_category_accuracy:[0.64444444 0.32       0.22222222 0.75       0.        ]\n",
      "Valid loss: 1.2177 Acc: 0.5000 Balanced Acc: 0.3873\n",
      "id_to_label: [(0, 'HGSC'), (1, 'EC'), (2, 'MC'), (3, 'CC'), (4, 'LGSC')]\n",
      "Elapsed time: 00:25:49\n",
      "\n",
      "\n",
      "Epoch 9/10\n",
      "----------\n"
     ]
    },
    {
     "data": {
      "application/vnd.jupyter.widget-view+json": {
       "model_id": "7fa706ad509d4825aa32b1777bd6393c",
       "version_major": 2,
       "version_minor": 0
      },
      "text/plain": [
       "  0%|          | 0/54 [00:00<?, ?it/s]"
      ]
     },
     "metadata": {},
     "output_type": "display_data"
    },
    {
     "name": "stdout",
     "output_type": "stream",
     "text": [
      "confusion_matrix_result:\n",
      "[[133  27   2  12   3]\n",
      " [ 37  48   2  11   1]\n",
      " [ 15   6  13   2   1]\n",
      " [ 29  10   1  38   1]\n",
      " [ 22   4   1   5   6]]\n",
      "get_category_accuracy:[0.75141243 0.48484848 0.35135135 0.48101266 0.15789474]\n",
      "Train loss: 1.1643 Acc: 0.5535 Balanced Acc: 0.4453\n",
      "id_to_label: [(0, 'HGSC'), (1, 'EC'), (2, 'MC'), (3, 'CC'), (4, 'LGSC')]\n",
      "Elapsed time: 00:28:46\n"
     ]
    },
    {
     "data": {
      "application/vnd.jupyter.widget-view+json": {
       "model_id": "b293faa799224e368e7bc62569134196",
       "version_major": 2,
       "version_minor": 0
      },
      "text/plain": [
       "  0%|          | 0/14 [00:00<?, ?it/s]"
      ]
     },
     "metadata": {},
     "output_type": "display_data"
    },
    {
     "name": "stdout",
     "output_type": "stream",
     "text": [
      "confusion_matrix_result:\n",
      "[[32  1  0  8  4]\n",
      " [10  5  0  8  2]\n",
      " [ 2  1  1  4  1]\n",
      " [ 8  0  0 11  1]\n",
      " [ 4  0  0  3  2]]\n",
      "get_category_accuracy:[0.71111111 0.2        0.11111111 0.55       0.22222222]\n",
      "Valid loss: 1.2121 Acc: 0.4722 Balanced Acc: 0.3589\n",
      "id_to_label: [(0, 'HGSC'), (1, 'EC'), (2, 'MC'), (3, 'CC'), (4, 'LGSC')]\n",
      "Elapsed time: 00:29:00\n",
      "\n",
      "\n",
      "Epoch 10/10\n",
      "----------\n"
     ]
    },
    {
     "data": {
      "application/vnd.jupyter.widget-view+json": {
       "model_id": "843ae2380c2c4b3fbb64ca15071086b2",
       "version_major": 2,
       "version_minor": 0
      },
      "text/plain": [
       "  0%|          | 0/54 [00:00<?, ?it/s]"
      ]
     },
     "metadata": {},
     "output_type": "display_data"
    },
    {
     "name": "stdout",
     "output_type": "stream",
     "text": [
      "confusion_matrix_result:\n",
      "[[124  27   2  19   5]\n",
      " [ 41  36   5  15   2]\n",
      " [ 11  10  12   4   0]\n",
      " [ 25  15   1  37   1]\n",
      " [ 14   6   3   4  11]]\n",
      "get_category_accuracy:[0.70056497 0.36363636 0.32432432 0.46835443 0.28947368]\n",
      "Train loss: 1.1930 Acc: 0.5116 Balanced Acc: 0.4293\n",
      "id_to_label: [(0, 'HGSC'), (1, 'EC'), (2, 'MC'), (3, 'CC'), (4, 'LGSC')]\n",
      "Elapsed time: 00:31:57\n"
     ]
    },
    {
     "data": {
      "application/vnd.jupyter.widget-view+json": {
       "model_id": "4d5a161c35844be88141f181a13ef393",
       "version_major": 2,
       "version_minor": 0
      },
      "text/plain": [
       "  0%|          | 0/14 [00:00<?, ?it/s]"
      ]
     },
     "metadata": {},
     "output_type": "display_data"
    },
    {
     "name": "stdout",
     "output_type": "stream",
     "text": [
      "confusion_matrix_result:\n",
      "[[35  1  0  3  6]\n",
      " [13  1  0  6  5]\n",
      " [ 2  2  2  2  1]\n",
      " [ 6  1  0  8  5]\n",
      " [ 3  0  0  2  4]]\n",
      "get_category_accuracy:[0.77777778 0.04       0.22222222 0.4        0.44444444]\n",
      "Valid loss: 1.1911 Acc: 0.4630 Balanced Acc: 0.3769\n",
      "id_to_label: [(0, 'HGSC'), (1, 'EC'), (2, 'MC'), (3, 'CC'), (4, 'LGSC')]\n",
      "Elapsed time: 00:32:11\n",
      "\n",
      "\n",
      "best_valid_loss: 1.1910643886636805\n",
      "best_valid_acc: 0.5\n",
      "best_valid_balanced_acc: 0.3873333333333333\n"
     ]
    }
   ],
   "source": [
    "model_trained, best_model_valid_acc, best_model_valid_loss, best_model_valid_balanced_acc, \\\n",
    "train_loss_list, train_acc_list, train_balanced_acc_list, \\\n",
    "valid_loss_list, valid_acc_list, valid_balanced_acc_list, \\\n",
    "best_valid_loss, best_valid_acc = \\\n",
    "train(model_raw, train_dataloader, valid_dataloader, optimizer, criteria, num_epochs, eval_patience, device)\n",
    "\n",
    "print(\"best_valid_loss:\", np.min(valid_loss_list))\n",
    "print(\"best_valid_acc:\", np.max(valid_acc_list))\n",
    "print(\"best_valid_balanced_acc:\", np.max(valid_balanced_acc_list))\n"
   ]
  },
  {
   "cell_type": "code",
   "execution_count": null,
   "metadata": {},
   "outputs": [],
   "source": [
    "# # train_loss_list = [data.cpu().item() for data in train_loss_list]\n",
    "# train_acc_list = [data.cpu().item() for data in train_acc_list]\n",
    "# # valid_loss_list = [data.cpu().item() for data in valid_loss_list]\n",
    "# valid_acc_list = [data.cpu().item() for data in valid_acc_list]"
   ]
  },
  {
   "cell_type": "code",
   "execution_count": null,
   "metadata": {},
   "outputs": [],
   "source": [
    "store_result(best_model_valid_acc, best_model_valid_loss, best_model_valid_balanced_acc, \\\n",
    "             train_loss_list, train_acc_list, train_balanced_acc_list, \\\n",
    "             valid_loss_list, valid_acc_list, valid_balanced_acc_list)"
   ]
  },
  {
   "cell_type": "code",
   "execution_count": null,
   "metadata": {},
   "outputs": [],
   "source": [
    "plot_train_eval_result(\n",
    "           train_loss_list, train_acc_list, train_balanced_acc_list, \\\n",
    "           valid_loss_list, valid_acc_list, valid_balanced_acc_list)\n"
   ]
  },
  {
   "cell_type": "code",
   "execution_count": null,
   "metadata": {},
   "outputs": [],
   "source": []
  },
  {
   "cell_type": "code",
   "execution_count": null,
   "metadata": {},
   "outputs": [],
   "source": [
    "valid_loss, valid_acc, valid_balanced_acc, y_pred, y_gt = evaluation(best_model_valid_acc, valid_dataloader, criteria, device)\n",
    "\n",
    "print(\"valid_loss:\", valid_loss, \"valid_acc:\", valid_acc, \"valid_balanced_acc:\", valid_balanced_acc)\n",
    "\n",
    "path_list, labels = zip(*valid_set)\n",
    "for pred, gt, label, path in zip(y_pred, y_gt, labels, path_list):\n",
    "    # if pred != gt:\n",
    "    # if gt != label:\n",
    "    filename = path.name\n",
    "    print(f\"pred: {dict_id_to_label[pred]}, gt: {dict_id_to_label[gt]}, label: {dict_id_to_label[label]}, filename: {filename}\")"
   ]
  },
  {
   "cell_type": "code",
   "execution_count": null,
   "metadata": {},
   "outputs": [],
   "source": [
    "print(f\"pred: {dict_id_to_label[pred]}, gt: {dict_id_to_label[gt]}, label: {dict_id_to_label[label]}, filename: {filename}\")\n",
    "# put pred, gt, label, filename into a dataframe\n",
    "pd_predict = pd.DataFrame({\"image_id\": [path.name.split(\".\")[0] for path in path_list], \"label\": y_pred, \"gt\": y_gt})\n",
    "# display(pd_predict)\n",
    "pd_predict.to_csv(Path(RESULT_DIR) / \"pd_predict.csv\", index=False)"
   ]
  },
  {
   "cell_type": "markdown",
   "metadata": {},
   "source": []
  },
  {
   "cell_type": "code",
   "execution_count": null,
   "metadata": {},
   "outputs": [],
   "source": [
    "# efficientnet = torch.hub.load('NVIDIA/DeepLearningExamples:torchhub', 'nvidia_efficientnet_b0', pretrained=True)\n",
    "# utils = torch.hub.load('NVIDIA/DeepLearningExamples:torchhub', 'nvidia_convnets_processing_utils')\n",
    "\n",
    "# efficientnet.eval().to(device)\n"
   ]
  },
  {
   "cell_type": "code",
   "execution_count": null,
   "metadata": {},
   "outputs": [],
   "source": [
    "# # Download an example image\n",
    "# import urllib\n",
    "# url, filename = (\"https://github.com/mateuszbuda/brain-segmentation-pytorch/raw/master/assets/TCGA_CS_4944.png\", \"TCGA_CS_4944.png\")\n",
    "# try: urllib.URLopener().retrieve(url, filename)\n",
    "# except: urllib.request.urlretrieve(url, filename)\n"
   ]
  },
  {
   "cell_type": "code",
   "execution_count": null,
   "metadata": {},
   "outputs": [],
   "source": [
    "# model = torch.hub.load('mateuszbuda/brain-segmentation-pytorch', 'unet',\n",
    "#     in_channels=3, out_channels=1, init_features=32, pretrained=True)\n"
   ]
  },
  {
   "cell_type": "code",
   "execution_count": null,
   "metadata": {},
   "outputs": [],
   "source": [
    "# import numpy as np\n",
    "# from PIL import Image\n",
    "# from torchvision import transforms\n",
    "\n",
    "# input_image = Image.open(filename)\n",
    "# m, s = np.mean(input_image, axis=(0, 1)), np.std(input_image, axis=(0, 1))\n",
    "# preprocess = transforms.Compose([\n",
    "#     transforms.ToTensor(),\n",
    "#     transforms.Normalize(mean=m, std=s),\n",
    "# ])\n",
    "# input_tensor = preprocess(input_image)\n",
    "# input_batch = input_tensor.unsqueeze(0)\n",
    "\n",
    "# if torch.cuda.is_available():\n",
    "#     input_batch = input_batch.to('cuda')\n",
    "#     model = model.to('cuda')\n",
    "\n",
    "# with torch.no_grad():\n",
    "#     output = model(input_batch)\n",
    "\n",
    "# print(torch.round(output[0]))"
   ]
  },
  {
   "cell_type": "code",
   "execution_count": null,
   "metadata": {},
   "outputs": [],
   "source": []
  }
 ],
 "metadata": {
  "kernelspec": {
   "display_name": "py39",
   "language": "python",
   "name": "python3"
  },
  "language_info": {
   "codemirror_mode": {
    "name": "ipython",
    "version": 3
   },
   "file_extension": ".py",
   "mimetype": "text/x-python",
   "name": "python",
   "nbconvert_exporter": "python",
   "pygments_lexer": "ipython3",
   "version": "3.9.13"
  }
 },
 "nbformat": 4,
 "nbformat_minor": 2
}
