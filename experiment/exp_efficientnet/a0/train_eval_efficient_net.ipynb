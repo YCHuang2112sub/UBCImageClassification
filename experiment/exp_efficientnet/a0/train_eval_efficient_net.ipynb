{
 "cells": [
  {
   "cell_type": "code",
   "execution_count": 248,
   "metadata": {},
   "outputs": [],
   "source": [
    "# !python script.py"
   ]
  },
  {
   "cell_type": "code",
   "execution_count": 249,
   "metadata": {},
   "outputs": [],
   "source": [
    "import torch\n",
    "import torch.nn as nn\n",
    "import torch.optim as optim\n",
    "import torch.nn.functional as F\n",
    "import torchvision\n",
    "import torchvision.transforms as transforms\n",
    "\n",
    "from torch.utils.data import Dataset, DataLoader\n",
    "# from torchvision import models\n",
    "from torchsummary import summary\n",
    "import PIL\n",
    "from PIL import Image\n",
    "\n",
    "import numpy as np\n",
    "import matplotlib.pyplot as plt\n",
    "import time\n",
    "import os\n",
    "import copy\n",
    "import random\n",
    "import pandas as pd\n",
    "import seaborn as sns\n",
    "import pickle\n",
    "\n",
    "from sklearn.model_selection import train_test_split\n",
    "from sklearn.metrics import confusion_matrix\n",
    "from sklearn.metrics import balanced_accuracy_score\n",
    "from sklearn.metrics import confusion_matrix\n",
    "\n",
    "\n",
    "from pathlib import Path\n",
    "from collections import defaultdict\n",
    "from tqdm.notebook import tqdm\n",
    "import validators\n",
    "\n",
    "import argparse\n",
    "import re\n",
    "from collections import Counter\n",
    "\n",
    "import logging\n"
   ]
  },
  {
   "cell_type": "code",
   "execution_count": null,
   "metadata": {},
   "outputs": [],
   "source": []
  },
  {
   "cell_type": "code",
   "execution_count": 250,
   "metadata": {},
   "outputs": [
    {
     "name": "stdout",
     "output_type": "stream",
     "text": [
      "number_of_cpus:  16\n",
      "confined to number_of_cpus:  16\n"
     ]
    }
   ],
   "source": [
    "\n",
    "print(\"number_of_cpus: \", torch.get_num_threads())\n",
    "torch.set_num_threads(16)\n",
    "print(\"confined to number_of_cpus: \", torch.get_num_threads())"
   ]
  },
  {
   "cell_type": "code",
   "execution_count": 251,
   "metadata": {},
   "outputs": [
    {
     "data": {
      "text/plain": [
       "_StoreAction(option_strings=['--eval_patience'], dest='eval_patience', nargs=None, const=None, default=20, type=<class 'int'>, choices=None, required=False, help='patience for early stopping', metavar=None)"
      ]
     },
     "execution_count": 251,
     "metadata": {},
     "output_type": "execute_result"
    }
   ],
   "source": [
    "## using argparse to set parameters\n",
    "parser = argparse.ArgumentParser(description='Train model on UCB Image Dataset')\n",
    "parser.add_argument('--source_dataset_dir', type=str, default='/projectnb/cs640grp/materials/UBC-OCEAN_CS640', help='path to dataset')\n",
    "parser.add_argument('--local_dataset_dir', type=str, default='../../../dataset', help='path to local dataset')\n",
    "parser.add_argument('--model_dir', type=str, default='./model', help='path to tained model')\n",
    "parser.add_argument('--experiment_name', type=str, default='exp_1', help='experiment name')\n",
    "\n",
    "parser.add_argument('--train_image_folder', type=str, default='img_size_512x512', help='training image folder name')\n",
    "parser.add_argument('--eval_image_folder', type=str, default='test_img_size_512x512', help='evaluate image folder name')\n",
    "# parser.add_argument('--train_image_folder', type=str, default='train_images_compressed_80', help='training image folder name')\n",
    "parser.add_argument('--image_input_size', type=str, default='(512, 512)', help='input image size')\n",
    "parser.add_argument('--batch_size', type=int, default=8, help='batch size')\n",
    "parser.add_argument('--num_epochs', type=int, default=10, help='number of epochs')\n",
    "parser.add_argument('--lr', type=float, default=0.001, help='learning rate')\n",
    "# parser.add_argument('--momentum', type=float, default=0.9, help='momentum')\n",
    "parser.add_argument('--weight_decay', type=float, default=0.0001, help='weight decay')\n",
    "parser.add_argument('--eval_patience', type=int, default=20, help='patience for early stopping')"
   ]
  },
  {
   "cell_type": "code",
   "execution_count": 252,
   "metadata": {},
   "outputs": [
    {
     "name": "stdout",
     "output_type": "stream",
     "text": [
      "settings: {'source_dataset_dir': '/projectnb/cs640grp/materials/UBC-OCEAN_CS640', 'local_dataset_dir': '../../../dataset', 'model_dir': './model', 'experiment_name': 'exp_1', 'train_image_folder': 'img_size_512x512', 'eval_image_folder': 'test_img_size_512x512', 'image_input_size': '(512, 512)', 'batch_size': 8, 'num_epochs': 10, 'lr': 0.001, 'weight_decay': 0.0001, 'eval_patience': 20}\n"
     ]
    }
   ],
   "source": [
    "setting = None\n",
    "try:\n",
    "    __IPYTHON__\n",
    "    _in_ipython_session = True\n",
    "    settings = parser.parse_args(\"\")\n",
    "except NameError:\n",
    "    _in_ipython_session = False\n",
    "    settings = parser.parse_args()\n",
    "\n",
    "print(\"settings:\", vars(settings))\n",
    "# # save settings in to a log file\n",
    "# with open(Path(settings.model_dir, settings.experiment_name, 'settings.txt'), 'w') as f:\n",
    "#     print(vars(settings), file=f)"
   ]
  },
  {
   "cell_type": "code",
   "execution_count": 253,
   "metadata": {},
   "outputs": [],
   "source": [
    "image_input_size = eval(settings.image_input_size)\n",
    "assert isinstance(image_input_size, tuple) and len(image_input_size) == 2, \"image_input_size must be a tuple of length 2\"\n",
    "\n",
    "# # vars(settings)\n",
    "# # print(image_input_size)"
   ]
  },
  {
   "cell_type": "code",
   "execution_count": 254,
   "metadata": {},
   "outputs": [],
   "source": [
    "PIL.Image.MAX_IMAGE_PIXELS = 933120000\n",
    "# IMAGE_INPUT_SIZE = (2048, 2048)\n",
    "\n",
    "IMAGE_INPUT_SIZE = image_input_size"
   ]
  },
  {
   "cell_type": "code",
   "execution_count": 255,
   "metadata": {},
   "outputs": [],
   "source": [
    "def create_dir_if_not_exist(dir):\n",
    "    # if not os.path.exists(dir):\n",
    "    #     os.makedirs(dir)\n",
    "    if not Path(dir).exists():\n",
    "        Path(dir).mkdir(parents=True, exist_ok=True)"
   ]
  },
  {
   "cell_type": "code",
   "execution_count": 256,
   "metadata": {},
   "outputs": [
    {
     "name": "stdout",
     "output_type": "stream",
     "text": [
      "RESULT_DIR: result\\exp_1\\img_size_512x512_lr_0p001__batch_size_8__num_epochs_10__weight_decay_0p0001__eval_patience_20\n",
      "LOG_DIR: log\\exp_1\n"
     ]
    }
   ],
   "source": [
    "SOURCE_DATASET_DIR = settings.source_dataset_dir\n",
    "# DATASET_PATH = \"dataset\"\n",
    "# TRAIN_IMAGE_FOLDER = \"train_images_compressed_80\"\n",
    "# TEST_IMAGE_FOLDER = \"test_images_compressed_80\"\n",
    "# TRAIN_IMAGE_FOLDER = f\"img_size_{IMAGE_INPUT_SIZE[0]}x{IMAGE_INPUT_SIZE[1]}\"\n",
    "TRAIN_IMAGE_FOLDER = settings.train_image_folder\n",
    "EVAL_IMAGE_FOLDER = settings.eval_image_folder\n",
    "\n",
    "\n",
    "# LOCAL_DATASET_DIR = \"./dataset\"\n",
    "# MODEL_DIR = \"./model/\"\n",
    "# EXPERIMENT_NAME = \"exp_1\"\n",
    "\n",
    "LOCAL_DATASET_DIR = settings.local_dataset_dir\n",
    "MODEL_DIR = settings.model_dir\n",
    "EXPERIMENT_NAME = settings.experiment_name\n",
    "\n",
    "sub_folder_name = f\"img_size_{IMAGE_INPUT_SIZE[0]}x{IMAGE_INPUT_SIZE[1]}_lr_{settings.lr}__batch_size_{settings.batch_size}__num_epochs_{settings.num_epochs}__weight_decay_{settings.weight_decay}__eval_patience_{settings.eval_patience}\"\n",
    "sub_folder_name = re.sub(r\"\\.\", \"p\", sub_folder_name)\n",
    "MODEL_SAVE_DIR = Path(MODEL_DIR, EXPERIMENT_NAME, sub_folder_name)\n",
    "RESULT_DIR = Path(\"./result\", EXPERIMENT_NAME, sub_folder_name)\n",
    "print(\"RESULT_DIR:\", RESULT_DIR)\n",
    "\n",
    "LOG_DIR = Path(\"./log\", EXPERIMENT_NAME)\n",
    "print(\"LOG_DIR:\", LOG_DIR)\n",
    "create_dir_if_not_exist(LOG_DIR)\n"
   ]
  },
  {
   "cell_type": "code",
   "execution_count": 257,
   "metadata": {},
   "outputs": [],
   "source": [
    "# # logging.basicConfig(level=logging.DEBUG)\n",
    "\n",
    "\n",
    "\n",
    "# logging.basicConfig(level=logging.INFO, filename='log.txt', filemode='w',\n",
    "logging.basicConfig(level=logging.DEBUG, filename=LOG_DIR/'log.txt', filemode='w',\n",
    "\tformat='[%(asctime)s %(levelname)-8s] %(message)s',\n",
    "\tdatefmt='%Y%m%d %H:%M:%S',\n",
    "\t)\n",
    "\n",
    "# if __name__ == \"__main__\":\n",
    "# \tlogging.debug('debug')\n",
    "# \tlogging.info('info')\n",
    "# \tlogging.warning('warning')\n",
    "# \tlogging.error('error')\n",
    "# \tlogging.critical('critical')\n",
    "# \ttime.sleep(5)\n"
   ]
  },
  {
   "cell_type": "code",
   "execution_count": 258,
   "metadata": {},
   "outputs": [],
   "source": [
    "# lr = 0.001\n",
    "# # momentum = 0.9\n",
    "# weight_decay = 0.0001\n",
    "# num_epochs = 20\n",
    "# batch_size = 32\n",
    "\n",
    "eval_patience = settings.eval_patience\n",
    "lr = settings.lr\n",
    "# momentum = settings.momentum\n",
    "weight_decay = settings.weight_decay\n",
    "num_epochs = settings.num_epochs\n",
    "batch_size = settings.batch_size"
   ]
  },
  {
   "cell_type": "code",
   "execution_count": 259,
   "metadata": {},
   "outputs": [],
   "source": [
    "create_dir_if_not_exist(LOCAL_DATASET_DIR)"
   ]
  },
  {
   "cell_type": "code",
   "execution_count": 260,
   "metadata": {},
   "outputs": [
    {
     "name": "stdout",
     "output_type": "stream",
     "text": [
      "Using cuda for inference\n"
     ]
    }
   ],
   "source": [
    "device = torch.device(\"cuda\") if torch.cuda.is_available() else torch.device(\"cpu\")\n",
    "print(f'Using {device} for inference')"
   ]
  },
  {
   "cell_type": "code",
   "execution_count": 261,
   "metadata": {},
   "outputs": [],
   "source": [
    "#pandas load data from csv\n",
    "train_csv = None\n",
    "test_csv = None\n",
    "all_labels = None\n",
    "\n",
    "if os.path.exists(Path(LOCAL_DATASET_DIR) / 'train.csv'):\n",
    "    train_csv = pd.read_csv(Path(LOCAL_DATASET_DIR) / 'train.csv').to_numpy()\n",
    "else:\n",
    "    train_csv = pd.read_csv(Path(SOURCE_DATASET_DIR) / 'train.csv').to_numpy()\n",
    "\n",
    "if os.path.exists(Path(LOCAL_DATASET_DIR) / 'test.csv'):\n",
    "    test_csv = pd.read_csv(Path(LOCAL_DATASET_DIR) / 'test.csv').to_numpy()\n",
    "else:\n",
    "    test_csv = pd.read_csv(Path(SOURCE_DATASET_DIR) / 'test.csv').to_numpy()\n",
    "\n",
    "# load npy\n",
    "if os.path.exists(Path(LOCAL_DATASET_DIR) / 'all_labels.npy'):\n",
    "    all_labels = np.load(Path(LOCAL_DATASET_DIR) / 'all_labels.npy')\n",
    "else:\n",
    "    all_labels = np.load(Path(SOURCE_DATASET_DIR) / 'all_labels.npy')\n",
    "\n",
    "\n"
   ]
  },
  {
   "cell_type": "code",
   "execution_count": 262,
   "metadata": {},
   "outputs": [
    {
     "name": "stdout",
     "output_type": "stream",
     "text": [
      "dict_id_to_label: [(0, 'HGSC'), (1, 'EC'), (2, 'MC'), (3, 'CC'), (4, 'LGSC')]\n"
     ]
    }
   ],
   "source": [
    "dict_id_to_label = {i: label for i, label in enumerate(all_labels)}\n",
    "dict_label_to_id = {label: i for i, label in enumerate(all_labels)}\n",
    "\n",
    "\n",
    "print(\"dict_id_to_label:\", sorted(dict_id_to_label.items()))"
   ]
  },
  {
   "cell_type": "code",
   "execution_count": 263,
   "metadata": {},
   "outputs": [],
   "source": [
    "def tran_csv_to_img_path_and_label(x_csv, data_path, image_folder, dict_label_to_id):\n",
    "    x_data = []\n",
    "    for i in range(len(x_csv)):\n",
    "        #get img path\n",
    "        img_name = str(x_csv[i][0]) + \".jpg\"\n",
    "        img_path = Path(data_path)  / image_folder / img_name\n",
    "        # check image is exist\n",
    "        if not img_path.exists():\n",
    "            print(f\"image {img_path} does not exist\")\n",
    "            continue\n",
    "\n",
    "        x_data.append([img_path, dict_label_to_id[x_csv[i][1]]])\n",
    "    return x_data"
   ]
  },
  {
   "cell_type": "code",
   "execution_count": 264,
   "metadata": {},
   "outputs": [
    {
     "name": "stdout",
     "output_type": "stream",
     "text": [
      "train set size: 430\n",
      "valid set size: 108\n",
      "train set category distribution: \n",
      "\t Counter({0: 177, 1: 99, 3: 79, 4: 38, 2: 37})\n",
      "train set category distribution: \n",
      "\t Counter({0: 45, 1: 25, 3: 20, 2: 9, 4: 9})\n"
     ]
    }
   ],
   "source": [
    "train_image_path_and_label = tran_csv_to_img_path_and_label(train_csv, LOCAL_DATASET_DIR, TRAIN_IMAGE_FOLDER, dict_label_to_id)\n",
    "test_image_path_and_label = tran_csv_to_img_path_and_label(test_csv, LOCAL_DATASET_DIR, EVAL_IMAGE_FOLDER, dict_label_to_id)\n",
    "\n",
    "# # Random split\n",
    "# # train_set, valid_set = train_test_split(train_image_path_and_label, test_size=0.2, random_state=42)\n",
    "# train_set, valid_set = train_test_split(train_image_path_and_label, test_size=0.2, random_state=42, \n",
    "#                                         stratify=[x[1] for x in train_image_path_and_label])\n",
    "train_set = train_image_path_and_label\n",
    "valid_set = test_image_path_and_label\n",
    "\n",
    "if EXPERIMENT_NAME == \"efficientnet_b0__train_on_all_data\":\n",
    "    train_set = train_image_path_and_label + test_image_path_and_label\n",
    "\n",
    "print(\"train set size:\", len(train_set))    \n",
    "print(\"valid set size:\", len(valid_set))\n",
    "# print(\"test set size:\", len(test_set))\n",
    "\n",
    "path_list, labels = zip(*train_set)\n",
    "print(\"train set category distribution: \\n\\t\", Counter(labels))\n",
    "\n",
    "path_list, labels = zip(*valid_set)\n",
    "print(\"train set category distribution: \\n\\t\", Counter(labels))"
   ]
  },
  {
   "cell_type": "code",
   "execution_count": 265,
   "metadata": {},
   "outputs": [],
   "source": [
    "def show_img_by_path(img_path):\n",
    "    img = Image.open(img_path)\n",
    "    plt.imshow(img)\n",
    "    plt.show()\n",
    "    print(img.size, type(img))\n",
    "    img = transforms.Resize(IMAGE_INPUT_SIZE)(img)\n",
    "    print(img.size, type(img))\n",
    "    img = transforms.ToTensor()(img)\n",
    "    print(img.shape)\n",
    "    # print(img)\n",
    "    \n",
    "# show_img_by_path(train_set[0][0])"
   ]
  },
  {
   "cell_type": "code",
   "execution_count": 266,
   "metadata": {},
   "outputs": [],
   "source": [
    "from torchvision.io import read_image\n",
    "\n",
    "class UBCDataset(Dataset):\n",
    "    def __init__(self, img_path_and_label, transform=None, target_transform=None, random_add_single_value=False):\n",
    "        self.data = img_path_and_label\n",
    "        self.transform = transform\n",
    "        self.target_transform = target_transform\n",
    "        self.random_add_single_value = random_add_single_value\n",
    "\n",
    "    def __len__(self):\n",
    "        return len(self.data)\n",
    "\n",
    "    def __getitem__(self, idx):\n",
    "        # image = read_image(img_path)\n",
    "        image_path, label = self.data[idx]\n",
    "        image = Image.open(image_path)\n",
    "        # print(np.max(image), np.min(image))\n",
    "        if self.transform:\n",
    "            image = self.transform(image)\n",
    "        if self.target_transform:\n",
    "            label = self.target_transform(label)\n",
    "        # print(torch.max(image), torch.min(image))\n",
    "        \n",
    "        if self.random_add_single_value:\n",
    "            image += torch.randn(1) * 0.01\n",
    "        return image, label\n"
   ]
  },
  {
   "cell_type": "code",
   "execution_count": 267,
   "metadata": {},
   "outputs": [
    {
     "name": "stderr",
     "output_type": "stream",
     "text": [
      "C:\\Users\\benve\\AppData\\Local\\Temp\\ipykernel_23812\\1872759898.py:7: DeprecationWarning: BILINEAR is deprecated and will be removed in Pillow 10 (2023-07-01). Use Resampling.BILINEAR instead.\n",
      "  transforms.RandomAffine(180, translate=(0.1, 0.1), scale=(0.9, 1.1), shear=10, interpolation=PIL.Image.BILINEAR),\n"
     ]
    }
   ],
   "source": [
    "# put data into dataloader\n",
    "train_transform = transforms.Compose([\n",
    "    transforms.Resize(IMAGE_INPUT_SIZE, antialias=True),\n",
    "    transforms.RandomHorizontalFlip(),\n",
    "    transforms.RandomVerticalFlip(),\n",
    "    # transforms.RandomRotation(180),\n",
    "    transforms.RandomAffine(180, translate=(0.1, 0.1), scale=(0.9, 1.1), shear=10, interpolation=PIL.Image.BILINEAR),\n",
    "    transforms.ToTensor(),\n",
    "    transforms.Normalize(mean = [0.485, 0.456, 0.406], std = [0.229, 0.224, 0.225])\n",
    "])\n",
    "\n",
    "# v2.Compose([v2.Resize(256, antialias = True),\n",
    "#                               v2.CenterCrop(224),\n",
    "#                               v2.ToImage(),\n",
    "#                               v2.ToDtype(torch.float32, scale = True),\n",
    "#                               v2.Normalize(mean = [0.485, 0.456, 0.406], std = [0.229, 0.224, 0.225])])\n",
    "\n",
    "\n",
    "test_transform = transforms.Compose([\n",
    "    transforms.Resize(IMAGE_INPUT_SIZE, antialias=True),\n",
    "    transforms.CenterCrop(IMAGE_INPUT_SIZE),\n",
    "    transforms.ToTensor(),\n",
    "    transforms.Normalize(mean = [0.485, 0.456, 0.406], std = [0.229, 0.224, 0.225])\n",
    "])\n",
    "\n",
    "train_dataset = UBCDataset(train_set, transform=train_transform, random_add_single_value=True)\n",
    "valid_dataset = UBCDataset(valid_set, transform=test_transform)\n",
    "# test_dataset = UBCDataset(test_set, transform=test_transform)\n",
    "\n"
   ]
  },
  {
   "cell_type": "code",
   "execution_count": 268,
   "metadata": {},
   "outputs": [],
   "source": [
    "train_dataloader = DataLoader(train_dataset, batch_size=batch_size, shuffle=True, num_workers=0)\n",
    "valid_dataloader = DataLoader(valid_dataset, batch_size=batch_size, shuffle=False, num_workers=0)\n",
    "# test_dataloader = DataLoader(test_dataset, batch_size=batch_size, shuffle=False, num_workers=0)"
   ]
  },
  {
   "cell_type": "code",
   "execution_count": 269,
   "metadata": {},
   "outputs": [],
   "source": [
    "#show image grid\n",
    "def show_image_grid(dataloader, num_of_images=16):\n",
    "    imgs, labels = next(iter(dataloader))\n",
    "    image_grid = torchvision.utils.make_grid(imgs[:num_of_images], nrow=8)\n",
    "    plt.imshow(image_grid.permute(1, 2, 0).numpy())\n",
    "    # plt.show()\n",
    "    print(\"labels:\", labels[:num_of_images], [dict_id_to_label[label.item()] for label in labels[:num_of_images]])\n",
    "\n",
    "# show_image_grid(train_dataloader)"
   ]
  },
  {
   "cell_type": "code",
   "execution_count": 270,
   "metadata": {},
   "outputs": [],
   "source": [
    "# efficientnet = torch.hub.load('NVIDIA/DeepLearningExamples:torchhub', 'nvidia_efficientnet_v2_l', pretrained=True)\n",
    "# efficientnet = torch.hub.load('NVIDIA/DeepLearningExamples:torchhub', 'nvidia_efficientnet_b0', pretrained=True)\n",
    "# efficientnet = torch.hub.load('NVIDIA/DeepLearningExamples:torchhub', 'nvidia_efficientnet_b4', pretrained=True)\n",
    "# efficientnet = torch.hub.load('NVIDIA/DeepLearningExamples:torchhub', 'nvidia_efficientnet_widese_b0', pretrained=True)\n",
    "# efficientnet = torch.hub.load('NVIDIA/DeepLearningExamples:torchhub', 'nvidia_efficientnet_widese_b4', pretrained=True)\n",
    "\n",
    "# print(dir(efficientnet.modules))\n",
    "# print(efficientnet.classifier.fc.in_features)"
   ]
  },
  {
   "cell_type": "code",
   "execution_count": 271,
   "metadata": {},
   "outputs": [
    {
     "name": "stderr",
     "output_type": "stream",
     "text": [
      "Using cache found in C:\\Users\\benve/.cache\\torch\\hub\\NVIDIA_DeepLearningExamples_torchhub\n",
      "Using cache found in C:\\Users\\benve/.cache\\torch\\hub\\NVIDIA_DeepLearningExamples_torchhub\n"
     ]
    }
   ],
   "source": [
    "efficientnet = torch.hub.load('NVIDIA/DeepLearningExamples:torchhub', 'nvidia_efficientnet_b0', pretrained=True)\n",
    "\n",
    "if EXPERIMENT_NAME == \"efficientnet_b0\":\n",
    "    efficientnet = torch.hub.load('NVIDIA/DeepLearningExamples:torchhub', 'nvidia_efficientnet_b0', pretrained=True)\n",
    "elif EXPERIMENT_NAME == \"efficientnet_b4\":\n",
    "    efficientnet = torch.hub.load('NVIDIA/DeepLearningExamples:torchhub', 'nvidia_efficientnet_b4', pretrained=True)\n",
    "elif EXPERIMENT_NAME == \"efficientnet_widese_b0\":\n",
    "    efficientnet = torch.hub.load('NVIDIA/DeepLearningExamples:torchhub', 'nvidia_efficientnet_widese_b0', pretrained=True)\n",
    "elif EXPERIMENT_NAME == \"efficientnet_widese_b4\":\n",
    "    efficientnet = torch.hub.load('NVIDIA/DeepLearningExamples:torchhub', 'nvidia_efficientnet_widese_b4', pretrained=True)\n",
    "# elif EXPERIMENT_NAME == \"efficientnet_v2_l\":\n",
    "#     efficientnet = torch.hub.load('NVIDIA/DeepLearningExamples:torchhub', 'nvidia_efficientnet_v2_l', pretrained=True)\n",
    "\n",
    "utils = torch.hub.load('NVIDIA/DeepLearningExamples:torchhub', 'nvidia_convnets_processing_utils')\n",
    "\n",
    "# efficientnet.eval().to(device)\n",
    "# vars(efficientnet)\n"
   ]
  },
  {
   "cell_type": "code",
   "execution_count": 272,
   "metadata": {},
   "outputs": [],
   "source": [
    "model_raw = efficientnet\n",
    "classifier_in_feature_size = model_raw.classifier.fc.in_features\n",
    "classifier_head = torch.nn.Sequential(\n",
    "    torch.nn.AdaptiveAvgPool2d(output_size=1),\n",
    "    torch.nn.Flatten(),\n",
    "    torch.nn.Dropout(p=0.2, inplace=False),\n",
    "    torch.nn.Linear(in_features=classifier_in_feature_size, out_features=256, bias=True),\n",
    "    torch.nn.ReLU(),\n",
    "    torch.nn.Dropout(p=0.2, inplace=False),\n",
    "    torch.nn.Linear(in_features=256, out_features=5, bias=True),\n",
    ")\n",
    "model_raw.classifier = classifier_head\n",
    "model_raw = model_raw.to(device)\n",
    "\n",
    "\n",
    "feature_extractor_params = []\n",
    "for name, params in model_raw.named_parameters():\n",
    "    if(name[:10] == \"classifier\"):\n",
    "        continue\n",
    "    feature_extractor_params.append(params)\n",
    "\n",
    "classifier_head_params = []\n",
    "for name, params in classifier_head.named_parameters():\n",
    "    classifier_head_params.append(params)\n"
   ]
  },
  {
   "cell_type": "code",
   "execution_count": 273,
   "metadata": {},
   "outputs": [],
   "source": [
    "# print(\"feature_extractor_params:\", len(feature_extractor_params))\n",
    "# print(classifier_head_params)"
   ]
  },
  {
   "cell_type": "code",
   "execution_count": 274,
   "metadata": {},
   "outputs": [
    {
     "name": "stdout",
     "output_type": "stream",
     "text": [
      "----------------------------------------------------------------\n",
      "        Layer (type)               Output Shape         Param #\n",
      "================================================================\n",
      "            Conv2d-1         [-1, 32, 256, 256]             864\n",
      "       BatchNorm2d-2         [-1, 32, 256, 256]              64\n",
      "              SiLU-3         [-1, 32, 256, 256]               0\n",
      "            Conv2d-4         [-1, 32, 256, 256]             288\n",
      "       BatchNorm2d-5         [-1, 32, 256, 256]              64\n",
      "              SiLU-6         [-1, 32, 256, 256]               0\n",
      "            Linear-7                    [-1, 8]             264\n",
      "              SiLU-8                    [-1, 8]               0\n",
      "            Linear-9                   [-1, 32]             288\n",
      "          Sigmoid-10                   [-1, 32]               0\n",
      "SequentialSqueezeAndExcitation-11         [-1, 32, 256, 256]               0\n",
      "           Conv2d-12         [-1, 16, 256, 256]             512\n",
      "      BatchNorm2d-13         [-1, 16, 256, 256]              32\n",
      "      MBConvBlock-14         [-1, 16, 256, 256]               0\n",
      "           Conv2d-15         [-1, 96, 256, 256]           1,536\n",
      "      BatchNorm2d-16         [-1, 96, 256, 256]             192\n",
      "             SiLU-17         [-1, 96, 256, 256]               0\n",
      "           Conv2d-18         [-1, 96, 128, 128]             864\n",
      "      BatchNorm2d-19         [-1, 96, 128, 128]             192\n",
      "             SiLU-20         [-1, 96, 128, 128]               0\n",
      "           Linear-21                    [-1, 4]             388\n",
      "             SiLU-22                    [-1, 4]               0\n",
      "           Linear-23                   [-1, 96]             480\n",
      "          Sigmoid-24                   [-1, 96]               0\n",
      "SequentialSqueezeAndExcitation-25         [-1, 96, 128, 128]               0\n",
      "           Conv2d-26         [-1, 24, 128, 128]           2,304\n",
      "      BatchNorm2d-27         [-1, 24, 128, 128]              48\n",
      "      MBConvBlock-28         [-1, 24, 128, 128]               0\n",
      "           Conv2d-29        [-1, 144, 128, 128]           3,456\n",
      "      BatchNorm2d-30        [-1, 144, 128, 128]             288\n",
      "             SiLU-31        [-1, 144, 128, 128]               0\n",
      "           Conv2d-32        [-1, 144, 128, 128]           1,296\n",
      "      BatchNorm2d-33        [-1, 144, 128, 128]             288\n",
      "             SiLU-34        [-1, 144, 128, 128]               0\n",
      "           Linear-35                    [-1, 6]             870\n",
      "             SiLU-36                    [-1, 6]               0\n",
      "           Linear-37                  [-1, 144]           1,008\n",
      "          Sigmoid-38                  [-1, 144]               0\n",
      "SequentialSqueezeAndExcitation-39        [-1, 144, 128, 128]               0\n",
      "           Conv2d-40         [-1, 24, 128, 128]           3,456\n",
      "      BatchNorm2d-41         [-1, 24, 128, 128]              48\n",
      "      MBConvBlock-42         [-1, 24, 128, 128]               0\n",
      "           Conv2d-43        [-1, 144, 128, 128]           3,456\n",
      "      BatchNorm2d-44        [-1, 144, 128, 128]             288\n",
      "             SiLU-45        [-1, 144, 128, 128]               0\n",
      "           Conv2d-46          [-1, 144, 64, 64]           3,600\n",
      "      BatchNorm2d-47          [-1, 144, 64, 64]             288\n",
      "             SiLU-48          [-1, 144, 64, 64]               0\n",
      "           Linear-49                    [-1, 6]             870\n",
      "             SiLU-50                    [-1, 6]               0\n",
      "           Linear-51                  [-1, 144]           1,008\n",
      "          Sigmoid-52                  [-1, 144]               0\n",
      "SequentialSqueezeAndExcitation-53          [-1, 144, 64, 64]               0\n",
      "           Conv2d-54           [-1, 40, 64, 64]           5,760\n",
      "      BatchNorm2d-55           [-1, 40, 64, 64]              80\n",
      "      MBConvBlock-56           [-1, 40, 64, 64]               0\n",
      "           Conv2d-57          [-1, 240, 64, 64]           9,600\n",
      "      BatchNorm2d-58          [-1, 240, 64, 64]             480\n",
      "             SiLU-59          [-1, 240, 64, 64]               0\n",
      "           Conv2d-60          [-1, 240, 64, 64]           6,000\n",
      "      BatchNorm2d-61          [-1, 240, 64, 64]             480\n",
      "             SiLU-62          [-1, 240, 64, 64]               0\n",
      "           Linear-63                   [-1, 10]           2,410\n",
      "             SiLU-64                   [-1, 10]               0\n",
      "           Linear-65                  [-1, 240]           2,640\n",
      "          Sigmoid-66                  [-1, 240]               0\n",
      "SequentialSqueezeAndExcitation-67          [-1, 240, 64, 64]               0\n",
      "           Conv2d-68           [-1, 40, 64, 64]           9,600\n",
      "      BatchNorm2d-69           [-1, 40, 64, 64]              80\n",
      "      MBConvBlock-70           [-1, 40, 64, 64]               0\n",
      "           Conv2d-71          [-1, 240, 64, 64]           9,600\n",
      "      BatchNorm2d-72          [-1, 240, 64, 64]             480\n",
      "             SiLU-73          [-1, 240, 64, 64]               0\n",
      "           Conv2d-74          [-1, 240, 32, 32]           2,160\n",
      "      BatchNorm2d-75          [-1, 240, 32, 32]             480\n",
      "             SiLU-76          [-1, 240, 32, 32]               0\n",
      "           Linear-77                   [-1, 10]           2,410\n",
      "             SiLU-78                   [-1, 10]               0\n",
      "           Linear-79                  [-1, 240]           2,640\n",
      "          Sigmoid-80                  [-1, 240]               0\n",
      "SequentialSqueezeAndExcitation-81          [-1, 240, 32, 32]               0\n",
      "           Conv2d-82           [-1, 80, 32, 32]          19,200\n",
      "      BatchNorm2d-83           [-1, 80, 32, 32]             160\n",
      "      MBConvBlock-84           [-1, 80, 32, 32]               0\n",
      "           Conv2d-85          [-1, 480, 32, 32]          38,400\n",
      "      BatchNorm2d-86          [-1, 480, 32, 32]             960\n",
      "             SiLU-87          [-1, 480, 32, 32]               0\n",
      "           Conv2d-88          [-1, 480, 32, 32]           4,320\n",
      "      BatchNorm2d-89          [-1, 480, 32, 32]             960\n",
      "             SiLU-90          [-1, 480, 32, 32]               0\n",
      "           Linear-91                   [-1, 20]           9,620\n",
      "             SiLU-92                   [-1, 20]               0\n",
      "           Linear-93                  [-1, 480]          10,080\n",
      "          Sigmoid-94                  [-1, 480]               0\n",
      "SequentialSqueezeAndExcitation-95          [-1, 480, 32, 32]               0\n",
      "           Conv2d-96           [-1, 80, 32, 32]          38,400\n",
      "      BatchNorm2d-97           [-1, 80, 32, 32]             160\n",
      "      MBConvBlock-98           [-1, 80, 32, 32]               0\n",
      "           Conv2d-99          [-1, 480, 32, 32]          38,400\n",
      "     BatchNorm2d-100          [-1, 480, 32, 32]             960\n",
      "            SiLU-101          [-1, 480, 32, 32]               0\n",
      "          Conv2d-102          [-1, 480, 32, 32]           4,320\n",
      "     BatchNorm2d-103          [-1, 480, 32, 32]             960\n",
      "            SiLU-104          [-1, 480, 32, 32]               0\n",
      "          Linear-105                   [-1, 20]           9,620\n",
      "            SiLU-106                   [-1, 20]               0\n",
      "          Linear-107                  [-1, 480]          10,080\n",
      "         Sigmoid-108                  [-1, 480]               0\n",
      "SequentialSqueezeAndExcitation-109          [-1, 480, 32, 32]               0\n",
      "          Conv2d-110           [-1, 80, 32, 32]          38,400\n",
      "     BatchNorm2d-111           [-1, 80, 32, 32]             160\n",
      "     MBConvBlock-112           [-1, 80, 32, 32]               0\n",
      "          Conv2d-113          [-1, 480, 32, 32]          38,400\n",
      "     BatchNorm2d-114          [-1, 480, 32, 32]             960\n",
      "            SiLU-115          [-1, 480, 32, 32]               0\n",
      "          Conv2d-116          [-1, 480, 32, 32]          12,000\n",
      "     BatchNorm2d-117          [-1, 480, 32, 32]             960\n",
      "            SiLU-118          [-1, 480, 32, 32]               0\n",
      "          Linear-119                   [-1, 20]           9,620\n",
      "            SiLU-120                   [-1, 20]               0\n",
      "          Linear-121                  [-1, 480]          10,080\n",
      "         Sigmoid-122                  [-1, 480]               0\n",
      "SequentialSqueezeAndExcitation-123          [-1, 480, 32, 32]               0\n",
      "          Conv2d-124          [-1, 112, 32, 32]          53,760\n",
      "     BatchNorm2d-125          [-1, 112, 32, 32]             224\n",
      "     MBConvBlock-126          [-1, 112, 32, 32]               0\n",
      "          Conv2d-127          [-1, 672, 32, 32]          75,264\n",
      "     BatchNorm2d-128          [-1, 672, 32, 32]           1,344\n",
      "            SiLU-129          [-1, 672, 32, 32]               0\n",
      "          Conv2d-130          [-1, 672, 32, 32]          16,800\n",
      "     BatchNorm2d-131          [-1, 672, 32, 32]           1,344\n",
      "            SiLU-132          [-1, 672, 32, 32]               0\n",
      "          Linear-133                   [-1, 28]          18,844\n",
      "            SiLU-134                   [-1, 28]               0\n",
      "          Linear-135                  [-1, 672]          19,488\n",
      "         Sigmoid-136                  [-1, 672]               0\n",
      "SequentialSqueezeAndExcitation-137          [-1, 672, 32, 32]               0\n",
      "          Conv2d-138          [-1, 112, 32, 32]          75,264\n",
      "     BatchNorm2d-139          [-1, 112, 32, 32]             224\n",
      "     MBConvBlock-140          [-1, 112, 32, 32]               0\n",
      "          Conv2d-141          [-1, 672, 32, 32]          75,264\n",
      "     BatchNorm2d-142          [-1, 672, 32, 32]           1,344\n",
      "            SiLU-143          [-1, 672, 32, 32]               0\n",
      "          Conv2d-144          [-1, 672, 32, 32]          16,800\n",
      "     BatchNorm2d-145          [-1, 672, 32, 32]           1,344\n",
      "            SiLU-146          [-1, 672, 32, 32]               0\n",
      "          Linear-147                   [-1, 28]          18,844\n",
      "            SiLU-148                   [-1, 28]               0\n",
      "          Linear-149                  [-1, 672]          19,488\n",
      "         Sigmoid-150                  [-1, 672]               0\n",
      "SequentialSqueezeAndExcitation-151          [-1, 672, 32, 32]               0\n",
      "          Conv2d-152          [-1, 112, 32, 32]          75,264\n",
      "     BatchNorm2d-153          [-1, 112, 32, 32]             224\n",
      "     MBConvBlock-154          [-1, 112, 32, 32]               0\n",
      "          Conv2d-155          [-1, 672, 32, 32]          75,264\n",
      "     BatchNorm2d-156          [-1, 672, 32, 32]           1,344\n",
      "            SiLU-157          [-1, 672, 32, 32]               0\n",
      "          Conv2d-158          [-1, 672, 16, 16]          16,800\n",
      "     BatchNorm2d-159          [-1, 672, 16, 16]           1,344\n",
      "            SiLU-160          [-1, 672, 16, 16]               0\n",
      "          Linear-161                   [-1, 28]          18,844\n",
      "            SiLU-162                   [-1, 28]               0\n",
      "          Linear-163                  [-1, 672]          19,488\n",
      "         Sigmoid-164                  [-1, 672]               0\n",
      "SequentialSqueezeAndExcitation-165          [-1, 672, 16, 16]               0\n",
      "          Conv2d-166          [-1, 192, 16, 16]         129,024\n",
      "     BatchNorm2d-167          [-1, 192, 16, 16]             384\n",
      "     MBConvBlock-168          [-1, 192, 16, 16]               0\n",
      "          Conv2d-169         [-1, 1152, 16, 16]         221,184\n",
      "     BatchNorm2d-170         [-1, 1152, 16, 16]           2,304\n",
      "            SiLU-171         [-1, 1152, 16, 16]               0\n",
      "          Conv2d-172         [-1, 1152, 16, 16]          28,800\n",
      "     BatchNorm2d-173         [-1, 1152, 16, 16]           2,304\n",
      "            SiLU-174         [-1, 1152, 16, 16]               0\n",
      "          Linear-175                   [-1, 48]          55,344\n",
      "            SiLU-176                   [-1, 48]               0\n",
      "          Linear-177                 [-1, 1152]          56,448\n",
      "         Sigmoid-178                 [-1, 1152]               0\n",
      "SequentialSqueezeAndExcitation-179         [-1, 1152, 16, 16]               0\n",
      "          Conv2d-180          [-1, 192, 16, 16]         221,184\n",
      "     BatchNorm2d-181          [-1, 192, 16, 16]             384\n",
      "     MBConvBlock-182          [-1, 192, 16, 16]               0\n",
      "          Conv2d-183         [-1, 1152, 16, 16]         221,184\n",
      "     BatchNorm2d-184         [-1, 1152, 16, 16]           2,304\n",
      "            SiLU-185         [-1, 1152, 16, 16]               0\n",
      "          Conv2d-186         [-1, 1152, 16, 16]          28,800\n",
      "     BatchNorm2d-187         [-1, 1152, 16, 16]           2,304\n",
      "            SiLU-188         [-1, 1152, 16, 16]               0\n",
      "          Linear-189                   [-1, 48]          55,344\n",
      "            SiLU-190                   [-1, 48]               0\n",
      "          Linear-191                 [-1, 1152]          56,448\n",
      "         Sigmoid-192                 [-1, 1152]               0\n",
      "SequentialSqueezeAndExcitation-193         [-1, 1152, 16, 16]               0\n",
      "          Conv2d-194          [-1, 192, 16, 16]         221,184\n",
      "     BatchNorm2d-195          [-1, 192, 16, 16]             384\n",
      "     MBConvBlock-196          [-1, 192, 16, 16]               0\n",
      "          Conv2d-197         [-1, 1152, 16, 16]         221,184\n",
      "     BatchNorm2d-198         [-1, 1152, 16, 16]           2,304\n",
      "            SiLU-199         [-1, 1152, 16, 16]               0\n",
      "          Conv2d-200         [-1, 1152, 16, 16]          28,800\n",
      "     BatchNorm2d-201         [-1, 1152, 16, 16]           2,304\n",
      "            SiLU-202         [-1, 1152, 16, 16]               0\n",
      "          Linear-203                   [-1, 48]          55,344\n",
      "            SiLU-204                   [-1, 48]               0\n",
      "          Linear-205                 [-1, 1152]          56,448\n",
      "         Sigmoid-206                 [-1, 1152]               0\n",
      "SequentialSqueezeAndExcitation-207         [-1, 1152, 16, 16]               0\n",
      "          Conv2d-208          [-1, 192, 16, 16]         221,184\n",
      "     BatchNorm2d-209          [-1, 192, 16, 16]             384\n",
      "     MBConvBlock-210          [-1, 192, 16, 16]               0\n",
      "          Conv2d-211         [-1, 1152, 16, 16]         221,184\n",
      "     BatchNorm2d-212         [-1, 1152, 16, 16]           2,304\n",
      "            SiLU-213         [-1, 1152, 16, 16]               0\n",
      "          Conv2d-214         [-1, 1152, 16, 16]          10,368\n",
      "     BatchNorm2d-215         [-1, 1152, 16, 16]           2,304\n",
      "            SiLU-216         [-1, 1152, 16, 16]               0\n",
      "          Linear-217                   [-1, 48]          55,344\n",
      "            SiLU-218                   [-1, 48]               0\n",
      "          Linear-219                 [-1, 1152]          56,448\n",
      "         Sigmoid-220                 [-1, 1152]               0\n",
      "SequentialSqueezeAndExcitation-221         [-1, 1152, 16, 16]               0\n",
      "          Conv2d-222          [-1, 320, 16, 16]         368,640\n",
      "     BatchNorm2d-223          [-1, 320, 16, 16]             640\n",
      "     MBConvBlock-224          [-1, 320, 16, 16]               0\n",
      "          Conv2d-225         [-1, 1280, 16, 16]         409,600\n",
      "     BatchNorm2d-226         [-1, 1280, 16, 16]           2,560\n",
      "            SiLU-227         [-1, 1280, 16, 16]               0\n",
      "AdaptiveAvgPool2d-228           [-1, 1280, 1, 1]               0\n",
      "         Flatten-229                 [-1, 1280]               0\n",
      "         Dropout-230                 [-1, 1280]               0\n",
      "          Linear-231                  [-1, 256]         327,936\n",
      "            ReLU-232                  [-1, 256]               0\n",
      "         Dropout-233                  [-1, 256]               0\n",
      "          Linear-234                    [-1, 5]           1,285\n",
      "================================================================\n",
      "Total params: 4,336,769\n",
      "Trainable params: 4,336,769\n",
      "Non-trainable params: 0\n",
      "----------------------------------------------------------------\n",
      "Input size (MB): 3.00\n",
      "Forward/backward pass size (MB): 897.80\n",
      "Params size (MB): 16.54\n",
      "Estimated Total Size (MB): 917.35\n",
      "----------------------------------------------------------------\n"
     ]
    }
   ],
   "source": [
    "summary(model_raw, (3, ) + IMAGE_INPUT_SIZE, device=device.type)"
   ]
  },
  {
   "cell_type": "code",
   "execution_count": 275,
   "metadata": {},
   "outputs": [],
   "source": [
    "\n",
    "criteria = nn.CrossEntropyLoss()\n",
    "# optimizer = optim.Adam(model_raw.classifier.parameters(), lr=lr, weight_decay=weight_decay)\n",
    "optimizer = optim.Adam([{\"params\":feature_extractor_params, \"lr\":1e-7}, {\"params\":classifier_head_params, \"lr\":lr}], \n",
    "                       lr=lr, weight_decay=weight_decay)\n",
    "\n"
   ]
  },
  {
   "cell_type": "code",
   "execution_count": 276,
   "metadata": {},
   "outputs": [],
   "source": [
    "\n",
    "\n",
    "def get_category_accuracy(y_gt: np.array, y_pred: np.array, n_category):\n",
    "    # category_accuracy = np.zeros(n_category)\n",
    "\n",
    "    assert(len(y_gt) == len(y_pred))\n",
    "    assert(len(y_gt.shape) == 1 and len(y_pred.shape) == 1)\n",
    "\n",
    "    cat_mask_2d = (y_gt == np.arange(n_category).reshape(-1, 1))\n",
    "    category_accuracy = ((y_gt == y_pred) * cat_mask_2d).sum(axis=1) / cat_mask_2d.sum(axis=1)\n",
    "\n",
    "    return category_accuracy\n",
    "\n",
    "# a = np.random.randint(0, 5, 10)\n",
    "# b = np.random.randint(0, 5, 10)\n",
    "# print(\"a:\", a)\n",
    "# print(\"b:\", b)\n",
    "\n",
    "# # print(\"get_category_accuracy:\", get_category_accuracy(y_gt=a, y_pred=b, n_category=5))\n",
    "# category_accuracy = get_category_accuracy(y_gt=np.array(a), y_pred=np.array(b), n_category=5)\n",
    "# print(\"category_accuracy:\", category_accuracy)\n",
    "# print(str(category_accuracy))\n",
    "# print(type(category_accuracy[0]))\n",
    "# confusion_matrix_result = confusion_matrix(y_true=a, y_pred=b, labels=[0, 1, 2, 3, 4])\n",
    "# print(\"get_category_accuracy:\" + str(category_accuracy))\n"
   ]
  },
  {
   "cell_type": "code",
   "execution_count": 277,
   "metadata": {},
   "outputs": [],
   "source": [
    "def evaluation(model, valid_dataloader, criteria, device):\n",
    "        model.eval()\n",
    "        valid_loss = 0.0\n",
    "        valid_corrects = 0\n",
    "\n",
    "        y_gt = []\n",
    "        y_pred = []\n",
    "\n",
    "        for imgs, labels in tqdm(valid_dataloader):\n",
    "            imgs = imgs.to(device)\n",
    "            labels = labels.to(device)\n",
    "\n",
    "            with torch.no_grad():\n",
    "                outputs = model(imgs)\n",
    "                _, preds = torch.max(outputs, -1)\n",
    "                loss = criteria(outputs, labels)\n",
    "\n",
    "            valid_loss += loss.item() * imgs.size(0)\n",
    "            valid_corrects += torch.sum(preds == labels.data).detach().cpu().numpy()\n",
    "\n",
    "            y_gt.extend(labels.data.cpu().numpy().reshape(-1))\n",
    "            y_pred.extend(preds.cpu().numpy().reshape(-1))\n",
    "\n",
    "        # print(y_gt)\n",
    "        # print(y_pred)\n",
    "        confusion_matrix_result = confusion_matrix(y_gt, y_pred)\n",
    "        print(\"confusion_matrix_result:\\n\" + str(confusion_matrix_result))\n",
    "        logging.info(\"confusion_matrix_result:\\n\" + str(confusion_matrix_result))\n",
    "\n",
    "        category_accuracy = get_category_accuracy(y_gt=np.array(y_gt), y_pred=np.array(y_pred), n_category=5)\n",
    "        print(\"get_category_accuracy:\" + str(category_accuracy))\n",
    "        logging.info(\"get_category_accuracy:\" + str(category_accuracy))\n",
    "        \n",
    "        valid_loss = valid_loss / len(valid_dataloader.dataset)\n",
    "        valid_acc = valid_corrects / len(valid_dataloader.dataset)\n",
    "\n",
    "        valid_balanced_acc = balanced_accuracy_score(y_gt, y_pred)\n",
    "\n",
    "        return valid_loss, valid_acc, valid_balanced_acc"
   ]
  },
  {
   "cell_type": "code",
   "execution_count": 278,
   "metadata": {},
   "outputs": [],
   "source": [
    "def train(model, train_dataloader, valid_dataloader, optimizer, criteria, num_epochs, eval_patience, device):\n",
    "    train_loss_list = []\n",
    "    train_acc_list = []\n",
    "    train_balanced_acc_list = []\n",
    "\n",
    "    valid_loss_list = []\n",
    "    valid_acc_list = []\n",
    "    valid_balanced_acc_list = []\n",
    "\n",
    "    best_valid_loss = float('inf')\n",
    "    best_valid_acc = -0.0001\n",
    "    best_valid_balanced_acc = -0.0001\n",
    "\n",
    "    best_model_valid_loss = None\n",
    "    best_model_valid_acc = None\n",
    "    best_model_valid_balanced_acc = None\n",
    "\n",
    "    start_time = time.time()\n",
    "\n",
    "    counter_eval_not_improve = 0\n",
    "\n",
    "    for epoch in range(num_epochs):\n",
    "        print(f'Epoch {epoch + 1}/{num_epochs}')\n",
    "        print('-' * 10)\n",
    "        logging.info(f'Epoch {epoch + 1}/{num_epochs}')\n",
    "        logging.info('-' * 10)\n",
    "\n",
    "        model.train()\n",
    "        train_loss = 0.0\n",
    "        train_corrects = 0\n",
    "        \n",
    "        y_gt = []\n",
    "        y_pred = []\n",
    "\n",
    "        for imgs, labels in tqdm(train_dataloader):\n",
    "            imgs = imgs.to(device)\n",
    "            labels = labels.to(device)\n",
    "\n",
    "\n",
    "            outputs = model(imgs)\n",
    "            _, preds = torch.max(outputs, -1)\n",
    "            loss = criteria(outputs, labels)\n",
    "\n",
    "            optimizer.zero_grad()\n",
    "            loss.backward()\n",
    "            optimizer.step()\n",
    "\n",
    "            train_loss += loss.item() * imgs.size(0)\n",
    "            train_corrects += torch.sum(preds == labels.data).detach().cpu().numpy()\n",
    "\n",
    "            y_gt.extend(labels.data.cpu().numpy().reshape(-1))\n",
    "            y_pred.extend(preds.cpu().numpy().reshape(-1))\n",
    "\n",
    "\n",
    "        # print(y_gt)\n",
    "        # print(y_pred)\n",
    "        confusion_matrix_result = confusion_matrix(y_gt, y_pred)\n",
    "        print(\"confusion_matrix_result:\\n\" + str(confusion_matrix_result))\n",
    "        logging.info(\"confusion_matrix_result:\\n\" + str(confusion_matrix_result))\n",
    "\n",
    "        category_accuracy = get_category_accuracy(y_gt=np.array(y_gt), y_pred=np.array(y_pred), n_category=5)\n",
    "        print(\"get_category_accuracy:\" + str(category_accuracy))\n",
    "        logging.info(\"get_category_accuracy:\" + str(category_accuracy))\n",
    "        \n",
    "        train_loss = train_loss / len(train_dataloader.dataset)\n",
    "        train_acc = train_corrects / len(train_dataloader.dataset)\n",
    "        train_balanced_acc = balanced_accuracy_score(y_gt, y_pred)\n",
    "        train_loss_list.append(train_loss)\n",
    "        train_acc_list.append(train_acc)\n",
    "        train_balanced_acc_list.append(train_balanced_acc)\n",
    "\n",
    "        print(f'Train loss: {train_loss:.4f} Acc: {train_acc:.4f} Balanced Acc: {train_balanced_acc:.4f}')\n",
    "        logging.info(f'Train loss: {train_loss:.4f} Acc: {train_acc:.4f} Balanced Acc: {train_balanced_acc:.4f}')\n",
    "        print(\"id_to_label:\", sorted(dict_id_to_label.items()))\n",
    "        logging.info(\"id_to_label:\" + str(sorted(dict_id_to_label.items())))\n",
    "        elapsed_time = time.time() - start_time\n",
    "        print(f'Elapsed time: {time.strftime(\"%H:%M:%S\", time.gmtime(elapsed_time))}')\n",
    "        logging.info(f'Elapsed time: {time.strftime(\"%H:%M:%S\", time.gmtime(elapsed_time))}')\n",
    "\n",
    "        valid_loss, valid_acc, valid_balanced_acc = evaluation(model, valid_dataloader, criteria, device)\n",
    "\n",
    "        valid_loss_list.append(valid_loss)\n",
    "        valid_acc_list.append(valid_acc)\n",
    "        valid_balanced_acc_list.append(valid_balanced_acc)\n",
    "\n",
    "        if valid_loss < best_valid_loss:\n",
    "            best_valid_loss = valid_loss\n",
    "            best_model_valid_loss = copy.deepcopy(model)\n",
    "        \n",
    "        if valid_acc > best_valid_acc:\n",
    "            best_valid_acc = valid_acc\n",
    "            best_model_valid_acc = copy.deepcopy(model)\n",
    "        # else:\n",
    "        #     counter_eval_not_improve += 1\n",
    "\n",
    "        if valid_balanced_acc > best_valid_balanced_acc:\n",
    "            best_valid_balanced_acc = valid_balanced_acc\n",
    "            best_model_valid_balanced_acc = copy.deepcopy(model)\n",
    "        else:\n",
    "            counter_eval_not_improve += 1\n",
    "\n",
    "\n",
    "        print(f'Valid loss: {valid_loss:.4f} Acc: {valid_acc:.4f} Balanced Acc: {valid_balanced_acc:.4f}')\n",
    "        logging.info(f'Valid loss: {valid_loss:.4f} Acc: {valid_acc:.4f} Balanced Acc: {valid_balanced_acc:.4f}')\n",
    "        print(\"id_to_label:\", sorted(dict_id_to_label.items()))\n",
    "        logging.info(\"id_to_label:\" + str(sorted(dict_id_to_label.items())))\n",
    "        elapsed_time = time.time() - start_time\n",
    "        print(f'Elapsed time: {time.strftime(\"%H:%M:%S\", time.gmtime(elapsed_time))}\\n\\n')\n",
    "        logging.info(f'Elapsed time: {time.strftime(\"%H:%M:%S\", time.gmtime(elapsed_time))}\\n\\n')\n",
    "\n",
    "        if counter_eval_not_improve >= eval_patience:\n",
    "            print(f'Early stopping at epoch {epoch + 1}')\n",
    "            logging.info(f'Early stopping at epoch {epoch + 1}')\n",
    "            break\n",
    "        else:\n",
    "            counter_eval_not_improve = 0\n",
    "\n",
    "    return model, best_model_valid_acc, best_model_valid_loss, best_model_valid_balanced_acc, \\\n",
    "           train_loss_list, train_acc_list, train_balanced_acc_list, \\\n",
    "           valid_loss_list, valid_acc_list, valid_balanced_acc_list, \\\n",
    "           best_valid_loss, best_valid_acc"
   ]
  },
  {
   "cell_type": "code",
   "execution_count": 279,
   "metadata": {},
   "outputs": [],
   "source": [
    "def store_result(best_model_valid_acc, best_model_valid_loss, best_model_valid_balanced_acc, \\\n",
    "                 train_loss_list, train_acc_list, train_balanced_acc_list, \\\n",
    "                 valid_loss_list, valid_acc_list, valid_balanced_acc_list):\n",
    "    create_dir_if_not_exist(MODEL_SAVE_DIR)\n",
    "    create_dir_if_not_exist(RESULT_DIR)\n",
    "\n",
    "    torch.save(best_model_valid_acc.state_dict(), Path(MODEL_SAVE_DIR) / \"best_model_valid_acc.pth\")\n",
    "    torch.save(best_model_valid_loss.state_dict(), Path(MODEL_SAVE_DIR) / \"best_model_valid_loss.pth\")\n",
    "    torch.save(best_model_valid_balanced_acc.state_dict(), Path(MODEL_SAVE_DIR) / \"best_model_valid_balanced_acc.pth\")\n",
    "\n",
    "    with open(Path(RESULT_DIR) / \"train_loss_list.pkl\", \"wb\") as f:\n",
    "        pickle.dump(train_loss_list, f)\n",
    "    with open(Path(RESULT_DIR) / \"train_acc_list.pkl\", \"wb\") as f:\n",
    "        pickle.dump(train_acc_list, f)\n",
    "    with open(Path(RESULT_DIR) / \"train_balanced_acc_list.pkl\", \"wb\") as f:\n",
    "        pickle.dump(train_balanced_acc_list, f)\n",
    "\n",
    "    with open(Path(RESULT_DIR) / \"valid_loss_list.pkl\", \"wb\") as f:\n",
    "        pickle.dump(valid_loss_list, f)\n",
    "    with open(Path(RESULT_DIR) / \"valid_acc_list.pkl\", \"wb\") as f:\n",
    "        pickle.dump(valid_acc_list, f)\n",
    "    with open(Path(RESULT_DIR) / \"valid_balanced_acc_list.pkl\", \"wb\") as f:\n",
    "        pickle.dump(valid_balanced_acc_list, f)\n"
   ]
  },
  {
   "cell_type": "code",
   "execution_count": 280,
   "metadata": {},
   "outputs": [],
   "source": [
    "def plot_train_eval_result(\n",
    "           train_loss_list, train_acc_list, train_balanced_acc_list, \\\n",
    "           valid_loss_list, valid_acc_list, valid_balanced_acc_list):\n",
    "    epochs = np.arange(1, len(train_loss_list) + 1)\n",
    "\n",
    "    plt.figure(figsize=(10, 10))\n",
    "    plt.subplot(3, 1, 1)\n",
    "    plt.plot(epochs, train_loss_list, label='train')\n",
    "    plt.plot(epochs, valid_loss_list, label='valid')\n",
    "    plt.title('Loss')\n",
    "    plt.legend()\n",
    "    plt.xlabel('Epoch')\n",
    "    plt.ylabel('Loss')\n",
    "    \n",
    "    plt.subplot(3, 1, 2)\n",
    "    plt.plot(epochs, [x*100 for x in train_acc_list], label='train')\n",
    "    plt.plot(epochs, [x*100 for x in valid_acc_list], label='valid')\n",
    "    plt.title('Accuracy')\n",
    "    plt.legend()\n",
    "    plt.xlabel('Epoch')\n",
    "    plt.ylabel('Accuracy (%)')\n",
    "\n",
    "    plt.subplot(3, 1, 3)\n",
    "    plt.plot(epochs, [x*100 for x in train_balanced_acc_list], label='train')\n",
    "    plt.plot(epochs, [x*100 for x in valid_balanced_acc_list], label='valid')\n",
    "    plt.title('Balanced Accuracy')\n",
    "    plt.legend()\n",
    "    plt.xlabel('Epoch')\n",
    "    plt.ylabel('Balanced Accuracy (%)')\n",
    "\n",
    "    plt.tight_layout()"
   ]
  },
  {
   "cell_type": "code",
   "execution_count": 281,
   "metadata": {},
   "outputs": [
    {
     "name": "stdout",
     "output_type": "stream",
     "text": [
      "Epoch 1/10\n",
      "----------\n"
     ]
    },
    {
     "data": {
      "application/vnd.jupyter.widget-view+json": {
       "model_id": "7195c702908048bd836a57d274ffda79",
       "version_major": 2,
       "version_minor": 0
      },
      "text/plain": [
       "  0%|          | 0/54 [00:00<?, ?it/s]"
      ]
     },
     "metadata": {},
     "output_type": "display_data"
    },
    {
     "name": "stdout",
     "output_type": "stream",
     "text": [
      "confusion_matrix_result:\n",
      "[[163   9   0   3   2]\n",
      " [ 82  11   0   5   1]\n",
      " [ 29   4   0   3   1]\n",
      " [ 57   5   0  15   2]\n",
      " [ 26   6   0   5   1]]\n",
      "get_category_accuracy:[0.92090395 0.11111111 0.         0.18987342 0.02631579]\n",
      "Train loss: 1.4221 Acc: 0.4419 Balanced Acc: 0.2496\n",
      "id_to_label: [(0, 'HGSC'), (1, 'EC'), (2, 'MC'), (3, 'CC'), (4, 'LGSC')]\n",
      "Elapsed time: 00:00:19\n"
     ]
    },
    {
     "data": {
      "application/vnd.jupyter.widget-view+json": {
       "model_id": "caf39caeadb141e3b1fb49ebd74c558c",
       "version_major": 2,
       "version_minor": 0
      },
      "text/plain": [
       "  0%|          | 0/14 [00:00<?, ?it/s]"
      ]
     },
     "metadata": {},
     "output_type": "display_data"
    },
    {
     "name": "stdout",
     "output_type": "stream",
     "text": [
      "confusion_matrix_result:\n",
      "[[12  0  0 33  0]\n",
      " [ 5  0  0 20  0]\n",
      " [ 3  0  0  6  0]\n",
      " [ 0  0  0 20  0]\n",
      " [ 2  0  0  7  0]]\n",
      "get_category_accuracy:[0.26666667 0.         0.         1.         0.        ]\n",
      "Valid loss: 1.4924 Acc: 0.2963 Balanced Acc: 0.2533\n",
      "id_to_label: [(0, 'HGSC'), (1, 'EC'), (2, 'MC'), (3, 'CC'), (4, 'LGSC')]\n",
      "Elapsed time: 00:00:21\n",
      "\n",
      "\n",
      "Epoch 2/10\n",
      "----------\n"
     ]
    },
    {
     "data": {
      "application/vnd.jupyter.widget-view+json": {
       "model_id": "c9525a616cf447559832a1b8425e570c",
       "version_major": 2,
       "version_minor": 0
      },
      "text/plain": [
       "  0%|          | 0/54 [00:00<?, ?it/s]"
      ]
     },
     "metadata": {},
     "output_type": "display_data"
    },
    {
     "name": "stdout",
     "output_type": "stream",
     "text": [
      "confusion_matrix_result:\n",
      "[[152  12   0  13   0]\n",
      " [ 65  23   0  11   0]\n",
      " [ 23   8   0   6   0]\n",
      " [ 31  14   0  34   0]\n",
      " [ 21  11   0   6   0]]\n",
      "get_category_accuracy:[0.85875706 0.23232323 0.         0.43037975 0.        ]\n",
      "Train loss: 1.2722 Acc: 0.4860 Balanced Acc: 0.3043\n",
      "id_to_label: [(0, 'HGSC'), (1, 'EC'), (2, 'MC'), (3, 'CC'), (4, 'LGSC')]\n",
      "Elapsed time: 00:00:40\n"
     ]
    },
    {
     "data": {
      "application/vnd.jupyter.widget-view+json": {
       "model_id": "cba3c0ff2cd94afc89a88fbb253ec33d",
       "version_major": 2,
       "version_minor": 0
      },
      "text/plain": [
       "  0%|          | 0/14 [00:00<?, ?it/s]"
      ]
     },
     "metadata": {},
     "output_type": "display_data"
    },
    {
     "name": "stdout",
     "output_type": "stream",
     "text": [
      "confusion_matrix_result:\n",
      "[[15  0  0 30  0]\n",
      " [ 4  0  0 21  0]\n",
      " [ 1  0  0  8  0]\n",
      " [ 0  0  0 20  0]\n",
      " [ 4  0  0  5  0]]\n",
      "get_category_accuracy:[0.33333333 0.         0.         1.         0.        ]\n",
      "Valid loss: 1.4924 Acc: 0.3241 Balanced Acc: 0.2667\n",
      "id_to_label: [(0, 'HGSC'), (1, 'EC'), (2, 'MC'), (3, 'CC'), (4, 'LGSC')]\n",
      "Elapsed time: 00:00:42\n",
      "\n",
      "\n",
      "Epoch 3/10\n",
      "----------\n"
     ]
    },
    {
     "data": {
      "application/vnd.jupyter.widget-view+json": {
       "model_id": "f2c52959905e46daa7ea737ff9f37709",
       "version_major": 2,
       "version_minor": 0
      },
      "text/plain": [
       "  0%|          | 0/54 [00:00<?, ?it/s]"
      ]
     },
     "metadata": {},
     "output_type": "display_data"
    },
    {
     "name": "stdout",
     "output_type": "stream",
     "text": [
      "confusion_matrix_result:\n",
      "[[147  17   1  12   0]\n",
      " [ 47  36   1  15   0]\n",
      " [ 21   2   4  10   0]\n",
      " [ 27   4   0  48   0]\n",
      " [ 15   8   0  13   2]]\n",
      "get_category_accuracy:[0.83050847 0.36363636 0.10810811 0.60759494 0.05263158]\n",
      "Train loss: 1.1851 Acc: 0.5512 Balanced Acc: 0.3925\n",
      "id_to_label: [(0, 'HGSC'), (1, 'EC'), (2, 'MC'), (3, 'CC'), (4, 'LGSC')]\n",
      "Elapsed time: 00:01:01\n"
     ]
    },
    {
     "data": {
      "application/vnd.jupyter.widget-view+json": {
       "model_id": "fe287c8c68424aa6a1f6b3f9cbe69673",
       "version_major": 2,
       "version_minor": 0
      },
      "text/plain": [
       "  0%|          | 0/14 [00:00<?, ?it/s]"
      ]
     },
     "metadata": {},
     "output_type": "display_data"
    },
    {
     "name": "stdout",
     "output_type": "stream",
     "text": [
      "confusion_matrix_result:\n",
      "[[28  3  0 12  2]\n",
      " [ 8  6  0 11  0]\n",
      " [ 0  0  2  7  0]\n",
      " [ 3  0  0 16  1]\n",
      " [ 4  0  0  5  0]]\n",
      "get_category_accuracy:[0.62222222 0.24       0.22222222 0.8        0.        ]\n",
      "Valid loss: 1.3456 Acc: 0.4815 Balanced Acc: 0.3769\n",
      "id_to_label: [(0, 'HGSC'), (1, 'EC'), (2, 'MC'), (3, 'CC'), (4, 'LGSC')]\n",
      "Elapsed time: 00:01:03\n",
      "\n",
      "\n",
      "Epoch 4/10\n",
      "----------\n"
     ]
    },
    {
     "data": {
      "application/vnd.jupyter.widget-view+json": {
       "model_id": "161495a57c984c4a9b400ff2012b5e5b",
       "version_major": 2,
       "version_minor": 0
      },
      "text/plain": [
       "  0%|          | 0/54 [00:00<?, ?it/s]"
      ]
     },
     "metadata": {},
     "output_type": "display_data"
    },
    {
     "name": "stdout",
     "output_type": "stream",
     "text": [
      "confusion_matrix_result:\n",
      "[[143  21   0  11   2]\n",
      " [ 55  28   2  13   1]\n",
      " [ 15   4  10   6   2]\n",
      " [ 23   2   0  53   1]\n",
      " [ 19   2   1   9   7]]\n",
      "get_category_accuracy:[0.8079096  0.28282828 0.27027027 0.67088608 0.18421053]\n",
      "Train loss: 1.1343 Acc: 0.5605 Balanced Acc: 0.4432\n",
      "id_to_label: [(0, 'HGSC'), (1, 'EC'), (2, 'MC'), (3, 'CC'), (4, 'LGSC')]\n",
      "Elapsed time: 00:01:23\n"
     ]
    },
    {
     "data": {
      "application/vnd.jupyter.widget-view+json": {
       "model_id": "da4e51f8c02b435e9810cc763441b6bd",
       "version_major": 2,
       "version_minor": 0
      },
      "text/plain": [
       "  0%|          | 0/14 [00:00<?, ?it/s]"
      ]
     },
     "metadata": {},
     "output_type": "display_data"
    },
    {
     "name": "stdout",
     "output_type": "stream",
     "text": [
      "confusion_matrix_result:\n",
      "[[23  6  0 14  2]\n",
      " [ 6  9  0  8  2]\n",
      " [ 0  0  3  6  0]\n",
      " [ 2  0  1 15  2]\n",
      " [ 3  0  1  5  0]]\n",
      "get_category_accuracy:[0.51111111 0.36       0.33333333 0.75       0.        ]\n",
      "Valid loss: 1.3062 Acc: 0.4630 Balanced Acc: 0.3909\n",
      "id_to_label: [(0, 'HGSC'), (1, 'EC'), (2, 'MC'), (3, 'CC'), (4, 'LGSC')]\n",
      "Elapsed time: 00:01:25\n",
      "\n",
      "\n",
      "Epoch 5/10\n",
      "----------\n"
     ]
    },
    {
     "data": {
      "application/vnd.jupyter.widget-view+json": {
       "model_id": "945f942532da4e1ebc48d9087d6c8514",
       "version_major": 2,
       "version_minor": 0
      },
      "text/plain": [
       "  0%|          | 0/54 [00:00<?, ?it/s]"
      ]
     },
     "metadata": {},
     "output_type": "display_data"
    },
    {
     "name": "stdout",
     "output_type": "stream",
     "text": [
      "confusion_matrix_result:\n",
      "[[139  24   2  10   2]\n",
      " [ 46  43   2   7   1]\n",
      " [ 12   7  10   6   2]\n",
      " [ 20   8   0  48   3]\n",
      " [ 13   8   1   8   8]]\n",
      "get_category_accuracy:[0.78531073 0.43434343 0.27027027 0.60759494 0.21052632]\n",
      "Train loss: 1.0960 Acc: 0.5767 Balanced Acc: 0.4616\n",
      "id_to_label: [(0, 'HGSC'), (1, 'EC'), (2, 'MC'), (3, 'CC'), (4, 'LGSC')]\n",
      "Elapsed time: 00:01:44\n"
     ]
    },
    {
     "data": {
      "application/vnd.jupyter.widget-view+json": {
       "model_id": "a21c6f3349494928b228717120acaad0",
       "version_major": 2,
       "version_minor": 0
      },
      "text/plain": [
       "  0%|          | 0/14 [00:00<?, ?it/s]"
      ]
     },
     "metadata": {},
     "output_type": "display_data"
    },
    {
     "name": "stdout",
     "output_type": "stream",
     "text": [
      "confusion_matrix_result:\n",
      "[[26  3  0 14  2]\n",
      " [ 6  6  0  9  4]\n",
      " [ 1  1  2  4  1]\n",
      " [ 1  0  1 16  2]\n",
      " [ 3  0  1  4  1]]\n",
      "get_category_accuracy:[0.57777778 0.24       0.22222222 0.8        0.11111111]\n",
      "Valid loss: 1.2597 Acc: 0.4722 Balanced Acc: 0.3902\n",
      "id_to_label: [(0, 'HGSC'), (1, 'EC'), (2, 'MC'), (3, 'CC'), (4, 'LGSC')]\n",
      "Elapsed time: 00:01:46\n",
      "\n",
      "\n",
      "Epoch 6/10\n",
      "----------\n"
     ]
    },
    {
     "data": {
      "application/vnd.jupyter.widget-view+json": {
       "model_id": "f496e9fd149647bb85fca31c5929d824",
       "version_major": 2,
       "version_minor": 0
      },
      "text/plain": [
       "  0%|          | 0/54 [00:00<?, ?it/s]"
      ]
     },
     "metadata": {},
     "output_type": "display_data"
    },
    {
     "name": "stdout",
     "output_type": "stream",
     "text": [
      "confusion_matrix_result:\n",
      "[[129  24   3  19   2]\n",
      " [ 42  40   2  12   3]\n",
      " [  9   7  13   5   3]\n",
      " [ 20   9   1  47   2]\n",
      " [ 17   4   1   9   7]]\n",
      "get_category_accuracy:[0.72881356 0.4040404  0.35135135 0.59493671 0.18421053]\n",
      "Train loss: 1.1113 Acc: 0.5488 Balanced Acc: 0.4527\n",
      "id_to_label: [(0, 'HGSC'), (1, 'EC'), (2, 'MC'), (3, 'CC'), (4, 'LGSC')]\n",
      "Elapsed time: 00:02:05\n"
     ]
    },
    {
     "data": {
      "application/vnd.jupyter.widget-view+json": {
       "model_id": "17a6d9e655674bda929462293a4a5b52",
       "version_major": 2,
       "version_minor": 0
      },
      "text/plain": [
       "  0%|          | 0/14 [00:00<?, ?it/s]"
      ]
     },
     "metadata": {},
     "output_type": "display_data"
    },
    {
     "name": "stdout",
     "output_type": "stream",
     "text": [
      "confusion_matrix_result:\n",
      "[[24  6  0 14  1]\n",
      " [ 6 10  0  9  0]\n",
      " [ 1  1  3  4  0]\n",
      " [ 0  0  1 17  2]\n",
      " [ 3  0  1  4  1]]\n",
      "get_category_accuracy:[0.53333333 0.4        0.33333333 0.85       0.11111111]\n",
      "Valid loss: 1.2188 Acc: 0.5093 Balanced Acc: 0.4456\n",
      "id_to_label: [(0, 'HGSC'), (1, 'EC'), (2, 'MC'), (3, 'CC'), (4, 'LGSC')]\n",
      "Elapsed time: 00:02:07\n",
      "\n",
      "\n",
      "Epoch 7/10\n",
      "----------\n"
     ]
    },
    {
     "data": {
      "application/vnd.jupyter.widget-view+json": {
       "model_id": "ec2e17767c454b37883bb2c05f6d9e8a",
       "version_major": 2,
       "version_minor": 0
      },
      "text/plain": [
       "  0%|          | 0/54 [00:00<?, ?it/s]"
      ]
     },
     "metadata": {},
     "output_type": "display_data"
    },
    {
     "name": "stdout",
     "output_type": "stream",
     "text": [
      "confusion_matrix_result:\n",
      "[[144  15   3  13   2]\n",
      " [ 50  34   2  11   2]\n",
      " [ 10   8  14   3   2]\n",
      " [ 22   8   2  45   2]\n",
      " [ 11   6   2  14   5]]\n",
      "get_category_accuracy:[0.81355932 0.34343434 0.37837838 0.56962025 0.13157895]\n",
      "Train loss: 1.0698 Acc: 0.5628 Balanced Acc: 0.4473\n",
      "id_to_label: [(0, 'HGSC'), (1, 'EC'), (2, 'MC'), (3, 'CC'), (4, 'LGSC')]\n",
      "Elapsed time: 00:02:26\n"
     ]
    },
    {
     "data": {
      "application/vnd.jupyter.widget-view+json": {
       "model_id": "e779a5fcb343436b84f0f4e9ef81b8a0",
       "version_major": 2,
       "version_minor": 0
      },
      "text/plain": [
       "  0%|          | 0/14 [00:00<?, ?it/s]"
      ]
     },
     "metadata": {},
     "output_type": "display_data"
    },
    {
     "name": "stdout",
     "output_type": "stream",
     "text": [
      "confusion_matrix_result:\n",
      "[[24 10  0  8  3]\n",
      " [ 6 15  0  4  0]\n",
      " [ 1  1  3  4  0]\n",
      " [ 0  1  1 16  2]\n",
      " [ 3  0  1  4  1]]\n",
      "get_category_accuracy:[0.53333333 0.6        0.33333333 0.8        0.11111111]\n",
      "Valid loss: 1.1628 Acc: 0.5463 Balanced Acc: 0.4756\n",
      "id_to_label: [(0, 'HGSC'), (1, 'EC'), (2, 'MC'), (3, 'CC'), (4, 'LGSC')]\n",
      "Elapsed time: 00:02:28\n",
      "\n",
      "\n",
      "Epoch 8/10\n",
      "----------\n"
     ]
    },
    {
     "data": {
      "application/vnd.jupyter.widget-view+json": {
       "model_id": "a80295d83185481a8b88eeb16d98e14a",
       "version_major": 2,
       "version_minor": 0
      },
      "text/plain": [
       "  0%|          | 0/54 [00:00<?, ?it/s]"
      ]
     },
     "metadata": {},
     "output_type": "display_data"
    },
    {
     "name": "stdout",
     "output_type": "stream",
     "text": [
      "confusion_matrix_result:\n",
      "[[143  18   1  14   1]\n",
      " [ 41  44   4   8   2]\n",
      " [ 11   7  12   5   2]\n",
      " [ 19   8   2  49   1]\n",
      " [ 12   6   2  10   8]]\n",
      "get_category_accuracy:[0.8079096  0.44444444 0.32432432 0.62025316 0.21052632]\n",
      "Train loss: 1.0390 Acc: 0.5953 Balanced Acc: 0.4815\n",
      "id_to_label: [(0, 'HGSC'), (1, 'EC'), (2, 'MC'), (3, 'CC'), (4, 'LGSC')]\n",
      "Elapsed time: 00:02:48\n"
     ]
    },
    {
     "data": {
      "application/vnd.jupyter.widget-view+json": {
       "model_id": "7e5b3ef666ce4c4ea04d4b951e28c36b",
       "version_major": 2,
       "version_minor": 0
      },
      "text/plain": [
       "  0%|          | 0/14 [00:00<?, ?it/s]"
      ]
     },
     "metadata": {},
     "output_type": "display_data"
    },
    {
     "name": "stdout",
     "output_type": "stream",
     "text": [
      "confusion_matrix_result:\n",
      "[[29  7  0  5  4]\n",
      " [ 6 13  0  3  3]\n",
      " [ 0  2  4  2  1]\n",
      " [ 2  2  1 12  3]\n",
      " [ 4  0  0  1  4]]\n",
      "get_category_accuracy:[0.64444444 0.52       0.44444444 0.6        0.44444444]\n",
      "Valid loss: 1.0617 Acc: 0.5741 Balanced Acc: 0.5307\n",
      "id_to_label: [(0, 'HGSC'), (1, 'EC'), (2, 'MC'), (3, 'CC'), (4, 'LGSC')]\n",
      "Elapsed time: 00:02:50\n",
      "\n",
      "\n",
      "Epoch 9/10\n",
      "----------\n"
     ]
    },
    {
     "data": {
      "application/vnd.jupyter.widget-view+json": {
       "model_id": "a05fd118ffd14af5a3b864397658ce4e",
       "version_major": 2,
       "version_minor": 0
      },
      "text/plain": [
       "  0%|          | 0/54 [00:00<?, ?it/s]"
      ]
     },
     "metadata": {},
     "output_type": "display_data"
    },
    {
     "name": "stdout",
     "output_type": "stream",
     "text": [
      "confusion_matrix_result:\n",
      "[[132  29   3   9   4]\n",
      " [ 31  48   6  11   3]\n",
      " [  9   2  21   4   1]\n",
      " [ 14  12   1  48   4]\n",
      " [ 12   3   0   8  15]]\n",
      "get_category_accuracy:[0.74576271 0.48484848 0.56756757 0.60759494 0.39473684]\n",
      "Train loss: 1.0068 Acc: 0.6140 Balanced Acc: 0.5601\n",
      "id_to_label: [(0, 'HGSC'), (1, 'EC'), (2, 'MC'), (3, 'CC'), (4, 'LGSC')]\n",
      "Elapsed time: 00:03:10\n"
     ]
    },
    {
     "data": {
      "application/vnd.jupyter.widget-view+json": {
       "model_id": "0f98d72236c644d8861e254f0bad8634",
       "version_major": 2,
       "version_minor": 0
      },
      "text/plain": [
       "  0%|          | 0/14 [00:00<?, ?it/s]"
      ]
     },
     "metadata": {},
     "output_type": "display_data"
    },
    {
     "name": "stdout",
     "output_type": "stream",
     "text": [
      "confusion_matrix_result:\n",
      "[[28  8  0  6  3]\n",
      " [ 5 15  0  3  2]\n",
      " [ 0  2  4  2  1]\n",
      " [ 1  1  1 14  3]\n",
      " [ 5  0  0  1  3]]\n",
      "get_category_accuracy:[0.62222222 0.6        0.44444444 0.7        0.33333333]\n",
      "Valid loss: 1.0326 Acc: 0.5926 Balanced Acc: 0.5400\n",
      "id_to_label: [(0, 'HGSC'), (1, 'EC'), (2, 'MC'), (3, 'CC'), (4, 'LGSC')]\n",
      "Elapsed time: 00:03:12\n",
      "\n",
      "\n",
      "Epoch 10/10\n",
      "----------\n"
     ]
    },
    {
     "data": {
      "application/vnd.jupyter.widget-view+json": {
       "model_id": "94ca88f329274e829727942a77a4f2d6",
       "version_major": 2,
       "version_minor": 0
      },
      "text/plain": [
       "  0%|          | 0/54 [00:00<?, ?it/s]"
      ]
     },
     "metadata": {},
     "output_type": "display_data"
    },
    {
     "name": "stdout",
     "output_type": "stream",
     "text": [
      "confusion_matrix_result:\n",
      "[[143  17   1  15   1]\n",
      " [ 44  43   2   9   1]\n",
      " [  7   8  17   3   2]\n",
      " [ 20   6   3  46   4]\n",
      " [ 12   1   1  11  13]]\n",
      "get_category_accuracy:[0.8079096  0.43434343 0.45945946 0.58227848 0.34210526]\n",
      "Train loss: 1.0075 Acc: 0.6093 Balanced Acc: 0.5252\n",
      "id_to_label: [(0, 'HGSC'), (1, 'EC'), (2, 'MC'), (3, 'CC'), (4, 'LGSC')]\n",
      "Elapsed time: 00:03:31\n"
     ]
    },
    {
     "data": {
      "application/vnd.jupyter.widget-view+json": {
       "model_id": "79bab5ecce074935b691229847da0cf6",
       "version_major": 2,
       "version_minor": 0
      },
      "text/plain": [
       "  0%|          | 0/14 [00:00<?, ?it/s]"
      ]
     },
     "metadata": {},
     "output_type": "display_data"
    },
    {
     "name": "stdout",
     "output_type": "stream",
     "text": [
      "confusion_matrix_result:\n",
      "[[23 19  0  1  2]\n",
      " [ 3 20  1  0  1]\n",
      " [ 0  3  6  0  0]\n",
      " [ 2  5  1  8  4]\n",
      " [ 3  3  0  0  3]]\n",
      "get_category_accuracy:[0.51111111 0.8        0.66666667 0.4        0.33333333]\n",
      "Valid loss: 1.0419 Acc: 0.5556 Balanced Acc: 0.5422\n",
      "id_to_label: [(0, 'HGSC'), (1, 'EC'), (2, 'MC'), (3, 'CC'), (4, 'LGSC')]\n",
      "Elapsed time: 00:03:33\n",
      "\n",
      "\n",
      "best_valid_loss: 1.032601930477001\n",
      "best_valid_acc: 0.5925925925925926\n",
      "best_valid_balanced_acc: 0.5422222222222223\n"
     ]
    }
   ],
   "source": [
    "model_trained, best_model_valid_acc, best_model_valid_loss, best_model_valid_balanced_acc, \\\n",
    "train_loss_list, train_acc_list, train_balanced_acc_list, \\\n",
    "valid_loss_list, valid_acc_list, valid_balanced_acc_list, \\\n",
    "best_valid_loss, best_valid_acc = \\\n",
    "train(model_raw, train_dataloader, valid_dataloader, optimizer, criteria, num_epochs, eval_patience, device)\n",
    "\n",
    "print(\"best_valid_loss:\", np.min(valid_loss_list))\n",
    "print(\"best_valid_acc:\", np.max(valid_acc_list))\n",
    "print(\"best_valid_balanced_acc:\", np.max(valid_balanced_acc_list))\n"
   ]
  },
  {
   "cell_type": "code",
   "execution_count": 282,
   "metadata": {},
   "outputs": [],
   "source": [
    "# # train_loss_list = [data.cpu().item() for data in train_loss_list]\n",
    "# train_acc_list = [data.cpu().item() for data in train_acc_list]\n",
    "# # valid_loss_list = [data.cpu().item() for data in valid_loss_list]\n",
    "# valid_acc_list = [data.cpu().item() for data in valid_acc_list]"
   ]
  },
  {
   "cell_type": "code",
   "execution_count": 283,
   "metadata": {},
   "outputs": [],
   "source": [
    "store_result(best_model_valid_acc, best_model_valid_loss, best_model_valid_balanced_acc, \\\n",
    "             train_loss_list, train_acc_list, train_balanced_acc_list, \\\n",
    "             valid_loss_list, valid_acc_list, valid_balanced_acc_list)"
   ]
  },
  {
   "cell_type": "code",
   "execution_count": 284,
   "metadata": {},
   "outputs": [
    {
     "data": {
      "image/png": "[encoded data removed]",
      "text/plain": [
       "<Figure size 1000x1000 with 3 Axes>"
      ]
     },
     "metadata": {},
     "output_type": "display_data"
    }
   ],
   "source": [
    "plot_train_eval_result(\n",
    "           train_loss_list, train_acc_list, train_balanced_acc_list, \\\n",
    "           valid_loss_list, valid_acc_list, valid_balanced_acc_list)\n"
   ]
  },
  {
   "cell_type": "code",
   "execution_count": null,
   "metadata": {},
   "outputs": [],
   "source": []
  },
  {
   "cell_type": "markdown",
   "metadata": {},
   "source": []
  },
  {
   "cell_type": "code",
   "execution_count": 285,
   "metadata": {},
   "outputs": [],
   "source": [
    "# efficientnet = torch.hub.load('NVIDIA/DeepLearningExamples:torchhub', 'nvidia_efficientnet_b0', pretrained=True)\n",
    "# utils = torch.hub.load('NVIDIA/DeepLearningExamples:torchhub', 'nvidia_convnets_processing_utils')\n",
    "\n",
    "# efficientnet.eval().to(device)\n"
   ]
  },
  {
   "cell_type": "code",
   "execution_count": 286,
   "metadata": {},
   "outputs": [],
   "source": [
    "# # Download an example image\n",
    "# import urllib\n",
    "# url, filename = (\"https://github.com/mateuszbuda/brain-segmentation-pytorch/raw/master/assets/TCGA_CS_4944.png\", \"TCGA_CS_4944.png\")\n",
    "# try: urllib.URLopener().retrieve(url, filename)\n",
    "# except: urllib.request.urlretrieve(url, filename)\n"
   ]
  },
  {
   "cell_type": "code",
   "execution_count": 287,
   "metadata": {},
   "outputs": [],
   "source": [
    "# model = torch.hub.load('mateuszbuda/brain-segmentation-pytorch', 'unet',\n",
    "#     in_channels=3, out_channels=1, init_features=32, pretrained=True)\n"
   ]
  },
  {
   "cell_type": "code",
   "execution_count": 288,
   "metadata": {},
   "outputs": [],
   "source": [
    "# import numpy as np\n",
    "# from PIL import Image\n",
    "# from torchvision import transforms\n",
    "\n",
    "# input_image = Image.open(filename)\n",
    "# m, s = np.mean(input_image, axis=(0, 1)), np.std(input_image, axis=(0, 1))\n",
    "# preprocess = transforms.Compose([\n",
    "#     transforms.ToTensor(),\n",
    "#     transforms.Normalize(mean=m, std=s),\n",
    "# ])\n",
    "# input_tensor = preprocess(input_image)\n",
    "# input_batch = input_tensor.unsqueeze(0)\n",
    "\n",
    "# if torch.cuda.is_available():\n",
    "#     input_batch = input_batch.to('cuda')\n",
    "#     model = model.to('cuda')\n",
    "\n",
    "# with torch.no_grad():\n",
    "#     output = model(input_batch)\n",
    "\n",
    "# print(torch.round(output[0]))"
   ]
  },
  {
   "cell_type": "code",
   "execution_count": null,
   "metadata": {},
   "outputs": [],
   "source": []
  }
 ],
 "metadata": {
  "kernelspec": {
   "display_name": "py39",
   "language": "python",
   "name": "python3"
  },
  "language_info": {
   "codemirror_mode": {
    "name": "ipython",
    "version": 3
   },
   "file_extension": ".py",
   "mimetype": "text/x-python",
   "name": "python",
   "nbconvert_exporter": "python",
   "pygments_lexer": "ipython3",
   "version": "3.9.13"
  }
 },
 "nbformat": 4,
 "nbformat_minor": 2
}
