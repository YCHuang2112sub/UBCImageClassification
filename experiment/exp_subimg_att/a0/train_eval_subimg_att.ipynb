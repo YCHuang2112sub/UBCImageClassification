{
 "cells": [
  {
   "cell_type": "code",
   "execution_count": 77,
   "metadata": {},
   "outputs": [],
   "source": [
    "# !python script.py"
   ]
  },
  {
   "cell_type": "code",
   "execution_count": 78,
   "metadata": {},
   "outputs": [],
   "source": [
    "import torch\n",
    "import torch.nn as nn\n",
    "import torch.optim as optim\n",
    "import torch.nn.functional as F\n",
    "import torchvision\n",
    "import torchvision.transforms as transforms\n",
    "\n",
    "from torch.utils.data import Dataset, DataLoader\n",
    "# from torchvision import models\n",
    "from torchsummary import summary\n",
    "import PIL\n",
    "from PIL import Image\n",
    "\n",
    "import numpy as np\n",
    "import matplotlib.pyplot as plt\n",
    "import time\n",
    "import os\n",
    "import copy\n",
    "import random\n",
    "import pandas as pd\n",
    "import seaborn as sns\n",
    "import pickle\n",
    "\n",
    "from sklearn.model_selection import train_test_split\n",
    "from sklearn.metrics import confusion_matrix\n",
    "from sklearn.metrics import balanced_accuracy_score\n",
    "from sklearn.metrics import confusion_matrix\n",
    "\n",
    "\n",
    "from pathlib import Path\n",
    "from collections import defaultdict\n",
    "from tqdm.notebook import tqdm\n",
    "import validators\n",
    "\n",
    "import argparse\n",
    "import re\n",
    "from collections import Counter\n",
    "\n",
    "\n",
    "import sys\n",
    "import os\n",
    "# sys.path.append(Path(os.getcwd(),'../../').absolute())\n",
    "# print(type(Path(os.getcwd(),'../../').absolute()))\n",
    "\n",
    "# try:\n",
    "#     __IPYTHON__\n",
    "sys.path.append(os.getcwd() + '/../../../')\n",
    "sys.path.append(os.getcwd() + '/../../../../')\n",
    "# except NameError:\n",
    "#     _in_ipython_session = False\n",
    "#     sys.path.append(os.path.realpath(__file__) + '/../../../')\n",
    "# print(os.path.realpath(__file__))\n",
    "# print(sys.path)\n",
    "\n",
    "from lib.utils.img_utils import split2SubImages\n",
    "from lib.network_architecture.subimg_att_01 import ImgAttClassifier, Downscale4StageCNN\n",
    "\n",
    "\n",
    "import logging\n",
    "\n"
   ]
  },
  {
   "cell_type": "code",
   "execution_count": 79,
   "metadata": {},
   "outputs": [
    {
     "name": "stdout",
     "output_type": "stream",
     "text": [
      "number_of_cpus:  16\n",
      "confined to number_of_cpus:  16\n"
     ]
    }
   ],
   "source": [
    "\n",
    "print(\"number_of_cpus: \", torch.get_num_threads())\n",
    "torch.set_num_threads(16)\n",
    "print(\"confined to number_of_cpus: \", torch.get_num_threads())"
   ]
  },
  {
   "cell_type": "code",
   "execution_count": 80,
   "metadata": {},
   "outputs": [
    {
     "data": {
      "text/plain": [
       "_StoreAction(option_strings=['--eval_patience'], dest='eval_patience', nargs=None, const=None, default=20, type=<class 'int'>, choices=None, required=False, help='patience for early stopping', metavar=None)"
      ]
     },
     "execution_count": 80,
     "metadata": {},
     "output_type": "execute_result"
    }
   ],
   "source": [
    "## using argparse to set parameters\n",
    "parser = argparse.ArgumentParser(description='Train model on UCB Image Dataset')\n",
    "parser.add_argument('--source_dataset_dir', type=str, default='/projectnb/cs640grp/materials/UBC-OCEAN_CS640', help='path to dataset')\n",
    "parser.add_argument('--local_dataset_dir', type=str, default='../../../dataset', help='path to local dataset')\n",
    "parser.add_argument('--model_dir', type=str, default='./model', help='path to tained model')\n",
    "parser.add_argument('--experiment_name', type=str, default='exp_1', help='experiment name')\n",
    "\n",
    "parser.add_argument('--train_image_folder', type=str, default='img_size_512x512', help='training image folder name')\n",
    "parser.add_argument('--eval_image_folder', type=str, default='test_img_size_512x512', help='evaluate image folder name')\n",
    "# parser.add_argument('--train_image_folder', type=str, default='train_images_compressed_80', help='training image folder name')\n",
    "parser.add_argument('--image_input_size', type=str, default='(512, 512)', help='input image size')\n",
    "parser.add_argument('--batch_size', type=int, default=8, help='batch size')\n",
    "parser.add_argument('--num_epochs', type=int, default=10, help='number of epochs')\n",
    "parser.add_argument('--lr', type=float, default=0.001, help='learning rate')\n",
    "# parser.add_argument('--momentum', type=float, default=0.9, help='momentum')\n",
    "parser.add_argument('--weight_decay', type=float, default=0.0001, help='weight decay')\n",
    "parser.add_argument('--eval_patience', type=int, default=20, help='patience for early stopping')"
   ]
  },
  {
   "cell_type": "code",
   "execution_count": 81,
   "metadata": {},
   "outputs": [
    {
     "name": "stdout",
     "output_type": "stream",
     "text": [
      "settings: {'source_dataset_dir': '/projectnb/cs640grp/materials/UBC-OCEAN_CS640', 'local_dataset_dir': '../../../dataset', 'model_dir': './model', 'experiment_name': 'exp_1', 'train_image_folder': 'img_size_512x512', 'eval_image_folder': 'test_img_size_512x512', 'image_input_size': '(512, 512)', 'batch_size': 8, 'num_epochs': 10, 'lr': 0.001, 'weight_decay': 0.0001, 'eval_patience': 20}\n"
     ]
    }
   ],
   "source": [
    "setting = None\n",
    "try:\n",
    "    __IPYTHON__\n",
    "    _in_ipython_session = True\n",
    "    settings = parser.parse_args(\"\")\n",
    "except NameError:\n",
    "    _in_ipython_session = False\n",
    "    settings = parser.parse_args()\n",
    "\n",
    "print(\"settings:\", vars(settings))\n",
    "# # save settings in to a log file\n",
    "# with open(Path(settings.model_dir, settings.experiment_name, 'settings.txt'), 'w') as f:\n",
    "#     print(vars(settings), file=f)"
   ]
  },
  {
   "cell_type": "code",
   "execution_count": 82,
   "metadata": {},
   "outputs": [],
   "source": [
    "image_input_size = eval(settings.image_input_size)\n",
    "assert isinstance(image_input_size, tuple) and len(image_input_size) == 2, \"image_input_size must be a tuple of length 2\"\n",
    "\n",
    "# # vars(settings)\n",
    "# # print(image_input_size)"
   ]
  },
  {
   "cell_type": "code",
   "execution_count": 83,
   "metadata": {},
   "outputs": [],
   "source": [
    "PIL.Image.MAX_IMAGE_PIXELS = 933120000\n",
    "# IMAGE_INPUT_SIZE = (2048, 2048)\n",
    "\n",
    "IMAGE_INPUT_SIZE = image_input_size"
   ]
  },
  {
   "cell_type": "code",
   "execution_count": 84,
   "metadata": {},
   "outputs": [],
   "source": [
    "def create_dir_if_not_exist(dir):\n",
    "    if not os.path.exists(dir):\n",
    "        os.makedirs(dir)"
   ]
  },
  {
   "cell_type": "code",
   "execution_count": 85,
   "metadata": {},
   "outputs": [
    {
     "name": "stdout",
     "output_type": "stream",
     "text": [
      "RESULT_DIR: result\\exp_1\\img_size_512x512_lr_0p001__batch_size_8__num_epochs_10__weight_decay_0p0001__eval_patience_20\n",
      "LOG_DIR: log\\exp_1\n"
     ]
    }
   ],
   "source": [
    "SOURCE_DATASET_DIR = settings.source_dataset_dir\n",
    "# DATASET_PATH = \"dataset\"\n",
    "# TRAIN_IMAGE_FOLDER = \"train_images_compressed_80\"\n",
    "# TEST_IMAGE_FOLDER = \"test_images_compressed_80\"\n",
    "# TRAIN_IMAGE_FOLDER = f\"img_size_{IMAGE_INPUT_SIZE[0]}x{IMAGE_INPUT_SIZE[1]}\"\n",
    "TRAIN_IMAGE_FOLDER = settings.train_image_folder\n",
    "EVAL_IMAGE_FOLDER = settings.eval_image_folder\n",
    "\n",
    "\n",
    "# LOCAL_DATASET_DIR = \"./dataset\"\n",
    "# MODEL_DIR = \"./model/\"\n",
    "# EXPERIMENT_NAME = \"exp_1\"\n",
    "\n",
    "LOCAL_DATASET_DIR = settings.local_dataset_dir\n",
    "MODEL_DIR = settings.model_dir\n",
    "EXPERIMENT_NAME = settings.experiment_name\n",
    "\n",
    "sub_folder_name = f\"img_size_{IMAGE_INPUT_SIZE[0]}x{IMAGE_INPUT_SIZE[1]}_lr_{settings.lr}__batch_size_{settings.batch_size}__num_epochs_{settings.num_epochs}__weight_decay_{settings.weight_decay}__eval_patience_{settings.eval_patience}\"\n",
    "sub_folder_name = re.sub(r\"\\.\", \"p\", sub_folder_name)\n",
    "MODEL_SAVE_DIR = Path(MODEL_DIR, EXPERIMENT_NAME, sub_folder_name)\n",
    "RESULT_DIR = Path(\"./result\", EXPERIMENT_NAME, sub_folder_name)\n",
    "print(\"RESULT_DIR:\", RESULT_DIR)\n",
    "\n",
    "LOG_DIR = Path(\"./log\", EXPERIMENT_NAME)\n",
    "print(\"LOG_DIR:\", LOG_DIR)\n",
    "create_dir_if_not_exist(LOG_DIR)\n"
   ]
  },
  {
   "cell_type": "code",
   "execution_count": 86,
   "metadata": {},
   "outputs": [],
   "source": [
    "# # logging.basicConfig(level=logging.DEBUG)\n",
    "\n",
    "\n",
    "\n",
    "# logging.basicConfig(level=logging.INFO, filename='log.txt', filemode='w',\n",
    "logging.basicConfig(level=logging.DEBUG, filename=LOG_DIR/'log.txt', filemode='w',\n",
    "\tformat='[%(asctime)s %(levelname)-8s] %(message)s',\n",
    "\tdatefmt='%Y%m%d %H:%M:%S',\n",
    "\t)\n",
    "\n",
    "# if __name__ == \"__main__\":\n",
    "# \tlogging.debug('debug')\n",
    "# \tlogging.info('info')\n",
    "# \tlogging.warning('warning')\n",
    "# \tlogging.error('error')\n",
    "# \tlogging.critical('critical')\n",
    "# \ttime.sleep(5)\n"
   ]
  },
  {
   "cell_type": "code",
   "execution_count": 87,
   "metadata": {},
   "outputs": [],
   "source": [
    "# lr = 0.001\n",
    "# # momentum = 0.9\n",
    "# weight_decay = 0.0001\n",
    "# num_epochs = 20\n",
    "# batch_size = 32\n",
    "\n",
    "eval_patience = settings.eval_patience\n",
    "lr = settings.lr\n",
    "# momentum = settings.momentum\n",
    "weight_decay = settings.weight_decay\n",
    "num_epochs = settings.num_epochs\n",
    "batch_size = settings.batch_size"
   ]
  },
  {
   "cell_type": "code",
   "execution_count": 88,
   "metadata": {},
   "outputs": [],
   "source": [
    "create_dir_if_not_exist(LOCAL_DATASET_DIR)"
   ]
  },
  {
   "cell_type": "code",
   "execution_count": 89,
   "metadata": {},
   "outputs": [
    {
     "name": "stdout",
     "output_type": "stream",
     "text": [
      "Using cuda for inference\n"
     ]
    }
   ],
   "source": [
    "device = torch.device(\"cuda\") if torch.cuda.is_available() else torch.device(\"cpu\")\n",
    "print(f'Using {device} for inference')"
   ]
  },
  {
   "cell_type": "code",
   "execution_count": 90,
   "metadata": {},
   "outputs": [],
   "source": [
    "#pandas load data from csv\n",
    "train_csv = None\n",
    "test_csv = None\n",
    "all_labels = None\n",
    "\n",
    "if os.path.exists(Path(LOCAL_DATASET_DIR) / 'train.csv'):\n",
    "    train_csv = pd.read_csv(Path(LOCAL_DATASET_DIR) / 'train.csv').to_numpy()\n",
    "else:\n",
    "    train_csv = pd.read_csv(Path(SOURCE_DATASET_DIR) / 'train.csv').to_numpy()\n",
    "\n",
    "if os.path.exists(Path(LOCAL_DATASET_DIR) / 'test.csv'):\n",
    "    test_csv = pd.read_csv(Path(LOCAL_DATASET_DIR) / 'test.csv').to_numpy()\n",
    "else:\n",
    "    test_csv = pd.read_csv(Path(SOURCE_DATASET_DIR) / 'test.csv').to_numpy()\n",
    "\n",
    "# load npy\n",
    "if os.path.exists(Path(LOCAL_DATASET_DIR) / 'all_labels.npy'):\n",
    "    all_labels = np.load(Path(LOCAL_DATASET_DIR) / 'all_labels.npy')\n",
    "else:\n",
    "    all_labels = np.load(Path(SOURCE_DATASET_DIR) / 'all_labels.npy')\n",
    "\n",
    "\n"
   ]
  },
  {
   "cell_type": "code",
   "execution_count": null,
   "metadata": {},
   "outputs": [],
   "source": []
  },
  {
   "cell_type": "code",
   "execution_count": 91,
   "metadata": {},
   "outputs": [],
   "source": [
    "dict_id_to_label = {i: label for i, label in enumerate(all_labels)}\n",
    "dict_label_to_id = {label: i for i, label in enumerate(all_labels)}"
   ]
  },
  {
   "cell_type": "code",
   "execution_count": 92,
   "metadata": {},
   "outputs": [],
   "source": [
    "def tran_csv_to_img_path_and_label(x_csv, data_path, image_folder, dict_label_to_id):\n",
    "    x_data = []\n",
    "    for i in range(len(x_csv)):\n",
    "        #get img path\n",
    "        img_name = str(x_csv[i][0]) + \".jpg\"\n",
    "        img_path = Path(data_path)  / image_folder / img_name\n",
    "        # check image is exist\n",
    "        if not img_path.exists():\n",
    "            continue\n",
    "\n",
    "        x_data.append([img_path, dict_label_to_id[x_csv[i][1]]])\n",
    "    return x_data"
   ]
  },
  {
   "cell_type": "code",
   "execution_count": 93,
   "metadata": {},
   "outputs": [
    {
     "name": "stdout",
     "output_type": "stream",
     "text": [
      "train set size: 430\n",
      "valid set size: 108\n",
      "train set category distribution: \n",
      "\t Counter({0: 177, 1: 99, 3: 79, 4: 38, 2: 37})\n",
      "train set category distribution: \n",
      "\t Counter({0: 45, 1: 25, 3: 20, 2: 9, 4: 9})\n"
     ]
    }
   ],
   "source": [
    "train_image_path_and_label = tran_csv_to_img_path_and_label(train_csv, LOCAL_DATASET_DIR, TRAIN_IMAGE_FOLDER, dict_label_to_id)\n",
    "test_image_path_and_label = tran_csv_to_img_path_and_label(test_csv, LOCAL_DATASET_DIR, EVAL_IMAGE_FOLDER, dict_label_to_id)\n",
    "\n",
    "# # Random split\n",
    "# # train_set, valid_set = train_test_split(train_image_path_and_label, test_size=0.2, random_state=42)\n",
    "# train_set, valid_set = train_test_split(train_image_path_and_label, test_size=0.2, random_state=42, \n",
    "#                                         stratify=[x[1] for x in train_image_path_and_label])\n",
    "train_set = train_image_path_and_label\n",
    "valid_set = test_image_path_and_label\n",
    "\n",
    "\n",
    "print(\"train set size:\", len(train_set))    \n",
    "print(\"valid set size:\", len(valid_set))\n",
    "# print(\"test set size:\", len(test_set))\n",
    "\n",
    "path_list, labels = zip(*train_set)\n",
    "print(\"train set category distribution: \\n\\t\", Counter(labels))\n",
    "\n",
    "path_list, labels = zip(*valid_set)\n",
    "print(\"train set category distribution: \\n\\t\", Counter(labels))"
   ]
  },
  {
   "cell_type": "code",
   "execution_count": 94,
   "metadata": {},
   "outputs": [],
   "source": [
    "def show_img_by_path(img_path):\n",
    "    img = Image.open(img_path)\n",
    "    plt.imshow(img)\n",
    "    plt.show()\n",
    "    print(img.size, type(img))\n",
    "    img = transforms.Resize(IMAGE_INPUT_SIZE)(img)\n",
    "    print(img.size, type(img))\n",
    "    img = transforms.ToTensor()(img)\n",
    "    print(img.shape)\n",
    "    \n",
    "# show_img_by_path(train_set[0][0])"
   ]
  },
  {
   "cell_type": "code",
   "execution_count": 95,
   "metadata": {},
   "outputs": [],
   "source": [
    "from torchvision.io import read_image\n",
    "\n",
    "class UBCDataset(Dataset):\n",
    "    def __init__(self, img_path_and_label, transform=None, target_transform=None):\n",
    "        self.data = img_path_and_label\n",
    "        self.transform = transform\n",
    "        self.target_transform = target_transform\n",
    "\n",
    "    def __len__(self):\n",
    "        return len(self.data)\n",
    "\n",
    "    def __getitem__(self, idx):\n",
    "        # image = read_image(img_path)\n",
    "        image_path, label = self.data[idx]\n",
    "        image = Image.open(image_path)\n",
    "        # print(np.max(image), np.min(image))\n",
    "        if self.transform:\n",
    "            image = self.transform(image)\n",
    "        if self.target_transform:\n",
    "            label = self.target_transform(label)\n",
    "        # print(torch.max(image), torch.min(image))\n",
    "        return image, label\n"
   ]
  },
  {
   "cell_type": "code",
   "execution_count": 96,
   "metadata": {},
   "outputs": [],
   "source": [
    "# put data into dataloader\n",
    "train_transform = transforms.Compose([\n",
    "    transforms.Resize(IMAGE_INPUT_SIZE),\n",
    "    transforms.RandomHorizontalFlip(),\n",
    "    transforms.RandomVerticalFlip(),\n",
    "    transforms.RandomRotation(30),\n",
    "    transforms.ToTensor(),\n",
    "    transforms.Normalize((0.5,), (0.5,))\n",
    "])\n",
    "\n",
    "test_transform = transforms.Compose([\n",
    "    transforms.Resize(IMAGE_INPUT_SIZE),\n",
    "    transforms.ToTensor(),\n",
    "    transforms.Normalize((0.5,), (0.5,))\n",
    "])\n",
    "\n",
    "train_dataset = UBCDataset(train_set, transform=train_transform)\n",
    "valid_dataset = UBCDataset(valid_set, transform=test_transform)\n",
    "# test_dataset = UBCDataset(test_set, transform=test_transform)\n",
    "\n"
   ]
  },
  {
   "cell_type": "code",
   "execution_count": 97,
   "metadata": {},
   "outputs": [],
   "source": [
    "train_dataloader = DataLoader(train_dataset, batch_size=batch_size, shuffle=True, num_workers=0)\n",
    "valid_dataloader = DataLoader(valid_dataset, batch_size=batch_size, shuffle=False, num_workers=0)\n",
    "# test_dataloader = DataLoader(test_dataset, batch_size=batch_size, shuffle=False, num_workers=0)"
   ]
  },
  {
   "cell_type": "code",
   "execution_count": 98,
   "metadata": {},
   "outputs": [],
   "source": [
    "#show image grid\n",
    "def show_image_grid(dataloader, num_of_images=16):\n",
    "    imgs, labels = next(iter(dataloader))\n",
    "    image_grid = torchvision.utils.make_grid(imgs[:num_of_images], nrow=8)\n",
    "    plt.imshow(image_grid.permute(1, 2, 0).numpy())\n",
    "    # plt.show()\n",
    "    print(\"labels:\", labels[:num_of_images], [dict_id_to_label[label.item()] for label in labels[:num_of_images]])\n",
    "\n",
    "# show_image_grid(train_dataloader)"
   ]
  },
  {
   "cell_type": "code",
   "execution_count": 99,
   "metadata": {},
   "outputs": [],
   "source": [
    "# efficientnet = torch.hub.load('NVIDIA/DeepLearningExamples:torchhub', 'nvidia_efficientnet_v2_l', pretrained=True)\n",
    "# efficientnet = torch.hub.load('NVIDIA/DeepLearningExamples:torchhub', 'nvidia_efficientnet_b0', pretrained=True)\n",
    "# efficientnet = torch.hub.load('NVIDIA/DeepLearningExamples:torchhub', 'nvidia_efficientnet_b4', pretrained=True)\n",
    "# efficientnet = torch.hub.load('NVIDIA/DeepLearningExamples:torchhub', 'nvidia_efficientnet_widese_b0', pretrained=True)\n",
    "# efficientnet = torch.hub.load('NVIDIA/DeepLearningExamples:torchhub', 'nvidia_efficientnet_widese_b4', pretrained=True)\n",
    "\n",
    "# print(dir(efficientnet.modules))\n",
    "# print(efficientnet.classifier.fc.in_features)"
   ]
  },
  {
   "cell_type": "code",
   "execution_count": 100,
   "metadata": {},
   "outputs": [],
   "source": [
    "channel_size = [16,32,64,192]\n",
    "subimage_size = (16, 16)\n",
    "\n",
    "downscale_4stage_cnn = Downscale4StageCNN(in_ch=3, channel_sizes=channel_size).to(device)\n",
    "img_att_classifier = ImgAttClassifier(subimage_size = subimage_size).to(device)\n",
    "\n",
    "\n",
    "model_list = [downscale_4stage_cnn, img_att_classifier]\n",
    "\n"
   ]
  },
  {
   "cell_type": "code",
   "execution_count": null,
   "metadata": {},
   "outputs": [],
   "source": []
  },
  {
   "cell_type": "code",
   "execution_count": 101,
   "metadata": {},
   "outputs": [],
   "source": [
    "# print(\"feature_extractor_params:\", len(feature_extractor_params))\n",
    "# print(classifier_head_params)"
   ]
  },
  {
   "cell_type": "code",
   "execution_count": 102,
   "metadata": {},
   "outputs": [],
   "source": [
    "# summary(model_raw, (3, ) + IMAGE_INPUT_SIZE, device=device.type)\n",
    "model_list = [downscale_4stage_cnn, img_att_classifier]\n"
   ]
  },
  {
   "cell_type": "code",
   "execution_count": 103,
   "metadata": {},
   "outputs": [],
   "source": [
    "\n",
    "criteria = nn.CrossEntropyLoss()\n",
    "# optimizer = optim.Adam(model_raw.classifier.parameters(), lr=lr, weight_decay=weight_decay)\n",
    "\n",
    "optimizer = optim.Adam([{\"params\":downscale_4stage_cnn.parameters(), \"lr\":lr}, \n",
    "                        {\"params\":img_att_classifier.parameters(), \"lr\":lr}], \n",
    "                       lr=lr, weight_decay=weight_decay)\n",
    "\n"
   ]
  },
  {
   "cell_type": "code",
   "execution_count": 104,
   "metadata": {},
   "outputs": [],
   "source": [
    "\n",
    "\n",
    "def get_category_accuracy(y_gt: np.array, y_pred: np.array, n_category):\n",
    "    # category_accuracy = np.zeros(n_category)\n",
    "\n",
    "    assert(len(y_gt) == len(y_pred))\n",
    "    assert(len(y_gt.shape) == 1 and len(y_pred.shape) == 1)\n",
    "\n",
    "    cat_mask_2d = (y_gt == np.arange(n_category).reshape(-1, 1))\n",
    "    category_accuracy = ((y_gt == y_pred) * cat_mask_2d).mean(axis=1)\n",
    "\n",
    "    return category_accuracy\n",
    "\n",
    "# a = np.random.randint(0, 5, 10)\n",
    "# b = np.random.randint(0, 5, 10)\n",
    "# print(\"a:\", a)\n",
    "# print(\"b:\", b)\n",
    "\n",
    "# print(\"get_category_accuracy:\", get_category_accuracy(y_gt=a, y_pred=b, n_category=5))"
   ]
  },
  {
   "cell_type": "code",
   "execution_count": 105,
   "metadata": {},
   "outputs": [],
   "source": [
    "def evaluation(model_list, valid_dataloader, criteria, device):\n",
    "        for model in model_list:\n",
    "            model.eval()\n",
    "\n",
    "        downscale_4stage_cnn, img_att_classifier = model_list\n",
    "\n",
    "\n",
    "        valid_loss = 0.0\n",
    "        valid_corrects = 0\n",
    "\n",
    "        y_gt = []\n",
    "        y_pred = []\n",
    "\n",
    "        for imgs, labels in tqdm(valid_dataloader):\n",
    "            imgs = imgs.to(device)\n",
    "            labels = labels.to(device)\n",
    "\n",
    "            with torch.no_grad():                \n",
    "                _, (d1, d2, d3, d4) = downscale_4stage_cnn(imgs)\n",
    "                outputs = img_att_classifier(imgs, d4)\n",
    "                \n",
    "                # outputs = model(imgs)\n",
    "                _, preds = torch.max(outputs, -1)\n",
    "                loss = criteria(outputs, labels)\n",
    "\n",
    "            valid_loss += loss.item() * imgs.size(0)\n",
    "            valid_corrects += torch.sum(preds == labels.data).detach().cpu().numpy()\n",
    "\n",
    "            y_gt.extend(labels.data.cpu().numpy().reshape(-1))\n",
    "            y_pred.extend(preds.cpu().numpy().reshape(-1))\n",
    "            \n",
    "        confusion_matrix_result = confusion_matrix(y_gt, y_pred)\n",
    "        print(\"confusion_matrix_result:\\n\" + str(confusion_matrix_result))\n",
    "        logging.info(\"confusion_matrix_result:\\n\" + str(confusion_matrix_result))\n",
    "\n",
    "        category_accuracy = get_category_accuracy(y_gt=np.array(y_gt), y_pred=np.array(y_pred), n_category=5)\n",
    "        print(\"get_category_accuracy:\" + str(category_accuracy))\n",
    "        logging.info(\"get_category_accuracy:\" + str(category_accuracy))\n",
    "        \n",
    "        valid_loss = valid_loss / len(valid_dataloader.dataset)\n",
    "        valid_acc = valid_corrects / len(valid_dataloader.dataset)\n",
    "\n",
    "        valid_balanced_acc = balanced_accuracy_score(y_gt, y_pred)\n",
    "\n",
    "        return valid_loss, valid_acc, valid_balanced_acc"
   ]
  },
  {
   "cell_type": "code",
   "execution_count": 106,
   "metadata": {},
   "outputs": [],
   "source": [
    "def train(model_list, train_dataloader, valid_dataloader, optimizer, criteria, num_epochs, eval_patience, device):\n",
    "    train_loss_list = []\n",
    "    train_acc_list = []\n",
    "    train_balanced_acc_list = []\n",
    "\n",
    "    valid_loss_list = []\n",
    "    valid_acc_list = []\n",
    "    valid_balanced_acc_list = []\n",
    "\n",
    "    best_valid_loss = float('inf')\n",
    "    best_valid_acc = -0.0001\n",
    "    best_valid_balanced_acc = -0.0001\n",
    "\n",
    "    best_model_valid_loss = None\n",
    "    best_model_valid_acc = None\n",
    "    best_model_valid_balanced_acc = None\n",
    "\n",
    "    start_time = time.time()\n",
    "\n",
    "    counter_eval_not_improve = 0\n",
    "\n",
    "    for epoch in range(num_epochs):\n",
    "        print(f'Epoch {epoch + 1}/{num_epochs}')\n",
    "        print('-' * 10)\n",
    "        logging.info(f'Epoch {epoch + 1}/{num_epochs}')\n",
    "        logging.info('-' * 10)\n",
    "\n",
    "        for model in model_list:\n",
    "            model.train()\n",
    "\n",
    "        downscale_4stage_cnn, img_att_classifier = model_list\n",
    "\n",
    "        train_loss = 0.0\n",
    "        train_corrects = 0\n",
    "        \n",
    "        y_gt = []\n",
    "        y_pred = []\n",
    "\n",
    "        for imgs, labels in tqdm(train_dataloader):\n",
    "            imgs = imgs.to(device)\n",
    "            labels = labels.to(device)\n",
    "\n",
    "            _, (d1, d2, d3, d4) = downscale_4stage_cnn(imgs)\n",
    "            outputs = img_att_classifier(imgs, d4)\n",
    "            # outputs = model(imgs)\n",
    "            _, preds = torch.max(outputs, -1)\n",
    "            \n",
    "            loss_cat = criteria(outputs, labels)\n",
    "            # loss_img = (unet_out - imgs).pow(2).mean()\n",
    "            loss = loss_cat\n",
    "\n",
    "            optimizer.zero_grad()\n",
    "            loss.backward()\n",
    "            optimizer.step()\n",
    "\n",
    "            train_loss += loss.item() * imgs.size(0)\n",
    "            train_corrects += torch.sum(preds == labels.data).detach().cpu().numpy()\n",
    "\n",
    "            y_gt.extend(labels.data.cpu().numpy().reshape(-1))\n",
    "            y_pred.extend(preds.cpu().numpy().reshape(-1))\n",
    "\n",
    "        # print(y_gt)\n",
    "        # print(y_pred)\n",
    "        confusion_matrix_result = confusion_matrix(y_gt, y_pred)\n",
    "        print(\"confusion_matrix_result:\\n\" + str(confusion_matrix_result))\n",
    "        logging.info(\"confusion_matrix_result:\\n\" + str(confusion_matrix_result))\n",
    "\n",
    "        category_accuracy = get_category_accuracy(y_gt=np.array(y_gt), y_pred=np.array(y_pred), n_category=5)\n",
    "        print(\"get_category_accuracy:\" + str(category_accuracy))\n",
    "        logging.info(\"get_category_accuracy:\" + str(category_accuracy))\n",
    "        \n",
    "        train_loss = train_loss / len(train_dataloader.dataset)\n",
    "        train_acc = train_corrects / len(train_dataloader.dataset)\n",
    "        train_balanced_acc = balanced_accuracy_score(y_gt, y_pred)\n",
    "        train_loss_list.append(train_loss)\n",
    "        train_acc_list.append(train_acc)\n",
    "        train_balanced_acc_list.append(train_balanced_acc)\n",
    "\n",
    "        print(f'Train loss: {train_loss:.4f} Acc: {train_acc:.4f} Balanced Acc: {train_balanced_acc:.4f}')\n",
    "        logging.info(f'Train loss: {train_loss:.4f} Acc: {train_acc:.4f} Balanced Acc: {train_balanced_acc:.4f}')\n",
    "        elapsed_time = time.time() - start_time\n",
    "        print(f'Elapsed time: {time.strftime(\"%H:%M:%S\", time.gmtime(elapsed_time))}')\n",
    "        logging.info(f'Elapsed time: {time.strftime(\"%H:%M:%S\", time.gmtime(elapsed_time))}')\n",
    "\n",
    "        valid_loss, valid_acc, valid_balanced_acc = evaluation(model_list, valid_dataloader, criteria, device)\n",
    "\n",
    "        valid_loss_list.append(valid_loss)\n",
    "        valid_acc_list.append(valid_acc)\n",
    "        valid_balanced_acc_list.append(valid_balanced_acc)\n",
    "\n",
    "        if valid_loss < best_valid_loss:\n",
    "            best_valid_loss = valid_loss\n",
    "            best_model_valid_loss = copy.deepcopy(model_list)\n",
    "        \n",
    "        if valid_acc > best_valid_acc:\n",
    "            best_valid_acc = valid_acc\n",
    "            best_model_valid_acc = copy.deepcopy(model_list)\n",
    "        # else:\n",
    "        #     counter_eval_not_improve += 1\n",
    "\n",
    "        if valid_balanced_acc > best_valid_balanced_acc:\n",
    "            best_valid_balanced_acc = valid_balanced_acc\n",
    "            best_model_valid_balanced_acc = copy.deepcopy(model_list)\n",
    "        else:\n",
    "            counter_eval_not_improve += 1\n",
    "\n",
    "\n",
    "        print(f'Valid loss: {valid_loss:.4f} Acc: {valid_acc:.4f} Balanced Acc: {valid_balanced_acc:.4f}')\n",
    "        logging.info(f'Valid loss: {valid_loss:.4f} Acc: {valid_acc:.4f} Balanced Acc: {valid_balanced_acc:.4f}')\n",
    "        elapsed_time = time.time() - start_time\n",
    "        print(f'Elapsed time: {time.strftime(\"%H:%M:%S\", time.gmtime(elapsed_time))}')\n",
    "        logging.info(f'Elapsed time: {time.strftime(\"%H:%M:%S\", time.gmtime(elapsed_time))}')\n",
    "\n",
    "        if counter_eval_not_improve >= eval_patience:\n",
    "            print(f'Early stopping at epoch {epoch + 1}')\n",
    "            logging.info(f'Early stopping at epoch {epoch + 1}')\n",
    "            break\n",
    "        else:\n",
    "            counter_eval_not_improve = 0\n",
    "\n",
    "    return model_list, best_model_valid_acc, best_model_valid_loss, best_model_valid_balanced_acc, \\\n",
    "           train_loss_list, train_acc_list, train_balanced_acc_list, \\\n",
    "           valid_loss_list, valid_acc_list, valid_balanced_acc_list, \\\n",
    "           best_valid_loss, best_valid_acc"
   ]
  },
  {
   "cell_type": "code",
   "execution_count": 107,
   "metadata": {},
   "outputs": [],
   "source": [
    "def store_result(best_model_valid_acc, best_model_valid_loss, best_model_valid_balanced_acc, \\\n",
    "                 train_loss_list, train_acc_list, train_balanced_acc_list, \\\n",
    "                 valid_loss_list, valid_acc_list, valid_balanced_acc_list):\n",
    "    create_dir_if_not_exist(MODEL_SAVE_DIR)\n",
    "    create_dir_if_not_exist(RESULT_DIR)\n",
    "\n",
    "    model_name_list = [\"unet_model\", \"bridging_model\", \"feature_transformer_model\"]\n",
    "    for (model, model_name) in zip(best_model_valid_acc, model_name_list):\n",
    "        torch.save(model.state_dict(), Path(MODEL_SAVE_DIR) / f\"{model_name}_best_model_valid_acc.pth\")\n",
    "\n",
    "    for (model, model_name) in zip(best_model_valid_loss, model_name_list):\n",
    "        torch.save(model.state_dict(), Path(MODEL_SAVE_DIR) / f\"{model_name}_best_model_valid_loss.pth\")\n",
    "\n",
    "    for (model, model_name) in zip(best_model_valid_balanced_acc, model_name_list):\n",
    "        torch.save(model.state_dict(), Path(MODEL_SAVE_DIR) / f\"{model_name}_best_model_valid_balanced_acc.pth\")\n",
    "\n",
    "    # torch.save(best_model_valid_acc.state_dict(), Path(MODEL_SAVE_DIR) / \"best_model_valid_acc.pth\")\n",
    "    # torch.save(best_model_valid_loss.state_dict(), Path(MODEL_SAVE_DIR) / \"best_model_valid_loss.pth\")\n",
    "    # torch.save(best_model_valid_balanced_acc.state_dict(), Path(MODEL_SAVE_DIR) / \"best_model_valid_balanced_acc.pth\")\n",
    "\n",
    "    with open(Path(RESULT_DIR) / \"train_loss_list.pkl\", \"wb\") as f:\n",
    "        pickle.dump(train_loss_list, f)\n",
    "    with open(Path(RESULT_DIR) / \"train_acc_list.pkl\", \"wb\") as f:\n",
    "        pickle.dump(train_acc_list, f)\n",
    "    with open(Path(RESULT_DIR) / \"train_balanced_acc_list.pkl\", \"wb\") as f:\n",
    "        pickle.dump(train_balanced_acc_list, f)\n",
    "\n",
    "    with open(Path(RESULT_DIR) / \"valid_loss_list.pkl\", \"wb\") as f:\n",
    "        pickle.dump(valid_loss_list, f)\n",
    "    with open(Path(RESULT_DIR) / \"valid_acc_list.pkl\", \"wb\") as f:\n",
    "        pickle.dump(valid_acc_list, f)\n",
    "    with open(Path(RESULT_DIR) / \"valid_balanced_acc_list.pkl\", \"wb\") as f:\n",
    "        pickle.dump(valid_balanced_acc_list, f)\n"
   ]
  },
  {
   "cell_type": "code",
   "execution_count": 108,
   "metadata": {},
   "outputs": [],
   "source": [
    "def plot_train_eval_result(\n",
    "           train_loss_list, train_acc_list, train_balanced_acc_list, \\\n",
    "           valid_loss_list, valid_acc_list, valid_balanced_acc_list):\n",
    "    epochs = np.arange(1, len(train_loss_list) + 1)\n",
    "\n",
    "    plt.figure(figsize=(10, 10))\n",
    "    plt.subplot(3, 1, 1)\n",
    "    plt.plot(epochs, train_loss_list, label='train')\n",
    "    plt.plot(epochs, valid_loss_list, label='valid')\n",
    "    plt.title('Loss')\n",
    "    plt.legend()\n",
    "    plt.xlabel('Epoch')\n",
    "    plt.ylabel('Loss')\n",
    "    \n",
    "    plt.subplot(3, 1, 2)\n",
    "    plt.plot(epochs, [x*100 for x in train_acc_list], label='train')\n",
    "    plt.plot(epochs, [x*100 for x in valid_acc_list], label='valid')\n",
    "    plt.title('Accuracy')\n",
    "    plt.legend()\n",
    "    plt.xlabel('Epoch')\n",
    "    plt.ylabel('Accuracy (%)')\n",
    "\n",
    "    plt.subplot(3, 1, 3)\n",
    "    plt.plot(epochs, [x*100 for x in train_balanced_acc_list], label='train')\n",
    "    plt.plot(epochs, [x*100 for x in valid_balanced_acc_list], label='valid')\n",
    "    plt.title('Balanced Accuracy')\n",
    "    plt.legend()\n",
    "    plt.xlabel('Epoch')\n",
    "    plt.ylabel('Balanced Accuracy (%)')\n",
    "\n",
    "    plt.tight_layout()"
   ]
  },
  {
   "cell_type": "code",
   "execution_count": 109,
   "metadata": {},
   "outputs": [
    {
     "name": "stdout",
     "output_type": "stream",
     "text": [
      "Epoch 1/10\n",
      "----------\n"
     ]
    },
    {
     "data": {
      "application/vnd.jupyter.widget-view+json": {
       "model_id": "de590d274d834d3d8ba8bf77528e3b74",
       "version_major": 2,
       "version_minor": 0
      },
      "text/plain": [
       "  0%|          | 0/54 [00:00<?, ?it/s]"
      ]
     },
     "metadata": {},
     "output_type": "display_data"
    },
    {
     "name": "stdout",
     "output_type": "stream",
     "text": [
      "confusion_matrix_result:\n",
      "[[115  35   5  13   9]\n",
      " [ 67  13   4  14   1]\n",
      " [ 28   5   0   2   2]\n",
      " [ 52  16   0   7   4]\n",
      " [ 23   6   3   4   2]]\n",
      "get_category_accuracy:[0.26744186 0.03023256 0.         0.01627907 0.00465116]\n",
      "Train loss: 1.6180 Acc: 0.3186 Balanced Acc: 0.1845\n",
      "Elapsed time: 00:01:48\n"
     ]
    },
    {
     "data": {
      "application/vnd.jupyter.widget-view+json": {
       "model_id": "ef2477053e5b4c8b975f2b144a6c4b20",
       "version_major": 2,
       "version_minor": 0
      },
      "text/plain": [
       "  0%|          | 0/14 [00:00<?, ?it/s]"
      ]
     },
     "metadata": {},
     "output_type": "display_data"
    },
    {
     "name": "stdout",
     "output_type": "stream",
     "text": [
      "confusion_matrix_result:\n",
      "[[30 13  0  2  0]\n",
      " [15  9  0  1  0]\n",
      " [ 4  5  0  0  0]\n",
      " [13  5  0  2  0]\n",
      " [ 5  4  0  0  0]]\n",
      "get_category_accuracy:[0.27777778 0.08333333 0.         0.01851852 0.        ]\n",
      "Valid loss: 1.4734 Acc: 0.3796 Balanced Acc: 0.2253\n",
      "Elapsed time: 00:02:01\n",
      "Epoch 2/10\n",
      "----------\n"
     ]
    },
    {
     "data": {
      "application/vnd.jupyter.widget-view+json": {
       "model_id": "689b5b5e79754e689d2c2fd50beb4439",
       "version_major": 2,
       "version_minor": 0
      },
      "text/plain": [
       "  0%|          | 0/54 [00:00<?, ?it/s]"
      ]
     },
     "metadata": {},
     "output_type": "display_data"
    },
    {
     "name": "stdout",
     "output_type": "stream",
     "text": [
      "confusion_matrix_result:\n",
      "[[127  35   1  14   0]\n",
      " [ 76  19   1   3   0]\n",
      " [ 26   9   0   2   0]\n",
      " [ 57  16   1   5   0]\n",
      " [ 28   7   1   1   1]]\n",
      "get_category_accuracy:[0.29534884 0.04418605 0.         0.01162791 0.00232558]\n",
      "Train loss: 1.5184 Acc: 0.3535 Balanced Acc: 0.1998\n",
      "Elapsed time: 00:03:47\n"
     ]
    },
    {
     "data": {
      "application/vnd.jupyter.widget-view+json": {
       "model_id": "49d3f394fd0344c790faeaf867f41846",
       "version_major": 2,
       "version_minor": 0
      },
      "text/plain": [
       "  0%|          | 0/14 [00:00<?, ?it/s]"
      ]
     },
     "metadata": {},
     "output_type": "display_data"
    },
    {
     "name": "stdout",
     "output_type": "stream",
     "text": [
      "confusion_matrix_result:\n",
      "[[41  2  0  2  0]\n",
      " [23  1  0  1  0]\n",
      " [ 9  0  0  0  0]\n",
      " [17  1  0  2  0]\n",
      " [ 9  0  0  0  0]]\n",
      "get_category_accuracy:[0.37962963 0.00925926 0.         0.01851852 0.        ]\n",
      "Valid loss: 1.5465 Acc: 0.4074 Balanced Acc: 0.2102\n",
      "Elapsed time: 00:03:59\n",
      "Epoch 3/10\n",
      "----------\n"
     ]
    },
    {
     "data": {
      "application/vnd.jupyter.widget-view+json": {
       "model_id": "0ec666baa3784969aee6826e9224b010",
       "version_major": 2,
       "version_minor": 0
      },
      "text/plain": [
       "  0%|          | 0/54 [00:00<?, ?it/s]"
      ]
     },
     "metadata": {},
     "output_type": "display_data"
    },
    {
     "name": "stdout",
     "output_type": "stream",
     "text": [
      "confusion_matrix_result:\n",
      "[[140  23   0  12   2]\n",
      " [ 69  22   0   7   1]\n",
      " [ 26   6   0   5   0]\n",
      " [ 59  13   0   7   0]\n",
      " [ 31   3   0   4   0]]\n",
      "get_category_accuracy:[0.3255814  0.05116279 0.         0.01627907 0.        ]\n",
      "Train loss: 1.5069 Acc: 0.3930 Balanced Acc: 0.2204\n",
      "Elapsed time: 00:05:53\n"
     ]
    },
    {
     "data": {
      "application/vnd.jupyter.widget-view+json": {
       "model_id": "4205e16604ae4f2db57d5ecd33ca7c5f",
       "version_major": 2,
       "version_minor": 0
      },
      "text/plain": [
       "  0%|          | 0/14 [00:00<?, ?it/s]"
      ]
     },
     "metadata": {},
     "output_type": "display_data"
    },
    {
     "name": "stdout",
     "output_type": "stream",
     "text": [
      "confusion_matrix_result:\n",
      "[[39  1  0  5  0]\n",
      " [24  0  0  1  0]\n",
      " [ 4  0  0  5  0]\n",
      " [20  0  0  0  0]\n",
      " [ 7  0  0  2  0]]\n",
      "get_category_accuracy:[0.36111111 0.         0.         0.         0.        ]\n",
      "Valid loss: 1.5033 Acc: 0.3611 Balanced Acc: 0.1733\n",
      "Elapsed time: 00:06:05\n",
      "Epoch 4/10\n",
      "----------\n"
     ]
    },
    {
     "data": {
      "application/vnd.jupyter.widget-view+json": {
       "model_id": "32c8bc8674704cb1a75f2774691fa3ed",
       "version_major": 2,
       "version_minor": 0
      },
      "text/plain": [
       "  0%|          | 0/54 [00:00<?, ?it/s]"
      ]
     },
     "metadata": {},
     "output_type": "display_data"
    },
    {
     "name": "stdout",
     "output_type": "stream",
     "text": [
      "confusion_matrix_result:\n",
      "[[160   6   0  11   0]\n",
      " [ 84   5   0  10   0]\n",
      " [ 31   1   0   5   0]\n",
      " [ 62   5   0  12   0]\n",
      " [ 30   4   0   3   1]]\n",
      "get_category_accuracy:[0.37209302 0.01162791 0.         0.02790698 0.00232558]\n",
      "Train loss: 1.4880 Acc: 0.4140 Balanced Acc: 0.2265\n",
      "Elapsed time: 00:08:00\n"
     ]
    },
    {
     "data": {
      "application/vnd.jupyter.widget-view+json": {
       "model_id": "caf6ea1bfd5f465daf2a0e00adf7e3e8",
       "version_major": 2,
       "version_minor": 0
      },
      "text/plain": [
       "  0%|          | 0/14 [00:00<?, ?it/s]"
      ]
     },
     "metadata": {},
     "output_type": "display_data"
    },
    {
     "name": "stdout",
     "output_type": "stream",
     "text": [
      "confusion_matrix_result:\n",
      "[[45  0  0  0  0]\n",
      " [25  0  0  0  0]\n",
      " [ 9  0  0  0  0]\n",
      " [20  0  0  0  0]\n",
      " [ 9  0  0  0  0]]\n",
      "get_category_accuracy:[0.41666667 0.         0.         0.         0.        ]\n",
      "Valid loss: 1.4476 Acc: 0.4167 Balanced Acc: 0.2000\n",
      "Elapsed time: 00:08:13\n",
      "Epoch 5/10\n",
      "----------\n"
     ]
    },
    {
     "data": {
      "application/vnd.jupyter.widget-view+json": {
       "model_id": "6a37873d0bdc419483ac88ec1c7aa4e2",
       "version_major": 2,
       "version_minor": 0
      },
      "text/plain": [
       "  0%|          | 0/54 [00:00<?, ?it/s]"
      ]
     },
     "metadata": {},
     "output_type": "display_data"
    },
    {
     "ename": "KeyboardInterrupt",
     "evalue": "",
     "output_type": "error",
     "traceback": [
      "\u001b[1;31m---------------------------------------------------------------------------\u001b[0m",
      "\u001b[1;31mKeyboardInterrupt\u001b[0m                         Traceback (most recent call last)",
      "\u001b[1;32m~\\AppData\\Local\\Temp\\ipykernel_16788\\74005327.py\u001b[0m in \u001b[0;36m<module>\u001b[1;34m\u001b[0m\n\u001b[0;32m      3\u001b[0m \u001b[0mvalid_loss_list\u001b[0m\u001b[1;33m,\u001b[0m \u001b[0mvalid_acc_list\u001b[0m\u001b[1;33m,\u001b[0m \u001b[0mvalid_balanced_acc_list\u001b[0m\u001b[1;33m,\u001b[0m\u001b[0;31m \u001b[0m\u001b[0;31m\\\u001b[0m\u001b[1;33m\u001b[0m\u001b[1;33m\u001b[0m\u001b[0m\n\u001b[0;32m      4\u001b[0m \u001b[0mbest_valid_loss\u001b[0m\u001b[1;33m,\u001b[0m \u001b[0mbest_valid_acc\u001b[0m \u001b[1;33m=\u001b[0m\u001b[0;31m \u001b[0m\u001b[0;31m\\\u001b[0m\u001b[1;33m\u001b[0m\u001b[1;33m\u001b[0m\u001b[0m\n\u001b[1;32m----> 5\u001b[1;33m \u001b[0mtrain\u001b[0m\u001b[1;33m(\u001b[0m\u001b[0mmodel_list\u001b[0m\u001b[1;33m,\u001b[0m \u001b[0mtrain_dataloader\u001b[0m\u001b[1;33m,\u001b[0m \u001b[0mvalid_dataloader\u001b[0m\u001b[1;33m,\u001b[0m \u001b[0moptimizer\u001b[0m\u001b[1;33m,\u001b[0m \u001b[0mcriteria\u001b[0m\u001b[1;33m,\u001b[0m \u001b[0mnum_epochs\u001b[0m\u001b[1;33m,\u001b[0m \u001b[0meval_patience\u001b[0m\u001b[1;33m,\u001b[0m \u001b[0mdevice\u001b[0m\u001b[1;33m)\u001b[0m\u001b[1;33m\u001b[0m\u001b[1;33m\u001b[0m\u001b[0m\n\u001b[0m\u001b[0;32m      6\u001b[0m \u001b[1;33m\u001b[0m\u001b[0m\n\u001b[0;32m      7\u001b[0m \u001b[0mprint\u001b[0m\u001b[1;33m(\u001b[0m\u001b[1;34m\"best_valid_loss:\"\u001b[0m\u001b[1;33m,\u001b[0m \u001b[0mnp\u001b[0m\u001b[1;33m.\u001b[0m\u001b[0mmin\u001b[0m\u001b[1;33m(\u001b[0m\u001b[0mvalid_loss_list\u001b[0m\u001b[1;33m)\u001b[0m\u001b[1;33m)\u001b[0m\u001b[1;33m\u001b[0m\u001b[1;33m\u001b[0m\u001b[0m\n",
      "\u001b[1;32m~\\AppData\\Local\\Temp\\ipykernel_16788\\3898056249.py\u001b[0m in \u001b[0;36mtrain\u001b[1;34m(model_list, train_dataloader, valid_dataloader, optimizer, criteria, num_epochs, eval_patience, device)\u001b[0m\n\u001b[0;32m     54\u001b[0m             \u001b[0moptimizer\u001b[0m\u001b[1;33m.\u001b[0m\u001b[0mstep\u001b[0m\u001b[1;33m(\u001b[0m\u001b[1;33m)\u001b[0m\u001b[1;33m\u001b[0m\u001b[1;33m\u001b[0m\u001b[0m\n\u001b[0;32m     55\u001b[0m \u001b[1;33m\u001b[0m\u001b[0m\n\u001b[1;32m---> 56\u001b[1;33m             \u001b[0mtrain_loss\u001b[0m \u001b[1;33m+=\u001b[0m \u001b[0mloss\u001b[0m\u001b[1;33m.\u001b[0m\u001b[0mitem\u001b[0m\u001b[1;33m(\u001b[0m\u001b[1;33m)\u001b[0m \u001b[1;33m*\u001b[0m \u001b[0mimgs\u001b[0m\u001b[1;33m.\u001b[0m\u001b[0msize\u001b[0m\u001b[1;33m(\u001b[0m\u001b[1;36m0\u001b[0m\u001b[1;33m)\u001b[0m\u001b[1;33m\u001b[0m\u001b[1;33m\u001b[0m\u001b[0m\n\u001b[0m\u001b[0;32m     57\u001b[0m             \u001b[0mtrain_corrects\u001b[0m \u001b[1;33m+=\u001b[0m \u001b[0mtorch\u001b[0m\u001b[1;33m.\u001b[0m\u001b[0msum\u001b[0m\u001b[1;33m(\u001b[0m\u001b[0mpreds\u001b[0m \u001b[1;33m==\u001b[0m \u001b[0mlabels\u001b[0m\u001b[1;33m.\u001b[0m\u001b[0mdata\u001b[0m\u001b[1;33m)\u001b[0m\u001b[1;33m.\u001b[0m\u001b[0mdetach\u001b[0m\u001b[1;33m(\u001b[0m\u001b[1;33m)\u001b[0m\u001b[1;33m.\u001b[0m\u001b[0mcpu\u001b[0m\u001b[1;33m(\u001b[0m\u001b[1;33m)\u001b[0m\u001b[1;33m.\u001b[0m\u001b[0mnumpy\u001b[0m\u001b[1;33m(\u001b[0m\u001b[1;33m)\u001b[0m\u001b[1;33m\u001b[0m\u001b[1;33m\u001b[0m\u001b[0m\n\u001b[0;32m     58\u001b[0m \u001b[1;33m\u001b[0m\u001b[0m\n",
      "\u001b[1;31mKeyboardInterrupt\u001b[0m: "
     ]
    }
   ],
   "source": [
    "model_list_trained, best_model_valid_acc, best_model_valid_loss, best_model_valid_balanced_acc, \\\n",
    "train_loss_list, train_acc_list, train_balanced_acc_list, \\\n",
    "valid_loss_list, valid_acc_list, valid_balanced_acc_list, \\\n",
    "best_valid_loss, best_valid_acc = \\\n",
    "train(model_list, train_dataloader, valid_dataloader, optimizer, criteria, num_epochs, eval_patience, device)\n",
    "\n",
    "print(\"best_valid_loss:\", np.min(valid_loss_list))\n",
    "print(\"best_valid_acc:\", np.max(valid_acc_list))\n",
    "print(\"best_valid_balanced_acc:\", np.max(valid_balanced_acc_list))\n"
   ]
  },
  {
   "cell_type": "code",
   "execution_count": null,
   "metadata": {},
   "outputs": [],
   "source": [
    "# # train_loss_list = [data.cpu().item() for data in train_loss_list]\n",
    "# train_acc_list = [data.cpu().item() for data in train_acc_list]\n",
    "# # valid_loss_list = [data.cpu().item() for data in valid_loss_list]\n",
    "# valid_acc_list = [data.cpu().item() for data in valid_acc_list]"
   ]
  },
  {
   "cell_type": "code",
   "execution_count": null,
   "metadata": {},
   "outputs": [],
   "source": [
    "store_result(best_model_valid_acc, best_model_valid_loss, best_model_valid_balanced_acc, \\\n",
    "             train_loss_list, train_acc_list, train_balanced_acc_list, \\\n",
    "             valid_loss_list, valid_acc_list, valid_balanced_acc_list)"
   ]
  },
  {
   "cell_type": "code",
   "execution_count": null,
   "metadata": {},
   "outputs": [],
   "source": [
    "plot_train_eval_result(\n",
    "           train_loss_list, train_acc_list, train_balanced_acc_list, \\\n",
    "           valid_loss_list, valid_acc_list, valid_balanced_acc_list)\n"
   ]
  },
  {
   "cell_type": "code",
   "execution_count": null,
   "metadata": {},
   "outputs": [],
   "source": []
  },
  {
   "cell_type": "markdown",
   "metadata": {},
   "source": []
  },
  {
   "cell_type": "code",
   "execution_count": null,
   "metadata": {},
   "outputs": [],
   "source": [
    "# efficientnet = torch.hub.load('NVIDIA/DeepLearningExamples:torchhub', 'nvidia_efficientnet_b0', pretrained=True)\n",
    "# utils = torch.hub.load('NVIDIA/DeepLearningExamples:torchhub', 'nvidia_convnets_processing_utils')\n",
    "\n",
    "# efficientnet.eval().to(device)\n"
   ]
  },
  {
   "cell_type": "code",
   "execution_count": null,
   "metadata": {},
   "outputs": [],
   "source": [
    "# # Download an example image\n",
    "# import urllib\n",
    "# url, filename = (\"https://github.com/mateuszbuda/brain-segmentation-pytorch/raw/master/assets/TCGA_CS_4944.png\", \"TCGA_CS_4944.png\")\n",
    "# try: urllib.URLopener().retrieve(url, filename)\n",
    "# except: urllib.request.urlretrieve(url, filename)\n"
   ]
  },
  {
   "cell_type": "code",
   "execution_count": null,
   "metadata": {},
   "outputs": [],
   "source": [
    "# model = torch.hub.load('mateuszbuda/brain-segmentation-pytorch', 'unet',\n",
    "#     in_channels=3, out_channels=1, init_features=32, pretrained=True)\n"
   ]
  },
  {
   "cell_type": "code",
   "execution_count": null,
   "metadata": {},
   "outputs": [],
   "source": [
    "# import numpy as np\n",
    "# from PIL import Image\n",
    "# from torchvision import transforms\n",
    "\n",
    "# input_image = Image.open(filename)\n",
    "# m, s = np.mean(input_image, axis=(0, 1)), np.std(input_image, axis=(0, 1))\n",
    "# preprocess = transforms.Compose([\n",
    "#     transforms.ToTensor(),\n",
    "#     transforms.Normalize(mean=m, std=s),\n",
    "# ])\n",
    "# input_tensor = preprocess(input_image)\n",
    "# input_batch = input_tensor.unsqueeze(0)\n",
    "\n",
    "# if torch.cuda.is_available():\n",
    "#     input_batch = input_batch.to('cuda')\n",
    "#     model = model.to('cuda')\n",
    "\n",
    "# with torch.no_grad():\n",
    "#     output = model(input_batch)\n",
    "\n",
    "# print(torch.round(output[0]))"
   ]
  }
 ],
 "metadata": {
  "kernelspec": {
   "display_name": "py39",
   "language": "python",
   "name": "python3"
  },
  "language_info": {
   "codemirror_mode": {
    "name": "ipython",
    "version": 3
   },
   "file_extension": ".py",
   "mimetype": "text/x-python",
   "name": "python",
   "nbconvert_exporter": "python",
   "pygments_lexer": "ipython3",
   "version": "3.9.13"
  }
 },
 "nbformat": 4,
 "nbformat_minor": 2
}
