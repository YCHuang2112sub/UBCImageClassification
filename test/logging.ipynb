{
 "cells": [
  {
   "cell_type": "code",
   "execution_count": null,
   "metadata": {},
   "outputs": [],
   "source": []
  },
  {
   "cell_type": "code",
   "execution_count": 4,
   "metadata": {},
   "outputs": [],
   "source": [
    "import logging\n",
    "import time\n"
   ]
  },
  {
   "cell_type": "code",
   "execution_count": 2,
   "metadata": {},
   "outputs": [],
   "source": [
    "# # logging.basicConfig(level=logging.DEBUG)\n",
    "\n",
    "\n",
    "\n",
    "# logging.basicConfig(level=logging.INFO, filename='log.txt', filemode='w',\n",
    "logging.basicConfig(level=logging.DEBUG, filename='log.txt', filemode='w',\n",
    "\tformat='[%(asctime)s %(levelname)-8s] %(message)s',\n",
    "\tdatefmt='%Y%m%d %H:%M:%S',\n",
    "\t)"
   ]
  },
  {
   "cell_type": "code",
   "execution_count": 6,
   "metadata": {},
   "outputs": [],
   "source": [
    "\n",
    "# logging.debug('debug')\n",
    "# logging.info('info')\n",
    "# logging.warning('warning')\n",
    "# logging.error('error')\n",
    "# logging.critical('critical')\n",
    "\n",
    "if __name__ == \"__main__\":\n",
    "\tlogging.debug('debug')\n",
    "\tlogging.info('info')\n",
    "\tlogging.warning('warning')\n",
    "\tlogging.error('error')\n",
    "\tlogging.critical('critical')\n",
    "\ttime.sleep(5)\n"
   ]
  },
  {
   "cell_type": "code",
   "execution_count": null,
   "metadata": {},
   "outputs": [],
   "source": []
  }
 ],
 "metadata": {
  "kernelspec": {
   "display_name": "py39",
   "language": "python",
   "name": "python3"
  },
  "language_info": {
   "codemirror_mode": {
    "name": "ipython",
    "version": 3
   },
   "file_extension": ".py",
   "mimetype": "text/x-python",
   "name": "python",
   "nbconvert_exporter": "python",
   "pygments_lexer": "ipython3",
   "version": "3.9.13"
  }
 },
 "nbformat": 4,
 "nbformat_minor": 2
}
