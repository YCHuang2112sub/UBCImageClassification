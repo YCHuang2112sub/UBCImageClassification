{
 "cells": [
  {
   "cell_type": "code",
   "execution_count": null,
   "metadata": {},
   "outputs": [],
   "source": []
  },
  {
   "cell_type": "code",
   "execution_count": 1,
   "metadata": {},
   "outputs": [],
   "source": [
    "from pathlib import Path\n",
    "import subprocess"
   ]
  },
  {
   "cell_type": "code",
   "execution_count": 2,
   "metadata": {},
   "outputs": [
    {
     "name": "stdout",
     "output_type": "stream",
     "text": [
      "experiment\\exp_efficientnet\n",
      "<class 'pathlib.WindowsPath'>\n",
      "\t experiment\\exp_efficientnet\\a0\n",
      "\t\t experiment\\exp_efficientnet\\a0\\train_eval_efficient_net.ipynb\n",
      "experiment\\exp_subimg_att\n",
      "<class 'pathlib.WindowsPath'>\n",
      "\t experiment\\exp_subimg_att\\a0\n",
      "\t\t experiment\\exp_subimg_att\\a0\\train_eval_subimg_att.ipynb\n",
      "experiment\\exp_unet_transformer\n",
      "<class 'pathlib.WindowsPath'>\n",
      "\t experiment\\exp_unet_transformer\\a0\n",
      "\t\t experiment\\exp_unet_transformer\\a0\\train_eval_unet_transformer.ipynb\n"
     ]
    }
   ],
   "source": [
    "# list all files in the Path\n",
    "for path1 in Path('experiment').iterdir():\n",
    "    print(path1)\n",
    "    print(type(path1))\n",
    "    for path2 in path1.iterdir():\n",
    "        print(\"\\t\", path2)\n",
    "        for f in path2.glob('*.ipynb'):\n",
    "            print(\"\\t\\t\", f)\n",
    "            subprocess.run(['jupyter', 'nbconvert', '--to', 'python', f])\n"
   ]
  },
  {
   "cell_type": "code",
   "execution_count": null,
   "metadata": {},
   "outputs": [],
   "source": []
  }
 ],
 "metadata": {
  "kernelspec": {
   "display_name": "py39",
   "language": "python",
   "name": "python3"
  },
  "language_info": {
   "codemirror_mode": {
    "name": "ipython",
    "version": 3
   },
   "file_extension": ".py",
   "mimetype": "text/x-python",
   "name": "python",
   "nbconvert_exporter": "python",
   "pygments_lexer": "ipython3",
   "version": "3.9.13"
  }
 },
 "nbformat": 4,
 "nbformat_minor": 2
}
